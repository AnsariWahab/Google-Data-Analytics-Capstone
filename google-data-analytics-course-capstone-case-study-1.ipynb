{
 "cells": [
  {
   "cell_type": "markdown",
   "id": "ffad2b24",
   "metadata": {
    "papermill": {
     "duration": 0.015213,
     "end_time": "2022-11-02T11:36:30.454396",
     "exception": false,
     "start_time": "2022-11-02T11:36:30.439183",
     "status": "completed"
    },
    "tags": []
   },
   "source": [
    "# Table of Contents\n",
    "\n",
    "* [Introduction](#Introduction)\n",
    "* [Ask](#ask)\n",
    "    * [Guiding questions](#ask-guiding)\n",
    "    * [Key tasks](#ask-key)\n",
    "    * [Deliverable](#ask-deliverable)\n",
    "* [Prepare](#prepare)\n",
    "    * [Guiding questions](#prepare-guiding)\n",
    "    * [Key tasks](#prepare-key)\n",
    "    * [Deliverable](#prepare-deliverable)\n",
    "* [Process](#process)\n",
    "    * [Liberaries](#process-code-libraries)\n",
    "    * [Merging Dta](#process-code-merging)\n",
    "    * [Data cleaning](#process-code-data)\n",
    "    * [Manipulating the data](#process-code-manipulating)\n",
    "    * [Guiding questions](#process-guiding)\n",
    "    * [Key tasks](#process-key)\n",
    "    * [Deliverable](#process-deliverable)\n",
    "* [Analyze](#analyze)\n",
    "    * [Data distribution](#analyze-code-data)\n",
    "    * [Guiding questions](#analyze-guiding)\n",
    "    * [Key tasks](#analyze-key)\n",
    "    * [Deliverable](#analyze-deliverable)\n",
    "* [Share](#share)\n",
    "    * [Guiding questions](#share-guiding)\n",
    "    * [Key tasks](#share-key)\n",
    "    * [Deliverable](#share-deliverable)\n",
    "* [Act](#act)\n",
    "    * [Guiding questions](#act-guiding)\n",
    "    * [Key tasks](#act-key)\n",
    "    * [Deliverable](#act-deliverable)\n",
    "* [Conclusion](#conclusion)"
   ]
  },
  {
   "cell_type": "markdown",
   "id": "e4fa8e17",
   "metadata": {
    "papermill": {
     "duration": 0.012661,
     "end_time": "2022-11-02T11:36:30.480075",
     "exception": false,
     "start_time": "2022-11-02T11:36:30.467414",
     "status": "completed"
    },
    "tags": []
   },
   "source": [
    "<a id=\"Introduction\"></a>\n",
    "#  Introduction \n",
    "This is my Notebook of the Google Data Analytics Capstone - Case Study 1.\n",
    "This Notebook will follow the steps of the data analysis process: Ask, Prepare, Process, Analyze, Share, and Act."
   ]
  },
  {
   "cell_type": "markdown",
   "id": "af8d862b",
   "metadata": {
    "papermill": {
     "duration": 0.013303,
     "end_time": "2022-11-02T11:36:30.507144",
     "exception": false,
     "start_time": "2022-11-02T11:36:30.493841",
     "status": "completed"
    },
    "tags": []
   },
   "source": [
    "<a id=\"ask\"></a>\n",
    "# Ask\n",
    "\n",
    "For the ask step, first let's get some context from the cyclistic document:"
   ]
  },
  {
   "cell_type": "markdown",
   "id": "91831d61",
   "metadata": {
    "papermill": {
     "duration": 0.012431,
     "end_time": "2022-11-02T11:36:30.532027",
     "exception": false,
     "start_time": "2022-11-02T11:36:30.519596",
     "status": "completed"
    },
    "tags": []
   },
   "source": [
    "Scenario\n",
    "\n",
    "You are a junior data analyst working in the marketing analyst team at Cyclistic, a bike-share company in Chicago. The director of marketing believes the company’s future success depends on maximizing the number of annual memberships. Therefore, your team wants to understand how casual riders and annual members use Cyclistic bikes dierently. From these insights, your team will design a new marketing strategy to convert casual riders into annual members. But first, Cyclistic executives must approve your recommendations, so they must be backed up with compelling data insights and professional data visualizations.\n",
    "\n",
    "Characters and teams\n",
    "Cyclistic: A bike-share program that features more than 5,800 bicycles and 600 docking stations. Cyclistic sets itself apart by also oering reclining bikes, hand tricycles, and cargo bikes, making bike-share more inclusive to people with disabilities and riders who can’t use a standard two-wheeled bike. The majority of riders opt for traditional bikes; about 8% of riders use the assistive options. Cyclistic users are more likely to ride for leisure, but about 30% use them to commute to work each day.\n",
    "Lily Moreno: The director of marketing and your manager. Moreno is responsible for the development of campaigns and initiatives to promote the bike-share program. These may include email, social media, and other channels.\n",
    "Cyclistic marketing analytics team: A team of data analysts who are responsible for collecting, analyzing, and reporting data that helps guide Cyclistic marketing strategy. You joined this team six months ago and have been busy learning about Cyclistic’s mission and business goals — as well as how you, as a junior data analyst, can help Cyclistic achieve them.\n",
    "Cyclistic executive team: The notoriously detail-oriented executive team will decide whether to approve the recommended marketing program."
   ]
  },
  {
   "cell_type": "markdown",
   "id": "986fd006",
   "metadata": {
    "papermill": {
     "duration": 0.012753,
     "end_time": "2022-11-02T11:36:30.557335",
     "exception": false,
     "start_time": "2022-11-02T11:36:30.544582",
     "status": "completed"
    },
    "tags": []
   },
   "source": [
    "<a id=\"ask-guiding\"></a>\n",
    "### Guiding questions\n",
    "\n",
    "* **What is the problem you are trying to solve?**\n",
    "\n",
    "The main objective is to determine How do annual members and casual riders use Cyclistic bikes differently?\n",
    "\n",
    "* **How can your insights drive business decisions?**\n",
    "\n",
    "My insights could help company turn casual riders into member."
   ]
  },
  {
   "cell_type": "markdown",
   "id": "6ff7ed83",
   "metadata": {
    "papermill": {
     "duration": 0.012281,
     "end_time": "2022-11-02T11:36:30.582048",
     "exception": false,
     "start_time": "2022-11-02T11:36:30.569767",
     "status": "completed"
    },
    "tags": []
   },
   "source": [
    "<a id=\"ask-key\"></a>\n",
    "### Key tasks\n",
    "\n",
    "* [x] Identify the business task\n",
    "* [x] Consider key stakeholders"
   ]
  },
  {
   "cell_type": "markdown",
   "id": "2747a726",
   "metadata": {
    "papermill": {
     "duration": 0.012394,
     "end_time": "2022-11-02T11:36:30.606686",
     "exception": false,
     "start_time": "2022-11-02T11:36:30.594292",
     "status": "completed"
    },
    "tags": []
   },
   "source": [
    "<a id=\"ask-deliverable\"></a>\n",
    "### Deliverable\n",
    "\n",
    "* [x] A clear statement of the business task\n",
    "\n",
    "Find the keys differences between casual and members riders and how digital midia could influence them"
   ]
  },
  {
   "cell_type": "markdown",
   "id": "3d86172c",
   "metadata": {
    "papermill": {
     "duration": 0.012663,
     "end_time": "2022-11-02T11:36:30.631645",
     "exception": false,
     "start_time": "2022-11-02T11:36:30.618982",
     "status": "completed"
    },
    "tags": []
   },
   "source": [
    "<a id=\"prepare\"></a>\n",
    "# Prepare\n",
    "\n",
    "The project will use the data provided by [this kaggle dataset](https://www.kaggle.com/datasets/wahabuddinansari/google-data-analytics-course-capstone-casestudy1) But Google also provided their own [link](https://divvy-tripdata.s3.amazonaws.com/index.html) with the same dataset but expanded with more years and station descriptions. Except 2 Columns : **ride_length** and **day_of_week**."
   ]
  },
  {
   "cell_type": "markdown",
   "id": "5ed109a2",
   "metadata": {
    "papermill": {
     "duration": 0.012223,
     "end_time": "2022-11-02T11:36:30.656340",
     "exception": false,
     "start_time": "2022-11-02T11:36:30.644117",
     "status": "completed"
    },
    "tags": []
   },
   "source": [
    "<a id=\"prepare-guiding\"></a>\n",
    "### Guiding questions\n",
    "\n",
    "* **Where is your data located?**\n",
    "\n",
    "The data is located in [this kaggle dataset](https://www.kaggle.com/datasets/wahabuddinansari/google-data-analytics-course-capstone-casestudy1).\n",
    "\n",
    "* **How is the data organized?**\n",
    "\n",
    "The data is separated by month, each on it's own csv.\n",
    "\n",
    "* **Are there issues with bias or credibility in this data? Does your data ROCCC?**\n",
    "\n",
    "Bias isn't a problem, the population of the dataset is it's own clients as bike riders. And have full credibility for the same reason. And finally, it's ROCCC because it's reliable, original, comprehensive, current and cited.\n",
    "\n",
    "* **How are you addressing licensing, privacy, security, and accessibility?**\n",
    "\n",
    "The company has their own licence over the dataset. Besides that, the dataset doesn't have any personal information about the riders.\n",
    "\n",
    "* **How did you verify the data’s integrity?**\n",
    "\n",
    "All the files have consistent columns and each column has the correct type of data.\n",
    "\n",
    "* **How does it help you answer your question?**\n",
    "\n",
    "It may have some key insights about the riders and their riding style\n",
    "\n",
    "* **Are there any problems with the data?**\n",
    "\n",
    "It would be good to have some updated information about the bike stations. Also more information about the riders could be useful."
   ]
  },
  {
   "cell_type": "markdown",
   "id": "b37ba0e3",
   "metadata": {
    "papermill": {
     "duration": 0.012207,
     "end_time": "2022-11-02T11:36:30.680777",
     "exception": false,
     "start_time": "2022-11-02T11:36:30.668570",
     "status": "completed"
    },
    "tags": []
   },
   "source": [
    "<a id=\"prepare-key\"></a>\n",
    "### Key tasks\n",
    "\n",
    "* [x] Download data and store it appropriately.\n",
    "* [x] Identify how it’s organized.\n",
    "* [x] Sort and filter the data.\n",
    "* [x] Determine the credibility of the data."
   ]
  },
  {
   "cell_type": "markdown",
   "id": "02d40f68",
   "metadata": {
    "papermill": {
     "duration": 0.012258,
     "end_time": "2022-11-02T11:36:30.705160",
     "exception": false,
     "start_time": "2022-11-02T11:36:30.692902",
     "status": "completed"
    },
    "tags": []
   },
   "source": [
    "<a id=\"prepare-deliverable\"></a>\n",
    "### Deliverable\n",
    "\n",
    "* [x] A description of all data sources used\n",
    "\n",
    "The main data source is 12 months (Between Oct 2021 and Nov 2022) of riding data provided by the Cicylistic company."
   ]
  },
  {
   "cell_type": "markdown",
   "id": "31138c59",
   "metadata": {
    "papermill": {
     "duration": 0.012376,
     "end_time": "2022-11-02T11:36:30.729793",
     "exception": false,
     "start_time": "2022-11-02T11:36:30.717417",
     "status": "completed"
    },
    "tags": []
   },
   "source": [
    "<a id=\"process\"></a>\n",
    "# Process\n",
    "\n",
    "This step will prepare the data for analysis. All the csv files will be merged into one file to improve workflow"
   ]
  },
  {
   "cell_type": "markdown",
   "id": "f1c5af64",
   "metadata": {
    "papermill": {
     "duration": 0.012403,
     "end_time": "2022-11-02T11:36:30.754522",
     "exception": false,
     "start_time": "2022-11-02T11:36:30.742119",
     "status": "completed"
    },
    "tags": []
   },
   "source": [
    "<a id=\"process-code-libraries\"></a>\n",
    "### Installing the necessary Packages"
   ]
  },
  {
   "cell_type": "code",
   "execution_count": 1,
   "id": "2767cb85",
   "metadata": {
    "execution": {
     "iopub.execute_input": "2022-11-02T11:36:30.782725Z",
     "iopub.status.busy": "2022-11-02T11:36:30.781082Z",
     "iopub.status.idle": "2022-11-02T11:36:31.989125Z",
     "shell.execute_reply": "2022-11-02T11:36:31.987885Z"
    },
    "papermill": {
     "duration": 1.224755,
     "end_time": "2022-11-02T11:36:31.991518",
     "exception": false,
     "start_time": "2022-11-02T11:36:30.766763",
     "status": "completed"
    },
    "tags": []
   },
   "outputs": [
    {
     "name": "stderr",
     "output_type": "stream",
     "text": [
      "── \u001b[1mAttaching packages\u001b[22m ─────────────────────────────────────── tidyverse 1.3.2 ──\n",
      "\u001b[32m✔\u001b[39m \u001b[34mggplot2\u001b[39m 3.3.6      \u001b[32m✔\u001b[39m \u001b[34mpurrr  \u001b[39m 0.3.5 \n",
      "\u001b[32m✔\u001b[39m \u001b[34mtibble \u001b[39m 3.1.8      \u001b[32m✔\u001b[39m \u001b[34mdplyr  \u001b[39m 1.0.10\n",
      "\u001b[32m✔\u001b[39m \u001b[34mtidyr  \u001b[39m 1.2.1      \u001b[32m✔\u001b[39m \u001b[34mstringr\u001b[39m 1.4.1 \n",
      "\u001b[32m✔\u001b[39m \u001b[34mreadr  \u001b[39m 2.1.3      \u001b[32m✔\u001b[39m \u001b[34mforcats\u001b[39m 0.5.2 \n",
      "── \u001b[1mConflicts\u001b[22m ────────────────────────────────────────── tidyverse_conflicts() ──\n",
      "\u001b[31m✖\u001b[39m \u001b[34mdplyr\u001b[39m::\u001b[32mfilter()\u001b[39m masks \u001b[34mstats\u001b[39m::filter()\n",
      "\u001b[31m✖\u001b[39m \u001b[34mdplyr\u001b[39m::\u001b[32mlag()\u001b[39m    masks \u001b[34mstats\u001b[39m::lag()\n",
      "\n",
      "Attaching package: ‘lubridate’\n",
      "\n",
      "\n",
      "The following objects are masked from ‘package:base’:\n",
      "\n",
      "    date, intersect, setdiff, union\n",
      "\n",
      "\n"
     ]
    }
   ],
   "source": [
    "library(tidyverse)\n",
    "library(lubridate)"
   ]
  },
  {
   "cell_type": "code",
   "execution_count": 2,
   "id": "835e52b3",
   "metadata": {
    "execution": {
     "iopub.execute_input": "2022-11-02T11:36:32.043704Z",
     "iopub.status.busy": "2022-11-02T11:36:32.019743Z",
     "iopub.status.idle": "2022-11-02T11:36:59.729167Z",
     "shell.execute_reply": "2022-11-02T11:36:59.727877Z"
    },
    "papermill": {
     "duration": 27.72669,
     "end_time": "2022-11-02T11:36:59.731384",
     "exception": false,
     "start_time": "2022-11-02T11:36:32.004694",
     "status": "completed"
    },
    "tags": []
   },
   "outputs": [
    {
     "name": "stderr",
     "output_type": "stream",
     "text": [
      "\u001b[1mRows: \u001b[22m\u001b[34m631226\u001b[39m \u001b[1mColumns: \u001b[22m\u001b[34m15\u001b[39m\n",
      "\u001b[36m──\u001b[39m \u001b[1mColumn specification\u001b[22m \u001b[36m────────────────────────────────────────────────────────\u001b[39m\n",
      "\u001b[1mDelimiter:\u001b[22m \",\"\n",
      "\u001b[31mchr\u001b[39m  (9): ride_id, rideable_type, started_at, ended_at, start_station_name, ...\n",
      "\u001b[32mdbl\u001b[39m  (5): start_lat, start_lng, end_lat, end_lng, day_of_week\n",
      "\u001b[34mtime\u001b[39m (1): ride_length\n",
      "\n",
      "\u001b[36mℹ\u001b[39m Use `spec()` to retrieve the full column specification for this data.\n",
      "\u001b[36mℹ\u001b[39m Specify the column types or set `show_col_types = FALSE` to quiet this message.\n",
      "\u001b[1m\u001b[22mNew names:\n",
      "\u001b[36m•\u001b[39m `` -> `...16`\n",
      "\u001b[36m•\u001b[39m `` -> `...17`\n",
      "\u001b[36m•\u001b[39m `` -> `...18`\n",
      "Warning message:\n",
      "“\u001b[1m\u001b[22mOne or more parsing issues, call `problems()` on your data frame for details,\n",
      "e.g.:\n",
      "  dat <- vroom(...)\n",
      "  problems(dat)”\n",
      "\u001b[1mRows: \u001b[22m\u001b[34m359978\u001b[39m \u001b[1mColumns: \u001b[22m\u001b[34m18\u001b[39m\n",
      "\u001b[36m──\u001b[39m \u001b[1mColumn specification\u001b[22m \u001b[36m────────────────────────────────────────────────────────\u001b[39m\n",
      "\u001b[1mDelimiter:\u001b[22m \",\"\n",
      "\u001b[31mchr\u001b[39m  (9): ride_id, rideable_type, started_at, ended_at, start_station_name, ...\n",
      "\u001b[32mdbl\u001b[39m  (5): start_lat, start_lng, end_lat, end_lng, day_of_week\n",
      "\u001b[33mlgl\u001b[39m  (3): ...16, ...17, ...18\n",
      "\u001b[34mtime\u001b[39m (1): ride_length\n",
      "\n",
      "\u001b[36mℹ\u001b[39m Use `spec()` to retrieve the full column specification for this data.\n",
      "\u001b[36mℹ\u001b[39m Specify the column types or set `show_col_types = FALSE` to quiet this message.\n",
      "\u001b[1mRows: \u001b[22m\u001b[34m247540\u001b[39m \u001b[1mColumns: \u001b[22m\u001b[34m15\u001b[39m\n",
      "\u001b[36m──\u001b[39m \u001b[1mColumn specification\u001b[22m \u001b[36m────────────────────────────────────────────────────────\u001b[39m\n",
      "\u001b[1mDelimiter:\u001b[22m \",\"\n",
      "\u001b[31mchr\u001b[39m  (9): ride_id, rideable_type, started_at, ended_at, start_station_name, ...\n",
      "\u001b[32mdbl\u001b[39m  (5): start_lat, start_lng, end_lat, end_lng, day_of_week\n",
      "\u001b[34mtime\u001b[39m (1): ride_length\n",
      "\n",
      "\u001b[36mℹ\u001b[39m Use `spec()` to retrieve the full column specification for this data.\n",
      "\u001b[36mℹ\u001b[39m Specify the column types or set `show_col_types = FALSE` to quiet this message.\n",
      "\u001b[1mRows: \u001b[22m\u001b[34m103770\u001b[39m \u001b[1mColumns: \u001b[22m\u001b[34m15\u001b[39m\n",
      "\u001b[36m──\u001b[39m \u001b[1mColumn specification\u001b[22m \u001b[36m────────────────────────────────────────────────────────\u001b[39m\n",
      "\u001b[1mDelimiter:\u001b[22m \",\"\n",
      "\u001b[31mchr\u001b[39m  (9): ride_id, rideable_type, started_at, ended_at, start_station_name, ...\n",
      "\u001b[32mdbl\u001b[39m  (5): start_lat, start_lng, end_lat, end_lng, day_of_week\n",
      "\u001b[34mtime\u001b[39m (1): ride_length\n",
      "\n",
      "\u001b[36mℹ\u001b[39m Use `spec()` to retrieve the full column specification for this data.\n",
      "\u001b[36mℹ\u001b[39m Specify the column types or set `show_col_types = FALSE` to quiet this message.\n",
      "\u001b[1mRows: \u001b[22m\u001b[34m115609\u001b[39m \u001b[1mColumns: \u001b[22m\u001b[34m15\u001b[39m\n",
      "\u001b[36m──\u001b[39m \u001b[1mColumn specification\u001b[22m \u001b[36m────────────────────────────────────────────────────────\u001b[39m\n",
      "\u001b[1mDelimiter:\u001b[22m \",\"\n",
      "\u001b[31mchr\u001b[39m  (9): ride_id, rideable_type, started_at, ended_at, start_station_name, ...\n",
      "\u001b[32mdbl\u001b[39m  (5): start_lat, start_lng, end_lat, end_lng, day_of_week\n",
      "\u001b[34mtime\u001b[39m (1): ride_length\n",
      "\n",
      "\u001b[36mℹ\u001b[39m Use `spec()` to retrieve the full column specification for this data.\n",
      "\u001b[36mℹ\u001b[39m Specify the column types or set `show_col_types = FALSE` to quiet this message.\n",
      "Warning message:\n",
      "“\u001b[1m\u001b[22mOne or more parsing issues, call `problems()` on your data frame for details,\n",
      "e.g.:\n",
      "  dat <- vroom(...)\n",
      "  problems(dat)”\n",
      "\u001b[1mRows: \u001b[22m\u001b[34m284042\u001b[39m \u001b[1mColumns: \u001b[22m\u001b[34m15\u001b[39m\n",
      "\u001b[36m──\u001b[39m \u001b[1mColumn specification\u001b[22m \u001b[36m────────────────────────────────────────────────────────\u001b[39m\n",
      "\u001b[1mDelimiter:\u001b[22m \",\"\n",
      "\u001b[31mchr\u001b[39m  (9): ride_id, rideable_type, started_at, ended_at, start_station_name, ...\n",
      "\u001b[32mdbl\u001b[39m  (5): start_lat, start_lng, end_lat, end_lng, day_of_week\n",
      "\u001b[34mtime\u001b[39m (1): ride_length\n",
      "\n",
      "\u001b[36mℹ\u001b[39m Use `spec()` to retrieve the full column specification for this data.\n",
      "\u001b[36mℹ\u001b[39m Specify the column types or set `show_col_types = FALSE` to quiet this message.\n",
      "\u001b[1mRows: \u001b[22m\u001b[34m371249\u001b[39m \u001b[1mColumns: \u001b[22m\u001b[34m15\u001b[39m\n",
      "\u001b[36m──\u001b[39m \u001b[1mColumn specification\u001b[22m \u001b[36m────────────────────────────────────────────────────────\u001b[39m\n",
      "\u001b[1mDelimiter:\u001b[22m \",\"\n",
      "\u001b[31mchr\u001b[39m  (9): ride_id, rideable_type, started_at, ended_at, start_station_name, ...\n",
      "\u001b[32mdbl\u001b[39m  (5): start_lat, start_lng, end_lat, end_lng, day_of_week\n",
      "\u001b[34mtime\u001b[39m (1): ride_length\n",
      "\n",
      "\u001b[36mℹ\u001b[39m Use `spec()` to retrieve the full column specification for this data.\n",
      "\u001b[36mℹ\u001b[39m Specify the column types or set `show_col_types = FALSE` to quiet this message.\n",
      "Warning message:\n",
      "“\u001b[1m\u001b[22mOne or more parsing issues, call `problems()` on your data frame for details,\n",
      "e.g.:\n",
      "  dat <- vroom(...)\n",
      "  problems(dat)”\n",
      "\u001b[1mRows: \u001b[22m\u001b[34m634858\u001b[39m \u001b[1mColumns: \u001b[22m\u001b[34m15\u001b[39m\n",
      "\u001b[36m──\u001b[39m \u001b[1mColumn specification\u001b[22m \u001b[36m────────────────────────────────────────────────────────\u001b[39m\n",
      "\u001b[1mDelimiter:\u001b[22m \",\"\n",
      "\u001b[31mchr\u001b[39m  (9): ride_id, rideable_type, started_at, ended_at, start_station_name, ...\n",
      "\u001b[32mdbl\u001b[39m  (5): start_lat, start_lng, end_lat, end_lng, day_of_week\n",
      "\u001b[34mtime\u001b[39m (1): ride_length\n",
      "\n",
      "\u001b[36mℹ\u001b[39m Use `spec()` to retrieve the full column specification for this data.\n",
      "\u001b[36mℹ\u001b[39m Specify the column types or set `show_col_types = FALSE` to quiet this message.\n",
      "Warning message:\n",
      "“\u001b[1m\u001b[22mOne or more parsing issues, call `problems()` on your data frame for details,\n",
      "e.g.:\n",
      "  dat <- vroom(...)\n",
      "  problems(dat)”\n",
      "\u001b[1mRows: \u001b[22m\u001b[34m769204\u001b[39m \u001b[1mColumns: \u001b[22m\u001b[34m15\u001b[39m\n",
      "\u001b[36m──\u001b[39m \u001b[1mColumn specification\u001b[22m \u001b[36m────────────────────────────────────────────────────────\u001b[39m\n",
      "\u001b[1mDelimiter:\u001b[22m \",\"\n",
      "\u001b[31mchr\u001b[39m  (9): ride_id, rideable_type, started_at, ended_at, start_station_name, ...\n",
      "\u001b[32mdbl\u001b[39m  (5): start_lat, start_lng, end_lat, end_lng, day_of_week\n",
      "\u001b[34mtime\u001b[39m (1): ride_length\n",
      "\n",
      "\u001b[36mℹ\u001b[39m Use `spec()` to retrieve the full column specification for this data.\n",
      "\u001b[36mℹ\u001b[39m Specify the column types or set `show_col_types = FALSE` to quiet this message.\n",
      "Warning message:\n",
      "“\u001b[1m\u001b[22mOne or more parsing issues, call `problems()` on your data frame for details,\n",
      "e.g.:\n",
      "  dat <- vroom(...)\n",
      "  problems(dat)”\n",
      "\u001b[1mRows: \u001b[22m\u001b[34m823488\u001b[39m \u001b[1mColumns: \u001b[22m\u001b[34m15\u001b[39m\n",
      "\u001b[36m──\u001b[39m \u001b[1mColumn specification\u001b[22m \u001b[36m────────────────────────────────────────────────────────\u001b[39m\n",
      "\u001b[1mDelimiter:\u001b[22m \",\"\n",
      "\u001b[31mchr\u001b[39m  (9): ride_id, rideable_type, started_at, ended_at, start_station_name, ...\n",
      "\u001b[32mdbl\u001b[39m  (5): start_lat, start_lng, end_lat, end_lng, day_of_week\n",
      "\u001b[34mtime\u001b[39m (1): ride_length\n",
      "\n",
      "\u001b[36mℹ\u001b[39m Use `spec()` to retrieve the full column specification for this data.\n",
      "\u001b[36mℹ\u001b[39m Specify the column types or set `show_col_types = FALSE` to quiet this message.\n",
      "Warning message:\n",
      "“\u001b[1m\u001b[22mOne or more parsing issues, call `problems()` on your data frame for details,\n",
      "e.g.:\n",
      "  dat <- vroom(...)\n",
      "  problems(dat)”\n",
      "\u001b[1mRows: \u001b[22m\u001b[34m785932\u001b[39m \u001b[1mColumns: \u001b[22m\u001b[34m15\u001b[39m\n",
      "\u001b[36m──\u001b[39m \u001b[1mColumn specification\u001b[22m \u001b[36m────────────────────────────────────────────────────────\u001b[39m\n",
      "\u001b[1mDelimiter:\u001b[22m \",\"\n",
      "\u001b[31mchr\u001b[39m  (9): ride_id, rideable_type, started_at, ended_at, start_station_name, ...\n",
      "\u001b[32mdbl\u001b[39m  (5): start_lat, start_lng, end_lat, end_lng, day_of_week\n",
      "\u001b[34mtime\u001b[39m (1): ride_length\n",
      "\n",
      "\u001b[36mℹ\u001b[39m Use `spec()` to retrieve the full column specification for this data.\n",
      "\u001b[36mℹ\u001b[39m Specify the column types or set `show_col_types = FALSE` to quiet this message.\n",
      "Warning message:\n",
      "“\u001b[1m\u001b[22mOne or more parsing issues, call `problems()` on your data frame for details,\n",
      "e.g.:\n",
      "  dat <- vroom(...)\n",
      "  problems(dat)”\n",
      "\u001b[1mRows: \u001b[22m\u001b[34m701339\u001b[39m \u001b[1mColumns: \u001b[22m\u001b[34m15\u001b[39m\n",
      "\u001b[36m──\u001b[39m \u001b[1mColumn specification\u001b[22m \u001b[36m────────────────────────────────────────────────────────\u001b[39m\n",
      "\u001b[1mDelimiter:\u001b[22m \",\"\n",
      "\u001b[31mchr\u001b[39m  (9): ride_id, rideable_type, started_at, ended_at, start_station_name, ...\n",
      "\u001b[32mdbl\u001b[39m  (5): start_lat, start_lng, end_lat, end_lng, day_of_week\n",
      "\u001b[34mtime\u001b[39m (1): ride_length\n",
      "\n",
      "\u001b[36mℹ\u001b[39m Use `spec()` to retrieve the full column specification for this data.\n",
      "\u001b[36mℹ\u001b[39m Specify the column types or set `show_col_types = FALSE` to quiet this message.\n"
     ]
    }
   ],
   "source": [
    "tripdata_202110 <- read_csv('../input/google-data-analytics-course-capstone-casestudy1/tripdata_202110.csv')\n",
    "tripdata_202111 <- read_csv('../input/google-data-analytics-course-capstone-casestudy1/tripdata_202111.csv')\n",
    "tripdata_202112 <- read_csv('../input/google-data-analytics-course-capstone-casestudy1/tripdata_202112.csv')\n",
    "tripdata_202201 <- read_csv('../input/google-data-analytics-course-capstone-casestudy1/tripdata_202201.csv')\n",
    "tripdata_202202 <- read_csv('../input/google-data-analytics-course-capstone-casestudy1/tripdata_202202.csv')\n",
    "tripdata_202203 <- read_csv('../input/google-data-analytics-course-capstone-casestudy1/tripdata_202203.csv')\n",
    "tripdata_202204 <- read_csv('../input/google-data-analytics-course-capstone-casestudy1/tripdata_202204.csv')\n",
    "tripdata_202205 <- read_csv('../input/google-data-analytics-course-capstone-casestudy1/tripdata_202205.csv')\n",
    "tripdata_202206 <- read_csv('../input/google-data-analytics-course-capstone-casestudy1/tripdata_202206.csv')\n",
    "tripdata_202207 <- read_csv('../input/google-data-analytics-course-capstone-casestudy1/tripdata_202207.csv')\n",
    "tripdata_202208 <- read_csv('../input/google-data-analytics-course-capstone-casestudy1/tripdata_202208.csv')\n",
    "tripdata_202209 <- read_csv('../input/google-data-analytics-course-capstone-casestudy1/tripdata_202209.csv')"
   ]
  },
  {
   "cell_type": "code",
   "execution_count": 3,
   "id": "0fb17b0e",
   "metadata": {
    "execution": {
     "iopub.execute_input": "2022-11-02T11:36:59.764941Z",
     "iopub.status.busy": "2022-11-02T11:36:59.763571Z",
     "iopub.status.idle": "2022-11-02T11:36:59.788184Z",
     "shell.execute_reply": "2022-11-02T11:36:59.786678Z"
    },
    "papermill": {
     "duration": 0.044115,
     "end_time": "2022-11-02T11:36:59.790972",
     "exception": false,
     "start_time": "2022-11-02T11:36:59.746857",
     "status": "completed"
    },
    "tags": []
   },
   "outputs": [],
   "source": [
    "tripdata_202111 <- select(tripdata_202111, -c(...16,...17,...18))"
   ]
  },
  {
   "cell_type": "code",
   "execution_count": 4,
   "id": "d5926348",
   "metadata": {
    "execution": {
     "iopub.execute_input": "2022-11-02T11:36:59.824952Z",
     "iopub.status.busy": "2022-11-02T11:36:59.823435Z",
     "iopub.status.idle": "2022-11-02T11:36:59.855000Z",
     "shell.execute_reply": "2022-11-02T11:36:59.853699Z"
    },
    "papermill": {
     "duration": 0.050274,
     "end_time": "2022-11-02T11:36:59.856919",
     "exception": false,
     "start_time": "2022-11-02T11:36:59.806645",
     "status": "completed"
    },
    "tags": []
   },
   "outputs": [
    {
     "data": {
      "text/html": [
       "<table class=\"dataframe\">\n",
       "<caption>A tibble: 6 × 15</caption>\n",
       "<thead>\n",
       "\t<tr><th scope=col>ride_id</th><th scope=col>rideable_type</th><th scope=col>started_at</th><th scope=col>ended_at</th><th scope=col>start_station_name</th><th scope=col>start_station_id</th><th scope=col>end_station_name</th><th scope=col>end_station_id</th><th scope=col>start_lat</th><th scope=col>start_lng</th><th scope=col>end_lat</th><th scope=col>end_lng</th><th scope=col>member_casual</th><th scope=col>ride_length</th><th scope=col>day_of_week</th></tr>\n",
       "\t<tr><th scope=col>&lt;chr&gt;</th><th scope=col>&lt;chr&gt;</th><th scope=col>&lt;chr&gt;</th><th scope=col>&lt;chr&gt;</th><th scope=col>&lt;chr&gt;</th><th scope=col>&lt;chr&gt;</th><th scope=col>&lt;chr&gt;</th><th scope=col>&lt;chr&gt;</th><th scope=col>&lt;dbl&gt;</th><th scope=col>&lt;dbl&gt;</th><th scope=col>&lt;dbl&gt;</th><th scope=col>&lt;dbl&gt;</th><th scope=col>&lt;chr&gt;</th><th scope=col>&lt;time&gt;</th><th scope=col>&lt;dbl&gt;</th></tr>\n",
       "</thead>\n",
       "<tbody>\n",
       "\t<tr><td>7C00A93E10556E47</td><td>electric_bike</td><td>27-11-2021 13:27</td><td>27-11-2021 13:46</td><td>NA                   </td><td>NA   </td><td>NA</td><td>NA</td><td>41.93000</td><td>-87.72000</td><td>41.96</td><td>-87.73</td><td>casual</td><td>00:19:00</td><td>7</td></tr>\n",
       "\t<tr><td>90854840DFD508BA</td><td>electric_bike</td><td>27-11-2021 13:38</td><td>27-11-2021 13:56</td><td>NA                   </td><td>NA   </td><td>NA</td><td>NA</td><td>41.96000</td><td>-87.70000</td><td>41.92</td><td>-87.70</td><td>casual</td><td>00:17:45</td><td>7</td></tr>\n",
       "\t<tr><td>0A7D10CDD144061C</td><td>electric_bike</td><td>26-11-2021 22:03</td><td>26-11-2021 22:05</td><td>NA                   </td><td>NA   </td><td>NA</td><td>NA</td><td>41.96000</td><td>-87.70000</td><td>41.96</td><td>-87.70</td><td>casual</td><td>00:02:22</td><td>6</td></tr>\n",
       "\t<tr><td>2F3BE33085BCFF02</td><td>electric_bike</td><td>27-11-2021 09:56</td><td>27-11-2021 10:01</td><td>NA                   </td><td>NA   </td><td>NA</td><td>NA</td><td>41.94000</td><td>-87.79000</td><td>41.93</td><td>-87.79</td><td>casual</td><td>00:05:01</td><td>7</td></tr>\n",
       "\t<tr><td>D67B4781A19928D4</td><td>electric_bike</td><td>26-11-2021 19:09</td><td>26-11-2021 19:30</td><td>NA                   </td><td>NA   </td><td>NA</td><td>NA</td><td>41.90000</td><td>-87.63000</td><td>41.88</td><td>-87.62</td><td>casual</td><td>00:21:13</td><td>6</td></tr>\n",
       "\t<tr><td>02F85C2C3C5F7D46</td><td>electric_bike</td><td>26-11-2021 18:34</td><td>26-11-2021 18:52</td><td>Michigan Ave &amp; Oak St</td><td>13042</td><td>NA</td><td>NA</td><td>41.90086</td><td>-87.62379</td><td>41.90</td><td>-87.63</td><td>casual</td><td>00:18:42</td><td>6</td></tr>\n",
       "</tbody>\n",
       "</table>\n"
      ],
      "text/latex": [
       "A tibble: 6 × 15\n",
       "\\begin{tabular}{lllllllllllllll}\n",
       " ride\\_id & rideable\\_type & started\\_at & ended\\_at & start\\_station\\_name & start\\_station\\_id & end\\_station\\_name & end\\_station\\_id & start\\_lat & start\\_lng & end\\_lat & end\\_lng & member\\_casual & ride\\_length & day\\_of\\_week\\\\\n",
       " <chr> & <chr> & <chr> & <chr> & <chr> & <chr> & <chr> & <chr> & <dbl> & <dbl> & <dbl> & <dbl> & <chr> & <time> & <dbl>\\\\\n",
       "\\hline\n",
       "\t 7C00A93E10556E47 & electric\\_bike & 27-11-2021 13:27 & 27-11-2021 13:46 & NA                    & NA    & NA & NA & 41.93000 & -87.72000 & 41.96 & -87.73 & casual & 00:19:00 & 7\\\\\n",
       "\t 90854840DFD508BA & electric\\_bike & 27-11-2021 13:38 & 27-11-2021 13:56 & NA                    & NA    & NA & NA & 41.96000 & -87.70000 & 41.92 & -87.70 & casual & 00:17:45 & 7\\\\\n",
       "\t 0A7D10CDD144061C & electric\\_bike & 26-11-2021 22:03 & 26-11-2021 22:05 & NA                    & NA    & NA & NA & 41.96000 & -87.70000 & 41.96 & -87.70 & casual & 00:02:22 & 6\\\\\n",
       "\t 2F3BE33085BCFF02 & electric\\_bike & 27-11-2021 09:56 & 27-11-2021 10:01 & NA                    & NA    & NA & NA & 41.94000 & -87.79000 & 41.93 & -87.79 & casual & 00:05:01 & 7\\\\\n",
       "\t D67B4781A19928D4 & electric\\_bike & 26-11-2021 19:09 & 26-11-2021 19:30 & NA                    & NA    & NA & NA & 41.90000 & -87.63000 & 41.88 & -87.62 & casual & 00:21:13 & 6\\\\\n",
       "\t 02F85C2C3C5F7D46 & electric\\_bike & 26-11-2021 18:34 & 26-11-2021 18:52 & Michigan Ave \\& Oak St & 13042 & NA & NA & 41.90086 & -87.62379 & 41.90 & -87.63 & casual & 00:18:42 & 6\\\\\n",
       "\\end{tabular}\n"
      ],
      "text/markdown": [
       "\n",
       "A tibble: 6 × 15\n",
       "\n",
       "| ride_id &lt;chr&gt; | rideable_type &lt;chr&gt; | started_at &lt;chr&gt; | ended_at &lt;chr&gt; | start_station_name &lt;chr&gt; | start_station_id &lt;chr&gt; | end_station_name &lt;chr&gt; | end_station_id &lt;chr&gt; | start_lat &lt;dbl&gt; | start_lng &lt;dbl&gt; | end_lat &lt;dbl&gt; | end_lng &lt;dbl&gt; | member_casual &lt;chr&gt; | ride_length &lt;time&gt; | day_of_week &lt;dbl&gt; |\n",
       "|---|---|---|---|---|---|---|---|---|---|---|---|---|---|---|\n",
       "| 7C00A93E10556E47 | electric_bike | 27-11-2021 13:27 | 27-11-2021 13:46 | NA                    | NA    | NA | NA | 41.93000 | -87.72000 | 41.96 | -87.73 | casual | 00:19:00 | 7 |\n",
       "| 90854840DFD508BA | electric_bike | 27-11-2021 13:38 | 27-11-2021 13:56 | NA                    | NA    | NA | NA | 41.96000 | -87.70000 | 41.92 | -87.70 | casual | 00:17:45 | 7 |\n",
       "| 0A7D10CDD144061C | electric_bike | 26-11-2021 22:03 | 26-11-2021 22:05 | NA                    | NA    | NA | NA | 41.96000 | -87.70000 | 41.96 | -87.70 | casual | 00:02:22 | 6 |\n",
       "| 2F3BE33085BCFF02 | electric_bike | 27-11-2021 09:56 | 27-11-2021 10:01 | NA                    | NA    | NA | NA | 41.94000 | -87.79000 | 41.93 | -87.79 | casual | 00:05:01 | 7 |\n",
       "| D67B4781A19928D4 | electric_bike | 26-11-2021 19:09 | 26-11-2021 19:30 | NA                    | NA    | NA | NA | 41.90000 | -87.63000 | 41.88 | -87.62 | casual | 00:21:13 | 6 |\n",
       "| 02F85C2C3C5F7D46 | electric_bike | 26-11-2021 18:34 | 26-11-2021 18:52 | Michigan Ave &amp; Oak St | 13042 | NA | NA | 41.90086 | -87.62379 | 41.90 | -87.63 | casual | 00:18:42 | 6 |\n",
       "\n"
      ],
      "text/plain": [
       "  ride_id          rideable_type started_at       ended_at        \n",
       "1 7C00A93E10556E47 electric_bike 27-11-2021 13:27 27-11-2021 13:46\n",
       "2 90854840DFD508BA electric_bike 27-11-2021 13:38 27-11-2021 13:56\n",
       "3 0A7D10CDD144061C electric_bike 26-11-2021 22:03 26-11-2021 22:05\n",
       "4 2F3BE33085BCFF02 electric_bike 27-11-2021 09:56 27-11-2021 10:01\n",
       "5 D67B4781A19928D4 electric_bike 26-11-2021 19:09 26-11-2021 19:30\n",
       "6 02F85C2C3C5F7D46 electric_bike 26-11-2021 18:34 26-11-2021 18:52\n",
       "  start_station_name    start_station_id end_station_name end_station_id\n",
       "1 NA                    NA               NA               NA            \n",
       "2 NA                    NA               NA               NA            \n",
       "3 NA                    NA               NA               NA            \n",
       "4 NA                    NA               NA               NA            \n",
       "5 NA                    NA               NA               NA            \n",
       "6 Michigan Ave & Oak St 13042            NA               NA            \n",
       "  start_lat start_lng end_lat end_lng member_casual ride_length day_of_week\n",
       "1 41.93000  -87.72000 41.96   -87.73  casual        00:19:00    7          \n",
       "2 41.96000  -87.70000 41.92   -87.70  casual        00:17:45    7          \n",
       "3 41.96000  -87.70000 41.96   -87.70  casual        00:02:22    6          \n",
       "4 41.94000  -87.79000 41.93   -87.79  casual        00:05:01    7          \n",
       "5 41.90000  -87.63000 41.88   -87.62  casual        00:21:13    6          \n",
       "6 41.90086  -87.62379 41.90   -87.63  casual        00:18:42    6          "
      ]
     },
     "metadata": {},
     "output_type": "display_data"
    }
   ],
   "source": [
    "head(tripdata_202111)"
   ]
  },
  {
   "cell_type": "code",
   "execution_count": 5,
   "id": "bcbfa6e5",
   "metadata": {
    "_kg_hide-input": false,
    "_kg_hide-output": true,
    "execution": {
     "iopub.execute_input": "2022-11-02T11:36:59.892450Z",
     "iopub.status.busy": "2022-11-02T11:36:59.891114Z",
     "iopub.status.idle": "2022-11-02T11:37:00.180843Z",
     "shell.execute_reply": "2022-11-02T11:37:00.179304Z"
    },
    "papermill": {
     "duration": 0.309616,
     "end_time": "2022-11-02T11:37:00.182771",
     "exception": false,
     "start_time": "2022-11-02T11:36:59.873155",
     "status": "completed"
    },
    "tags": []
   },
   "outputs": [
    {
     "name": "stdout",
     "output_type": "stream",
     "text": [
      "spec_tbl_df [631,226 × 15] (S3: spec_tbl_df/tbl_df/tbl/data.frame)\n",
      " $ ride_id           : chr [1:631226] \"AADD398D5EAE77E8\" \"CA4777787372DB2E\" \"7E94559D9805B990\" \"C9A0E6F5DCBF7C86\" ...\n",
      " $ rideable_type     : chr [1:631226] \"docked_bike\" \"docked_bike\" \"docked_bike\" \"docked_bike\" ...\n",
      " $ started_at        : chr [1:631226] \"31-10-2021 10:31\" \"31-10-2021 23:38\" \"30-10-2021 18:29\" \"18-10-2021 12:26\" ...\n",
      " $ ended_at          : chr [1:631226] \"03-11-2021 21:45\" \"03-11-2021 15:53\" \"03-11-2021 11:18\" \"02-11-2021 19:31\" ...\n",
      " $ start_station_name: chr [1:631226] \"Rush St & Cedar St\" \"Damen Ave & Cortland St\" \"Wabash Ave & Wacker Pl\" \"DuSable Lake Shore Dr & Monroe St\" ...\n",
      " $ start_station_id  : chr [1:631226] \"KA1504000133\" \"13133\" \"TA1307000131\" \"13300\" ...\n",
      " $ end_station_name  : chr [1:631226] NA \"State St & Randolph St\" NA NA ...\n",
      " $ end_station_id    : chr [1:631226] NA \"TA1305000029\" NA NA ...\n",
      " $ start_lat         : num [1:631226] 41.9 41.9 41.9 41.9 41.9 ...\n",
      " $ start_lng         : num [1:631226] -87.6 -87.7 -87.6 -87.6 -87.7 ...\n",
      " $ end_lat           : num [1:631226] NA 41.9 NA NA 41.9 ...\n",
      " $ end_lng           : num [1:631226] NA -87.6 NA NA -87.7 ...\n",
      " $ member_casual     : chr [1:631226] \"casual\" \"casual\" \"casual\" \"casual\" ...\n",
      " $ ride_length       : 'hms' num [1:631226] 11:14:33 16:14:51 16:48:44 07:05:13 ...\n",
      "  ..- attr(*, \"units\")= chr \"secs\"\n",
      " $ day_of_week       : num [1:631226] 1 1 7 2 7 7 4 5 1 5 ...\n",
      " - attr(*, \"spec\")=\n",
      "  .. cols(\n",
      "  ..   ride_id = \u001b[31mcol_character()\u001b[39m,\n",
      "  ..   rideable_type = \u001b[31mcol_character()\u001b[39m,\n",
      "  ..   started_at = \u001b[31mcol_character()\u001b[39m,\n",
      "  ..   ended_at = \u001b[31mcol_character()\u001b[39m,\n",
      "  ..   start_station_name = \u001b[31mcol_character()\u001b[39m,\n",
      "  ..   start_station_id = \u001b[31mcol_character()\u001b[39m,\n",
      "  ..   end_station_name = \u001b[31mcol_character()\u001b[39m,\n",
      "  ..   end_station_id = \u001b[31mcol_character()\u001b[39m,\n",
      "  ..   start_lat = \u001b[32mcol_double()\u001b[39m,\n",
      "  ..   start_lng = \u001b[32mcol_double()\u001b[39m,\n",
      "  ..   end_lat = \u001b[32mcol_double()\u001b[39m,\n",
      "  ..   end_lng = \u001b[32mcol_double()\u001b[39m,\n",
      "  ..   member_casual = \u001b[31mcol_character()\u001b[39m,\n",
      "  ..   ride_length = \u001b[34mcol_time(format = \"\")\u001b[39m,\n",
      "  ..   day_of_week = \u001b[32mcol_double()\u001b[39m\n",
      "  .. )\n",
      " - attr(*, \"problems\")=<externalptr> \n",
      "tibble [359,978 × 15] (S3: tbl_df/tbl/data.frame)\n",
      " $ ride_id           : chr [1:359978] \"7C00A93E10556E47\" \"90854840DFD508BA\" \"0A7D10CDD144061C\" \"2F3BE33085BCFF02\" ...\n",
      " $ rideable_type     : chr [1:359978] \"electric_bike\" \"electric_bike\" \"electric_bike\" \"electric_bike\" ...\n",
      " $ started_at        : chr [1:359978] \"27-11-2021 13:27\" \"27-11-2021 13:38\" \"26-11-2021 22:03\" \"27-11-2021 09:56\" ...\n",
      " $ ended_at          : chr [1:359978] \"27-11-2021 13:46\" \"27-11-2021 13:56\" \"26-11-2021 22:05\" \"27-11-2021 10:01\" ...\n",
      " $ start_station_name: chr [1:359978] NA NA NA NA ...\n",
      " $ start_station_id  : chr [1:359978] NA NA NA NA ...\n",
      " $ end_station_name  : chr [1:359978] NA NA NA NA ...\n",
      " $ end_station_id    : chr [1:359978] NA NA NA NA ...\n",
      " $ start_lat         : num [1:359978] 41.9 42 42 41.9 41.9 ...\n",
      " $ start_lng         : num [1:359978] -87.7 -87.7 -87.7 -87.8 -87.6 ...\n",
      " $ end_lat           : num [1:359978] 42 41.9 42 41.9 41.9 ...\n",
      " $ end_lng           : num [1:359978] -87.7 -87.7 -87.7 -87.8 -87.6 ...\n",
      " $ member_casual     : chr [1:359978] \"casual\" \"casual\" \"casual\" \"casual\" ...\n",
      " $ ride_length       : 'hms' num [1:359978] 00:19:00 00:17:45 00:02:22 00:05:01 ...\n",
      "  ..- attr(*, \"units\")= chr \"secs\"\n",
      " $ day_of_week       : num [1:359978] 7 7 6 7 6 6 7 7 7 7 ...\n",
      "spec_tbl_df [247,540 × 15] (S3: spec_tbl_df/tbl_df/tbl/data.frame)\n",
      " $ ride_id           : chr [1:247540] \"46F8167220E4431F\" \"73A77762838B32FD\" \"4CF42452054F59C5\" \"3278BA87BF698339\" ...\n",
      " $ rideable_type     : chr [1:247540] \"electric_bike\" \"electric_bike\" \"electric_bike\" \"classic_bike\" ...\n",
      " $ started_at        : chr [1:247540] \"07-12-2021 15:06\" \"11-12-2021 03:43\" \"15-12-2021 23:10\" \"26-12-2021 16:16\" ...\n",
      " $ ended_at          : chr [1:247540] \"07-12-2021 15:13\" \"11-12-2021 04:10\" \"15-12-2021 23:23\" \"26-12-2021 16:30\" ...\n",
      " $ start_station_name: chr [1:247540] \"Laflin St & Cullerton St\" \"LaSalle Dr & Huron St\" \"Halsted St & North Branch St\" \"Halsted St & North Branch St\" ...\n",
      " $ start_station_id  : chr [1:247540] \"13307\" \"KP1705001026\" \"KA1504000117\" \"KA1504000117\" ...\n",
      " $ end_station_name  : chr [1:247540] \"Morgan St & Polk St\" \"Clarendon Ave & Leland Ave\" \"Broadway & Barry Ave\" \"LaSalle Dr & Huron St\" ...\n",
      " $ end_station_id    : chr [1:247540] \"TA1307000130\" \"TA1307000119\" \"13137\" \"KP1705001026\" ...\n",
      " $ start_lat         : num [1:247540] 41.9 41.9 41.9 41.9 41.9 ...\n",
      " $ start_lng         : num [1:247540] -87.7 -87.6 -87.6 -87.6 -87.7 ...\n",
      " $ end_lat           : num [1:247540] 41.9 42 41.9 41.9 41.9 ...\n",
      " $ end_lng           : num [1:247540] -87.7 -87.7 -87.6 -87.6 -87.6 ...\n",
      " $ member_casual     : chr [1:247540] \"member\" \"casual\" \"member\" \"member\" ...\n",
      " $ ride_length       : 'hms' num [1:247540] 00:07:35 00:26:54 00:12:46 00:14:43 ...\n",
      "  ..- attr(*, \"units\")= chr \"secs\"\n",
      " $ day_of_week       : num [1:247540] 3 7 4 1 5 4 5 6 2 1 ...\n",
      " - attr(*, \"spec\")=\n",
      "  .. cols(\n",
      "  ..   ride_id = \u001b[31mcol_character()\u001b[39m,\n",
      "  ..   rideable_type = \u001b[31mcol_character()\u001b[39m,\n",
      "  ..   started_at = \u001b[31mcol_character()\u001b[39m,\n",
      "  ..   ended_at = \u001b[31mcol_character()\u001b[39m,\n",
      "  ..   start_station_name = \u001b[31mcol_character()\u001b[39m,\n",
      "  ..   start_station_id = \u001b[31mcol_character()\u001b[39m,\n",
      "  ..   end_station_name = \u001b[31mcol_character()\u001b[39m,\n",
      "  ..   end_station_id = \u001b[31mcol_character()\u001b[39m,\n",
      "  ..   start_lat = \u001b[32mcol_double()\u001b[39m,\n",
      "  ..   start_lng = \u001b[32mcol_double()\u001b[39m,\n",
      "  ..   end_lat = \u001b[32mcol_double()\u001b[39m,\n",
      "  ..   end_lng = \u001b[32mcol_double()\u001b[39m,\n",
      "  ..   member_casual = \u001b[31mcol_character()\u001b[39m,\n",
      "  ..   ride_length = \u001b[34mcol_time(format = \"\")\u001b[39m,\n",
      "  ..   day_of_week = \u001b[32mcol_double()\u001b[39m\n",
      "  .. )\n",
      " - attr(*, \"problems\")=<externalptr> \n",
      "spec_tbl_df [103,770 × 15] (S3: spec_tbl_df/tbl_df/tbl/data.frame)\n",
      " $ ride_id           : chr [1:103770] \"C2F7DD78E82EC875\" \"A6CF8980A652D272\" \"BD0F91DFF741C66D\" \"CBB80ED419105406\" ...\n",
      " $ rideable_type     : chr [1:103770] \"electric_bike\" \"electric_bike\" \"classic_bike\" \"classic_bike\" ...\n",
      " $ started_at        : chr [1:103770] \"13-01-2022 11:59\" \"10-01-2022 08:41\" \"25-01-2022 04:53\" \"04-01-2022 00:18\" ...\n",
      " $ ended_at          : chr [1:103770] \"13-01-2022 12:02\" \"10-01-2022 08:46\" \"25-01-2022 04:58\" \"04-01-2022 00:33\" ...\n",
      " $ start_station_name: chr [1:103770] \"Glenwood Ave & Touhy Ave\" \"Glenwood Ave & Touhy Ave\" \"Sheffield Ave & Fullerton Ave\" \"Clark St & Bryn Mawr Ave\" ...\n",
      " $ start_station_id  : chr [1:103770] \"525\" \"525\" \"TA1306000016\" \"KA1504000151\" ...\n",
      " $ end_station_name  : chr [1:103770] \"Clark St & Touhy Ave\" \"Clark St & Touhy Ave\" \"Greenview Ave & Fullerton Ave\" \"Paulina St & Montrose Ave\" ...\n",
      " $ end_station_id    : chr [1:103770] \"RP-007\" \"RP-007\" \"TA1307000001\" \"TA1309000021\" ...\n",
      " $ start_lat         : num [1:103770] 42 42 41.9 42 41.9 ...\n",
      " $ start_lng         : num [1:103770] -87.7 -87.7 -87.7 -87.7 -87.6 ...\n",
      " $ end_lat           : num [1:103770] 42 42 41.9 42 41.9 ...\n",
      " $ end_lng           : num [1:103770] -87.7 -87.7 -87.7 -87.7 -87.6 ...\n",
      " $ member_casual     : chr [1:103770] \"casual\" \"casual\" \"member\" \"casual\" ...\n",
      " $ ride_length       : 'hms' num [1:103770] 00:02:57 00:04:21 00:04:21 00:14:56 ...\n",
      "  ..- attr(*, \"units\")= chr \"secs\"\n",
      " $ day_of_week       : num [1:103770] 5 2 3 3 5 3 1 7 2 6 ...\n",
      " - attr(*, \"spec\")=\n",
      "  .. cols(\n",
      "  ..   ride_id = \u001b[31mcol_character()\u001b[39m,\n",
      "  ..   rideable_type = \u001b[31mcol_character()\u001b[39m,\n",
      "  ..   started_at = \u001b[31mcol_character()\u001b[39m,\n",
      "  ..   ended_at = \u001b[31mcol_character()\u001b[39m,\n",
      "  ..   start_station_name = \u001b[31mcol_character()\u001b[39m,\n",
      "  ..   start_station_id = \u001b[31mcol_character()\u001b[39m,\n",
      "  ..   end_station_name = \u001b[31mcol_character()\u001b[39m,\n",
      "  ..   end_station_id = \u001b[31mcol_character()\u001b[39m,\n",
      "  ..   start_lat = \u001b[32mcol_double()\u001b[39m,\n",
      "  ..   start_lng = \u001b[32mcol_double()\u001b[39m,\n",
      "  ..   end_lat = \u001b[32mcol_double()\u001b[39m,\n",
      "  ..   end_lng = \u001b[32mcol_double()\u001b[39m,\n",
      "  ..   member_casual = \u001b[31mcol_character()\u001b[39m,\n",
      "  ..   ride_length = \u001b[34mcol_time(format = \"\")\u001b[39m,\n",
      "  ..   day_of_week = \u001b[32mcol_double()\u001b[39m\n",
      "  .. )\n",
      " - attr(*, \"problems\")=<externalptr> \n",
      "spec_tbl_df [115,609 × 15] (S3: spec_tbl_df/tbl_df/tbl/data.frame)\n",
      " $ ride_id           : chr [1:115609] \"E1E065E7ED285C02\" \"1602DCDC5B30FFE3\" \"BE7DD2AF4B55C4AF\" \"A1789BDF844412BE\" ...\n",
      " $ rideable_type     : chr [1:115609] \"classic_bike\" \"classic_bike\" \"classic_bike\" \"classic_bike\" ...\n",
      " $ started_at        : chr [1:115609] \"19-02-2022 18:08\" \"20-02-2022 17:41\" \"25-02-2022 18:55\" \"14-02-2022 11:57\" ...\n",
      " $ ended_at          : chr [1:115609] \"19-02-2022 18:23\" \"20-02-2022 17:45\" \"25-02-2022 19:09\" \"14-02-2022 12:04\" ...\n",
      " $ start_station_name: chr [1:115609] \"State St & Randolph St\" \"Halsted St & Wrightwood Ave\" \"State St & Randolph St\" \"Southport Ave & Waveland Ave\" ...\n",
      " $ start_station_id  : chr [1:115609] \"TA1305000029\" \"TA1309000061\" \"TA1305000029\" \"13235\" ...\n",
      " $ end_station_name  : chr [1:115609] \"Clark St & Lincoln Ave\" \"Southport Ave & Wrightwood Ave\" \"Canal St & Adams St\" \"Broadway & Sheridan Rd\" ...\n",
      " $ end_station_id    : chr [1:115609] \"13179\" \"TA1307000113\" \"13011\" \"13323\" ...\n",
      " $ start_lat         : num [1:115609] 41.9 41.9 41.9 41.9 41.9 ...\n",
      " $ start_lng         : num [1:115609] -87.6 -87.6 -87.6 -87.7 -87.6 ...\n",
      " $ end_lat           : num [1:115609] 41.9 41.9 41.9 42 41.9 ...\n",
      " $ end_lng           : num [1:115609] -87.6 -87.7 -87.6 -87.6 -87.6 ...\n",
      " $ member_casual     : chr [1:115609] \"member\" \"member\" \"member\" \"member\" ...\n",
      " $ ride_length       : 'hms' num [1:115609] 00:15:15 00:04:26 00:13:38 00:06:57 ...\n",
      "  ..- attr(*, \"units\")= chr \"secs\"\n",
      " $ day_of_week       : num [1:115609] 7 1 6 2 4 2 2 3 6 1 ...\n",
      " - attr(*, \"spec\")=\n",
      "  .. cols(\n",
      "  ..   ride_id = \u001b[31mcol_character()\u001b[39m,\n",
      "  ..   rideable_type = \u001b[31mcol_character()\u001b[39m,\n",
      "  ..   started_at = \u001b[31mcol_character()\u001b[39m,\n",
      "  ..   ended_at = \u001b[31mcol_character()\u001b[39m,\n",
      "  ..   start_station_name = \u001b[31mcol_character()\u001b[39m,\n",
      "  ..   start_station_id = \u001b[31mcol_character()\u001b[39m,\n",
      "  ..   end_station_name = \u001b[31mcol_character()\u001b[39m,\n",
      "  ..   end_station_id = \u001b[31mcol_character()\u001b[39m,\n",
      "  ..   start_lat = \u001b[32mcol_double()\u001b[39m,\n",
      "  ..   start_lng = \u001b[32mcol_double()\u001b[39m,\n",
      "  ..   end_lat = \u001b[32mcol_double()\u001b[39m,\n",
      "  ..   end_lng = \u001b[32mcol_double()\u001b[39m,\n",
      "  ..   member_casual = \u001b[31mcol_character()\u001b[39m,\n",
      "  ..   ride_length = \u001b[34mcol_time(format = \"\")\u001b[39m,\n",
      "  ..   day_of_week = \u001b[32mcol_double()\u001b[39m\n",
      "  .. )\n",
      " - attr(*, \"problems\")=<externalptr> \n",
      "spec_tbl_df [284,042 × 15] (S3: spec_tbl_df/tbl_df/tbl/data.frame)\n",
      " $ ride_id           : chr [1:284042] \"47EC0A7F82E65D52\" \"8494861979B0F477\" \"EFE527AF80B66109\" \"9F446FD9DEE3F389\" ...\n",
      " $ rideable_type     : chr [1:284042] \"classic_bike\" \"electric_bike\" \"classic_bike\" \"classic_bike\" ...\n",
      " $ started_at        : chr [1:284042] \"21-03-2022 13:45\" \"16-03-2022 09:37\" \"23-03-2022 19:52\" \"01-03-2022 19:12\" ...\n",
      " $ ended_at          : chr [1:284042] \"21-03-2022 13:51\" \"16-03-2022 09:43\" \"23-03-2022 19:54\" \"01-03-2022 19:22\" ...\n",
      " $ start_station_name: chr [1:284042] \"Wabash Ave & Wacker Pl\" \"Michigan Ave & Oak St\" \"Broadway & Berwyn Ave\" \"Wabash Ave & Wacker Pl\" ...\n",
      " $ start_station_id  : chr [1:284042] \"TA1307000131\" \"13042\" \"13109\" \"TA1307000131\" ...\n",
      " $ end_station_name  : chr [1:284042] \"Kingsbury St & Kinzie St\" \"Orleans St & Chestnut St (NEXT Apts)\" \"Broadway & Ridge Ave\" \"Franklin St & Jackson Blvd\" ...\n",
      " $ end_station_id    : chr [1:284042] \"KA1503000043\" \"620\" \"15578\" \"TA1305000025\" ...\n",
      " $ start_lat         : num [1:284042] 41.9 41.9 42 41.9 41.9 ...\n",
      " $ start_lng         : num [1:284042] -87.6 -87.6 -87.7 -87.6 -87.6 ...\n",
      " $ end_lat           : num [1:284042] 41.9 41.9 42 41.9 41.9 ...\n",
      " $ end_lng           : num [1:284042] -87.6 -87.6 -87.7 -87.6 -87.7 ...\n",
      " $ member_casual     : chr [1:284042] \"member\" \"member\" \"member\" \"member\" ...\n",
      " $ ride_length       : 'hms' num [1:284042] 00:06:17 00:06:18 00:02:46 00:09:48 ...\n",
      "  ..- attr(*, \"units\")= chr \"secs\"\n",
      " $ day_of_week       : num [1:284042] 2 4 4 3 2 2 5 7 5 6 ...\n",
      " - attr(*, \"spec\")=\n",
      "  .. cols(\n",
      "  ..   ride_id = \u001b[31mcol_character()\u001b[39m,\n",
      "  ..   rideable_type = \u001b[31mcol_character()\u001b[39m,\n",
      "  ..   started_at = \u001b[31mcol_character()\u001b[39m,\n",
      "  ..   ended_at = \u001b[31mcol_character()\u001b[39m,\n",
      "  ..   start_station_name = \u001b[31mcol_character()\u001b[39m,\n",
      "  ..   start_station_id = \u001b[31mcol_character()\u001b[39m,\n",
      "  ..   end_station_name = \u001b[31mcol_character()\u001b[39m,\n",
      "  ..   end_station_id = \u001b[31mcol_character()\u001b[39m,\n",
      "  ..   start_lat = \u001b[32mcol_double()\u001b[39m,\n",
      "  ..   start_lng = \u001b[32mcol_double()\u001b[39m,\n",
      "  ..   end_lat = \u001b[32mcol_double()\u001b[39m,\n",
      "  ..   end_lng = \u001b[32mcol_double()\u001b[39m,\n",
      "  ..   member_casual = \u001b[31mcol_character()\u001b[39m,\n",
      "  ..   ride_length = \u001b[34mcol_time(format = \"\")\u001b[39m,\n",
      "  ..   day_of_week = \u001b[32mcol_double()\u001b[39m\n",
      "  .. )\n",
      " - attr(*, \"problems\")=<externalptr> \n",
      "spec_tbl_df [371,249 × 15] (S3: spec_tbl_df/tbl_df/tbl/data.frame)\n",
      " $ ride_id           : chr [1:371249] \"3564070EEFD12711\" \"0B820C7FCF22F489\" \"89EEEE32293F07FF\" \"84D4751AEB31888D\" ...\n",
      " $ rideable_type     : chr [1:371249] \"electric_bike\" \"classic_bike\" \"classic_bike\" \"classic_bike\" ...\n",
      " $ started_at        : chr [1:371249] \"06-04-2022 17:42\" \"24-04-2022 19:23\" \"20-04-2022 19:29\" \"22-04-2022 21:14\" ...\n",
      " $ ended_at          : chr [1:371249] \"06-04-2022 17:54\" \"24-04-2022 19:43\" \"20-04-2022 19:35\" \"22-04-2022 21:23\" ...\n",
      " $ start_station_name: chr [1:371249] \"Paulina St & Howard St\" \"Wentworth Ave & Cermak Rd\" \"Halsted St & Polk St\" \"Wentworth Ave & Cermak Rd\" ...\n",
      " $ start_station_id  : chr [1:371249] \"515\" \"13075\" \"TA1307000121\" \"13075\" ...\n",
      " $ end_station_name  : chr [1:371249] \"University Library (NU)\" \"Green St & Madison St\" \"Green St & Madison St\" \"Delano Ct & Roosevelt Rd\" ...\n",
      " $ end_station_id    : chr [1:371249] \"605\" \"TA1307000120\" \"TA1307000120\" \"KA1706005007\" ...\n",
      " $ start_lat         : num [1:371249] 42 41.9 41.9 41.9 41.9 ...\n",
      " $ start_lng         : num [1:371249] -87.7 -87.6 -87.6 -87.6 -87.6 ...\n",
      " $ end_lat           : num [1:371249] 42.1 41.9 41.9 41.9 41.9 ...\n",
      " $ end_lng           : num [1:371249] -87.7 -87.6 -87.6 -87.6 -87.6 ...\n",
      " $ member_casual     : chr [1:371249] \"member\" \"member\" \"member\" \"casual\" ...\n",
      " $ ride_length       : 'hms' num [1:371249] 00:11:48 00:20:10 00:06:08 00:09:23 ...\n",
      "  ..- attr(*, \"units\")= chr \"secs\"\n",
      " $ day_of_week       : num [1:371249] 4 1 4 6 7 5 2 3 6 6 ...\n",
      " - attr(*, \"spec\")=\n",
      "  .. cols(\n",
      "  ..   ride_id = \u001b[31mcol_character()\u001b[39m,\n",
      "  ..   rideable_type = \u001b[31mcol_character()\u001b[39m,\n",
      "  ..   started_at = \u001b[31mcol_character()\u001b[39m,\n",
      "  ..   ended_at = \u001b[31mcol_character()\u001b[39m,\n",
      "  ..   start_station_name = \u001b[31mcol_character()\u001b[39m,\n",
      "  ..   start_station_id = \u001b[31mcol_character()\u001b[39m,\n",
      "  ..   end_station_name = \u001b[31mcol_character()\u001b[39m,\n",
      "  ..   end_station_id = \u001b[31mcol_character()\u001b[39m,\n",
      "  ..   start_lat = \u001b[32mcol_double()\u001b[39m,\n",
      "  ..   start_lng = \u001b[32mcol_double()\u001b[39m,\n",
      "  ..   end_lat = \u001b[32mcol_double()\u001b[39m,\n",
      "  ..   end_lng = \u001b[32mcol_double()\u001b[39m,\n",
      "  ..   member_casual = \u001b[31mcol_character()\u001b[39m,\n",
      "  ..   ride_length = \u001b[34mcol_time(format = \"\")\u001b[39m,\n",
      "  ..   day_of_week = \u001b[32mcol_double()\u001b[39m\n",
      "  .. )\n",
      " - attr(*, \"problems\")=<externalptr> \n",
      "spec_tbl_df [634,858 × 15] (S3: spec_tbl_df/tbl_df/tbl/data.frame)\n",
      " $ ride_id           : chr [1:634858] \"EC2DE40644C6B0F4\" \"1C31AD03897EE385\" \"1542FBEC830415CF\" \"6FF59852924528F8\" ...\n",
      " $ rideable_type     : chr [1:634858] \"classic_bike\" \"classic_bike\" \"classic_bike\" \"classic_bike\" ...\n",
      " $ started_at        : chr [1:634858] \"23-05-2022 23:06\" \"11-05-2022 08:53\" \"26-05-2022 18:36\" \"10-05-2022 07:30\" ...\n",
      " $ ended_at          : chr [1:634858] \"23-05-2022 23:40\" \"11-05-2022 09:31\" \"26-05-2022 18:58\" \"10-05-2022 07:38\" ...\n",
      " $ start_station_name: chr [1:634858] \"Wabash Ave & Grand Ave\" \"DuSable Lake Shore Dr & Monroe St\" \"Clinton St & Madison St\" \"Clinton St & Madison St\" ...\n",
      " $ start_station_id  : chr [1:634858] \"TA1307000117\" \"13300\" \"TA1305000032\" \"TA1305000032\" ...\n",
      " $ end_station_name  : chr [1:634858] \"Halsted St & Roscoe St\" \"Field Blvd & South Water St\" \"Wood St & Milwaukee Ave\" \"Clark St & Randolph St\" ...\n",
      " $ end_station_id    : chr [1:634858] \"TA1309000025\" \"15534\" \"13221\" \"TA1305000030\" ...\n",
      " $ start_lat         : num [1:634858] 41.9 41.9 41.9 41.9 41.9 ...\n",
      " $ start_lng         : num [1:634858] -87.6 -87.6 -87.6 -87.6 -87.6 ...\n",
      " $ end_lat           : num [1:634858] 41.9 41.9 41.9 41.9 41.9 ...\n",
      " $ end_lng           : num [1:634858] -87.6 -87.6 -87.7 -87.6 -87.7 ...\n",
      " $ member_casual     : chr [1:634858] \"member\" \"member\" \"member\" \"member\" ...\n",
      " $ ride_length       : 'hms' num [1:634858] 00:33:21 00:37:54 00:21:50 00:08:42 ...\n",
      "  ..- attr(*, \"units\")= chr \"secs\"\n",
      " $ day_of_week       : num [1:634858] 2 4 5 3 3 4 6 1 2 4 ...\n",
      " - attr(*, \"spec\")=\n",
      "  .. cols(\n",
      "  ..   ride_id = \u001b[31mcol_character()\u001b[39m,\n",
      "  ..   rideable_type = \u001b[31mcol_character()\u001b[39m,\n",
      "  ..   started_at = \u001b[31mcol_character()\u001b[39m,\n",
      "  ..   ended_at = \u001b[31mcol_character()\u001b[39m,\n",
      "  ..   start_station_name = \u001b[31mcol_character()\u001b[39m,\n",
      "  ..   start_station_id = \u001b[31mcol_character()\u001b[39m,\n",
      "  ..   end_station_name = \u001b[31mcol_character()\u001b[39m,\n",
      "  ..   end_station_id = \u001b[31mcol_character()\u001b[39m,\n",
      "  ..   start_lat = \u001b[32mcol_double()\u001b[39m,\n",
      "  ..   start_lng = \u001b[32mcol_double()\u001b[39m,\n",
      "  ..   end_lat = \u001b[32mcol_double()\u001b[39m,\n",
      "  ..   end_lng = \u001b[32mcol_double()\u001b[39m,\n",
      "  ..   member_casual = \u001b[31mcol_character()\u001b[39m,\n",
      "  ..   ride_length = \u001b[34mcol_time(format = \"\")\u001b[39m,\n",
      "  ..   day_of_week = \u001b[32mcol_double()\u001b[39m\n",
      "  .. )\n",
      " - attr(*, \"problems\")=<externalptr> \n",
      "spec_tbl_df [769,204 × 15] (S3: spec_tbl_df/tbl_df/tbl/data.frame)\n",
      " $ ride_id           : chr [1:769204] \"600CFD130D0FD2A4\" \"F5E6B5C1682C6464\" \"B6EB6D27BAD771D2\" \"C9C320375DE1D5C6\" ...\n",
      " $ rideable_type     : chr [1:769204] \"electric_bike\" \"electric_bike\" \"electric_bike\" \"electric_bike\" ...\n",
      " $ started_at        : chr [1:769204] \"30-06-2022 17:27\" \"30-06-2022 18:39\" \"30-06-2022 11:49\" \"30-06-2022 11:15\" ...\n",
      " $ ended_at          : chr [1:769204] \"30-06-2022 17:35\" \"30-06-2022 18:47\" \"30-06-2022 12:02\" \"30-06-2022 11:19\" ...\n",
      " $ start_station_name: chr [1:769204] NA NA NA NA ...\n",
      " $ start_station_id  : chr [1:769204] NA NA NA NA ...\n",
      " $ end_station_name  : chr [1:769204] NA NA NA NA ...\n",
      " $ end_station_id    : chr [1:769204] NA NA NA NA ...\n",
      " $ start_lat         : num [1:769204] 41.9 41.9 41.9 41.8 41.9 ...\n",
      " $ start_lng         : num [1:769204] -87.6 -87.6 -87.7 -87.7 -87.6 ...\n",
      " $ end_lat           : num [1:769204] 41.9 41.9 41.9 41.8 41.9 ...\n",
      " $ end_lng           : num [1:769204] -87.6 -87.6 -87.6 -87.7 -87.6 ...\n",
      " $ member_casual     : chr [1:769204] \"casual\" \"casual\" \"casual\" \"casual\" ...\n",
      " $ ride_length       : 'hms' num [1:769204] 00:07:22 00:07:36 00:13:29 00:04:18 ...\n",
      "  ..- attr(*, \"units\")= chr \"secs\"\n",
      " $ day_of_week       : num [1:769204] 5 5 5 5 4 5 5 5 5 5 ...\n",
      " - attr(*, \"spec\")=\n",
      "  .. cols(\n",
      "  ..   ride_id = \u001b[31mcol_character()\u001b[39m,\n",
      "  ..   rideable_type = \u001b[31mcol_character()\u001b[39m,\n",
      "  ..   started_at = \u001b[31mcol_character()\u001b[39m,\n",
      "  ..   ended_at = \u001b[31mcol_character()\u001b[39m,\n",
      "  ..   start_station_name = \u001b[31mcol_character()\u001b[39m,\n",
      "  ..   start_station_id = \u001b[31mcol_character()\u001b[39m,\n",
      "  ..   end_station_name = \u001b[31mcol_character()\u001b[39m,\n",
      "  ..   end_station_id = \u001b[31mcol_character()\u001b[39m,\n",
      "  ..   start_lat = \u001b[32mcol_double()\u001b[39m,\n",
      "  ..   start_lng = \u001b[32mcol_double()\u001b[39m,\n",
      "  ..   end_lat = \u001b[32mcol_double()\u001b[39m,\n",
      "  ..   end_lng = \u001b[32mcol_double()\u001b[39m,\n",
      "  ..   member_casual = \u001b[31mcol_character()\u001b[39m,\n",
      "  ..   ride_length = \u001b[34mcol_time(format = \"\")\u001b[39m,\n",
      "  ..   day_of_week = \u001b[32mcol_double()\u001b[39m\n",
      "  .. )\n",
      " - attr(*, \"problems\")=<externalptr> \n",
      "spec_tbl_df [823,488 × 15] (S3: spec_tbl_df/tbl_df/tbl/data.frame)\n",
      " $ ride_id           : chr [1:823488] \"954144C2F67B1932\" \"292E027607D218B6\" \"57765852588AD6E0\" \"B5B6BE44314590E6\" ...\n",
      " $ rideable_type     : chr [1:823488] \"classic_bike\" \"classic_bike\" \"classic_bike\" \"classic_bike\" ...\n",
      " $ started_at        : chr [1:823488] \"05-07-2022 08:12\" \"26-07-2022 12:53\" \"03-07-2022 13:58\" \"31-07-2022 17:44\" ...\n",
      " $ ended_at          : chr [1:823488] \"05-07-2022 08:24\" \"26-07-2022 12:55\" \"03-07-2022 14:06\" \"31-07-2022 18:42\" ...\n",
      " $ start_station_name: chr [1:823488] \"Ashland Ave & Blackhawk St\" \"Buckingham Fountain (Temp)\" \"Buckingham Fountain (Temp)\" \"Buckingham Fountain (Temp)\" ...\n",
      " $ start_station_id  : chr [1:823488] \"13224\" \"15541\" \"15541\" \"15541\" ...\n",
      " $ end_station_name  : chr [1:823488] \"Kingsbury St & Kinzie St\" \"Michigan Ave & 8th St\" \"Michigan Ave & 8th St\" \"Woodlawn Ave & 55th St\" ...\n",
      " $ end_station_id    : chr [1:823488] \"KA1503000043\" \"623\" \"623\" \"TA1307000164\" ...\n",
      " $ start_lat         : num [1:823488] 41.9 41.9 41.9 41.9 41.9 ...\n",
      " $ start_lng         : num [1:823488] -87.7 -87.6 -87.6 -87.6 -87.6 ...\n",
      " $ end_lat           : num [1:823488] 41.9 41.9 41.9 41.8 41.9 ...\n",
      " $ end_lng           : num [1:823488] -87.6 -87.6 -87.6 -87.6 -87.7 ...\n",
      " $ member_casual     : chr [1:823488] \"member\" \"casual\" \"casual\" \"casual\" ...\n",
      " $ ride_length       : 'hms' num [1:823488] 00:11:45 00:01:53 00:07:43 00:58:29 ...\n",
      "  ..- attr(*, \"units\")= chr \"secs\"\n",
      " $ day_of_week       : num [1:823488] 3 3 1 1 4 6 2 5 1 1 ...\n",
      " - attr(*, \"spec\")=\n",
      "  .. cols(\n",
      "  ..   ride_id = \u001b[31mcol_character()\u001b[39m,\n",
      "  ..   rideable_type = \u001b[31mcol_character()\u001b[39m,\n",
      "  ..   started_at = \u001b[31mcol_character()\u001b[39m,\n",
      "  ..   ended_at = \u001b[31mcol_character()\u001b[39m,\n",
      "  ..   start_station_name = \u001b[31mcol_character()\u001b[39m,\n",
      "  ..   start_station_id = \u001b[31mcol_character()\u001b[39m,\n",
      "  ..   end_station_name = \u001b[31mcol_character()\u001b[39m,\n",
      "  ..   end_station_id = \u001b[31mcol_character()\u001b[39m,\n",
      "  ..   start_lat = \u001b[32mcol_double()\u001b[39m,\n",
      "  ..   start_lng = \u001b[32mcol_double()\u001b[39m,\n",
      "  ..   end_lat = \u001b[32mcol_double()\u001b[39m,\n",
      "  ..   end_lng = \u001b[32mcol_double()\u001b[39m,\n",
      "  ..   member_casual = \u001b[31mcol_character()\u001b[39m,\n",
      "  ..   ride_length = \u001b[34mcol_time(format = \"\")\u001b[39m,\n",
      "  ..   day_of_week = \u001b[32mcol_double()\u001b[39m\n",
      "  .. )\n",
      " - attr(*, \"problems\")=<externalptr> \n",
      "spec_tbl_df [785,932 × 15] (S3: spec_tbl_df/tbl_df/tbl/data.frame)\n",
      " $ ride_id           : chr [1:785932] \"550CF7EFEAE0C618\" \"DAD198F405F9C5F5\" \"E6F2BC47B65CB7FD\" \"F597830181C2E13C\" ...\n",
      " $ rideable_type     : chr [1:785932] \"electric_bike\" \"electric_bike\" \"electric_bike\" \"electric_bike\" ...\n",
      " $ started_at        : chr [1:785932] \"07-08-2022 21:34\" \"08-08-2022 14:39\" \"08-08-2022 15:29\" \"08-08-2022 02:43\" ...\n",
      " $ ended_at          : chr [1:785932] \"07-08-2022 21:41\" \"08-08-2022 14:53\" \"08-08-2022 15:40\" \"08-08-2022 02:58\" ...\n",
      " $ start_station_name: chr [1:785932] NA NA NA NA ...\n",
      " $ start_station_id  : chr [1:785932] NA NA NA NA ...\n",
      " $ end_station_name  : chr [1:785932] NA NA NA NA ...\n",
      " $ end_station_id    : chr [1:785932] NA NA NA NA ...\n",
      " $ start_lat         : num [1:785932] 41.9 41.9 42 41.9 41.9 ...\n",
      " $ start_lng         : num [1:785932] -87.7 -87.6 -87.7 -87.7 -87.7 ...\n",
      " $ end_lat           : num [1:785932] 41.9 41.9 42 42 41.8 ...\n",
      " $ end_lng           : num [1:785932] -87.7 -87.6 -87.7 -87.7 -87.7 ...\n",
      " $ member_casual     : chr [1:785932] \"casual\" \"casual\" \"casual\" \"casual\" ...\n",
      " $ ride_length       : 'hms' num [1:785932] 00:07:31 00:14:02 00:10:44 00:15:03 ...\n",
      "  ..- attr(*, \"units\")= chr \"secs\"\n",
      " $ day_of_week       : num [1:785932] 1 2 2 2 1 2 2 1 1 1 ...\n",
      " - attr(*, \"spec\")=\n",
      "  .. cols(\n",
      "  ..   ride_id = \u001b[31mcol_character()\u001b[39m,\n",
      "  ..   rideable_type = \u001b[31mcol_character()\u001b[39m,\n",
      "  ..   started_at = \u001b[31mcol_character()\u001b[39m,\n",
      "  ..   ended_at = \u001b[31mcol_character()\u001b[39m,\n",
      "  ..   start_station_name = \u001b[31mcol_character()\u001b[39m,\n",
      "  ..   start_station_id = \u001b[31mcol_character()\u001b[39m,\n",
      "  ..   end_station_name = \u001b[31mcol_character()\u001b[39m,\n",
      "  ..   end_station_id = \u001b[31mcol_character()\u001b[39m,\n",
      "  ..   start_lat = \u001b[32mcol_double()\u001b[39m,\n",
      "  ..   start_lng = \u001b[32mcol_double()\u001b[39m,\n",
      "  ..   end_lat = \u001b[32mcol_double()\u001b[39m,\n",
      "  ..   end_lng = \u001b[32mcol_double()\u001b[39m,\n",
      "  ..   member_casual = \u001b[31mcol_character()\u001b[39m,\n",
      "  ..   ride_length = \u001b[34mcol_time(format = \"\")\u001b[39m,\n",
      "  ..   day_of_week = \u001b[32mcol_double()\u001b[39m\n",
      "  .. )\n",
      " - attr(*, \"problems\")=<externalptr> \n",
      "spec_tbl_df [701,339 × 15] (S3: spec_tbl_df/tbl_df/tbl/data.frame)\n",
      " $ ride_id           : chr [1:701339] \"5156990AC19CA285\" \"E12D4A16BF51C274\" \"A02B53CD7DB72DD7\" \"C82E05FEE872DF11\" ...\n",
      " $ rideable_type     : chr [1:701339] \"electric_bike\" \"electric_bike\" \"electric_bike\" \"electric_bike\" ...\n",
      " $ started_at        : chr [1:701339] \"01-09-2022 08:36\" \"01-09-2022 17:11\" \"01-09-2022 17:15\" \"01-09-2022 09:00\" ...\n",
      " $ ended_at          : chr [1:701339] \"01-09-2022 08:39\" \"01-09-2022 17:14\" \"01-09-2022 17:16\" \"01-09-2022 09:10\" ...\n",
      " $ start_station_name: chr [1:701339] NA NA NA NA ...\n",
      " $ start_station_id  : chr [1:701339] NA NA NA NA ...\n",
      " $ end_station_name  : chr [1:701339] \"California Ave & Milwaukee Ave\" NA NA NA ...\n",
      " $ end_station_id    : chr [1:701339] \"13084\" NA NA NA ...\n",
      " $ start_lat         : num [1:701339] 41.9 41.9 41.9 41.9 41.9 ...\n",
      " $ start_lng         : num [1:701339] -87.7 -87.6 -87.6 -87.7 -87.7 ...\n",
      " $ end_lat           : num [1:701339] 41.9 41.9 41.9 41.9 41.9 ...\n",
      " $ end_lng           : num [1:701339] -87.7 -87.6 -87.6 -87.7 -87.7 ...\n",
      " $ member_casual     : chr [1:701339] \"casual\" \"casual\" \"casual\" \"casual\" ...\n",
      " $ ride_length       : 'hms' num [1:701339] 00:02:43 00:03:16 00:00:22 00:10:04 ...\n",
      "  ..- attr(*, \"units\")= chr \"secs\"\n",
      " $ day_of_week       : num [1:701339] 5 5 5 5 5 5 5 5 5 5 ...\n",
      " - attr(*, \"spec\")=\n",
      "  .. cols(\n",
      "  ..   ride_id = \u001b[31mcol_character()\u001b[39m,\n",
      "  ..   rideable_type = \u001b[31mcol_character()\u001b[39m,\n",
      "  ..   started_at = \u001b[31mcol_character()\u001b[39m,\n",
      "  ..   ended_at = \u001b[31mcol_character()\u001b[39m,\n",
      "  ..   start_station_name = \u001b[31mcol_character()\u001b[39m,\n",
      "  ..   start_station_id = \u001b[31mcol_character()\u001b[39m,\n",
      "  ..   end_station_name = \u001b[31mcol_character()\u001b[39m,\n",
      "  ..   end_station_id = \u001b[31mcol_character()\u001b[39m,\n",
      "  ..   start_lat = \u001b[32mcol_double()\u001b[39m,\n",
      "  ..   start_lng = \u001b[32mcol_double()\u001b[39m,\n",
      "  ..   end_lat = \u001b[32mcol_double()\u001b[39m,\n",
      "  ..   end_lng = \u001b[32mcol_double()\u001b[39m,\n",
      "  ..   member_casual = \u001b[31mcol_character()\u001b[39m,\n",
      "  ..   ride_length = \u001b[34mcol_time(format = \"\")\u001b[39m,\n",
      "  ..   day_of_week = \u001b[32mcol_double()\u001b[39m\n",
      "  .. )\n",
      " - attr(*, \"problems\")=<externalptr> \n"
     ]
    }
   ],
   "source": [
    "# Inspecting the dataframe and looking for incongruencies\n",
    "str(tripdata_202110)\n",
    "str(tripdata_202111)\n",
    "str(tripdata_202112)\n",
    "str(tripdata_202201)\n",
    "str(tripdata_202202)\n",
    "str(tripdata_202203)\n",
    "str(tripdata_202204)\n",
    "str(tripdata_202205)\n",
    "str(tripdata_202206)\n",
    "str(tripdata_202207)\n",
    "str(tripdata_202208)\n",
    "str(tripdata_202209)"
   ]
  },
  {
   "cell_type": "markdown",
   "id": "65d5c37f",
   "metadata": {
    "papermill": {
     "duration": 0.017082,
     "end_time": "2022-11-02T11:37:00.217520",
     "exception": false,
     "start_time": "2022-11-02T11:37:00.200438",
     "status": "completed"
    },
    "tags": []
   },
   "source": [
    "<a id=\"process-code-merging\"></a>\n",
    "### Merging data"
   ]
  },
  {
   "cell_type": "code",
   "execution_count": 6,
   "id": "88e7e394",
   "metadata": {
    "execution": {
     "iopub.execute_input": "2022-11-02T11:37:00.253900Z",
     "iopub.status.busy": "2022-11-02T11:37:00.252477Z",
     "iopub.status.idle": "2022-11-02T11:37:08.411360Z",
     "shell.execute_reply": "2022-11-02T11:37:08.409912Z"
    },
    "papermill": {
     "duration": 8.179094,
     "end_time": "2022-11-02T11:37:08.413291",
     "exception": false,
     "start_time": "2022-11-02T11:37:00.234197",
     "status": "completed"
    },
    "tags": []
   },
   "outputs": [],
   "source": [
    "# Combining all 12 months of data into one Dataframe\n",
    "all_tripdata <- bind_rows(tripdata_202110,tripdata_202111,tripdata_202112,tripdata_202201,tripdata_202202,tripdata_202203,tripdata_202204,tripdata_202205,tripdata_202206,tripdata_202207,tripdata_202208,tripdata_202209)"
   ]
  },
  {
   "cell_type": "code",
   "execution_count": 7,
   "id": "e3089f0a",
   "metadata": {
    "execution": {
     "iopub.execute_input": "2022-11-02T11:37:08.451957Z",
     "iopub.status.busy": "2022-11-02T11:37:08.450630Z",
     "iopub.status.idle": "2022-11-02T11:37:08.474292Z",
     "shell.execute_reply": "2022-11-02T11:37:08.473113Z"
    },
    "papermill": {
     "duration": 0.0451,
     "end_time": "2022-11-02T11:37:08.476244",
     "exception": false,
     "start_time": "2022-11-02T11:37:08.431144",
     "status": "completed"
    },
    "tags": []
   },
   "outputs": [
    {
     "data": {
      "text/html": [
       "<table class=\"dataframe\">\n",
       "<caption>A tibble: 6 × 15</caption>\n",
       "<thead>\n",
       "\t<tr><th scope=col>ride_id</th><th scope=col>rideable_type</th><th scope=col>started_at</th><th scope=col>ended_at</th><th scope=col>start_station_name</th><th scope=col>start_station_id</th><th scope=col>end_station_name</th><th scope=col>end_station_id</th><th scope=col>start_lat</th><th scope=col>start_lng</th><th scope=col>end_lat</th><th scope=col>end_lng</th><th scope=col>member_casual</th><th scope=col>ride_length</th><th scope=col>day_of_week</th></tr>\n",
       "\t<tr><th scope=col>&lt;chr&gt;</th><th scope=col>&lt;chr&gt;</th><th scope=col>&lt;chr&gt;</th><th scope=col>&lt;chr&gt;</th><th scope=col>&lt;chr&gt;</th><th scope=col>&lt;chr&gt;</th><th scope=col>&lt;chr&gt;</th><th scope=col>&lt;chr&gt;</th><th scope=col>&lt;dbl&gt;</th><th scope=col>&lt;dbl&gt;</th><th scope=col>&lt;dbl&gt;</th><th scope=col>&lt;dbl&gt;</th><th scope=col>&lt;chr&gt;</th><th scope=col>&lt;time&gt;</th><th scope=col>&lt;dbl&gt;</th></tr>\n",
       "</thead>\n",
       "<tbody>\n",
       "\t<tr><td>AADD398D5EAE77E8</td><td>docked_bike</td><td>31-10-2021 10:31</td><td>03-11-2021 21:45</td><td><span style=white-space:pre-wrap>Rush St &amp; Cedar St               </span></td><td>KA1504000133</td><td><span style=white-space:pre-wrap>NA                    </span></td><td><span style=white-space:pre-wrap>NA          </span></td><td>41.90231</td><td>-87.62769</td><td><span style=white-space:pre-wrap>      NA</span></td><td><span style=white-space:pre-wrap>       NA</span></td><td>casual</td><td>11:14:33</td><td>1</td></tr>\n",
       "\t<tr><td>CA4777787372DB2E</td><td>docked_bike</td><td>31-10-2021 23:38</td><td>03-11-2021 15:53</td><td><span style=white-space:pre-wrap>Damen Ave &amp; Cortland St          </span></td><td><span style=white-space:pre-wrap>13133       </span></td><td>State St &amp; Randolph St</td><td>TA1305000029</td><td>41.91598</td><td>-87.67733</td><td>41.88462</td><td>-87.62783</td><td>casual</td><td>16:14:51</td><td>1</td></tr>\n",
       "\t<tr><td>7E94559D9805B990</td><td>docked_bike</td><td>30-10-2021 18:29</td><td>03-11-2021 11:18</td><td><span style=white-space:pre-wrap>Wabash Ave &amp; Wacker Pl           </span></td><td>TA1307000131</td><td><span style=white-space:pre-wrap>NA                    </span></td><td><span style=white-space:pre-wrap>NA          </span></td><td>41.88688</td><td>-87.62603</td><td><span style=white-space:pre-wrap>      NA</span></td><td><span style=white-space:pre-wrap>       NA</span></td><td>casual</td><td>16:48:44</td><td>7</td></tr>\n",
       "\t<tr><td>C9A0E6F5DCBF7C86</td><td>docked_bike</td><td>18-10-2021 12:26</td><td>02-11-2021 19:31</td><td>DuSable Lake Shore Dr &amp; Monroe St</td><td><span style=white-space:pre-wrap>13300       </span></td><td><span style=white-space:pre-wrap>NA                    </span></td><td><span style=white-space:pre-wrap>NA          </span></td><td>41.88096</td><td>-87.61674</td><td><span style=white-space:pre-wrap>      NA</span></td><td><span style=white-space:pre-wrap>       NA</span></td><td>casual</td><td>07:05:13</td><td>2</td></tr>\n",
       "\t<tr><td>4928BA00AC98E9E4</td><td>docked_bike</td><td>30-10-2021 02:35</td><td>02-11-2021 14:18</td><td><span style=white-space:pre-wrap>Sheffield Ave &amp; Waveland Ave     </span></td><td>TA1307000126</td><td><span style=white-space:pre-wrap>Wood St &amp; Hubbard St  </span></td><td><span style=white-space:pre-wrap>13432       </span></td><td>41.94940</td><td>-87.65453</td><td>41.88990</td><td>-87.67147</td><td>casual</td><td>11:42:44</td><td>7</td></tr>\n",
       "\t<tr><td>D7B764E78660A503</td><td>docked_bike</td><td>23-10-2021 10:16</td><td>02-11-2021 13:57</td><td><span style=white-space:pre-wrap>Leavitt St &amp; Armitage Ave        </span></td><td>TA1309000029</td><td><span style=white-space:pre-wrap>NA                    </span></td><td><span style=white-space:pre-wrap>NA          </span></td><td>41.91781</td><td>-87.68244</td><td><span style=white-space:pre-wrap>      NA</span></td><td><span style=white-space:pre-wrap>       NA</span></td><td>casual</td><td>03:40:51</td><td>7</td></tr>\n",
       "</tbody>\n",
       "</table>\n"
      ],
      "text/latex": [
       "A tibble: 6 × 15\n",
       "\\begin{tabular}{lllllllllllllll}\n",
       " ride\\_id & rideable\\_type & started\\_at & ended\\_at & start\\_station\\_name & start\\_station\\_id & end\\_station\\_name & end\\_station\\_id & start\\_lat & start\\_lng & end\\_lat & end\\_lng & member\\_casual & ride\\_length & day\\_of\\_week\\\\\n",
       " <chr> & <chr> & <chr> & <chr> & <chr> & <chr> & <chr> & <chr> & <dbl> & <dbl> & <dbl> & <dbl> & <chr> & <time> & <dbl>\\\\\n",
       "\\hline\n",
       "\t AADD398D5EAE77E8 & docked\\_bike & 31-10-2021 10:31 & 03-11-2021 21:45 & Rush St \\& Cedar St                & KA1504000133 & NA                     & NA           & 41.90231 & -87.62769 &       NA &        NA & casual & 11:14:33 & 1\\\\\n",
       "\t CA4777787372DB2E & docked\\_bike & 31-10-2021 23:38 & 03-11-2021 15:53 & Damen Ave \\& Cortland St           & 13133        & State St \\& Randolph St & TA1305000029 & 41.91598 & -87.67733 & 41.88462 & -87.62783 & casual & 16:14:51 & 1\\\\\n",
       "\t 7E94559D9805B990 & docked\\_bike & 30-10-2021 18:29 & 03-11-2021 11:18 & Wabash Ave \\& Wacker Pl            & TA1307000131 & NA                     & NA           & 41.88688 & -87.62603 &       NA &        NA & casual & 16:48:44 & 7\\\\\n",
       "\t C9A0E6F5DCBF7C86 & docked\\_bike & 18-10-2021 12:26 & 02-11-2021 19:31 & DuSable Lake Shore Dr \\& Monroe St & 13300        & NA                     & NA           & 41.88096 & -87.61674 &       NA &        NA & casual & 07:05:13 & 2\\\\\n",
       "\t 4928BA00AC98E9E4 & docked\\_bike & 30-10-2021 02:35 & 02-11-2021 14:18 & Sheffield Ave \\& Waveland Ave      & TA1307000126 & Wood St \\& Hubbard St   & 13432        & 41.94940 & -87.65453 & 41.88990 & -87.67147 & casual & 11:42:44 & 7\\\\\n",
       "\t D7B764E78660A503 & docked\\_bike & 23-10-2021 10:16 & 02-11-2021 13:57 & Leavitt St \\& Armitage Ave         & TA1309000029 & NA                     & NA           & 41.91781 & -87.68244 &       NA &        NA & casual & 03:40:51 & 7\\\\\n",
       "\\end{tabular}\n"
      ],
      "text/markdown": [
       "\n",
       "A tibble: 6 × 15\n",
       "\n",
       "| ride_id &lt;chr&gt; | rideable_type &lt;chr&gt; | started_at &lt;chr&gt; | ended_at &lt;chr&gt; | start_station_name &lt;chr&gt; | start_station_id &lt;chr&gt; | end_station_name &lt;chr&gt; | end_station_id &lt;chr&gt; | start_lat &lt;dbl&gt; | start_lng &lt;dbl&gt; | end_lat &lt;dbl&gt; | end_lng &lt;dbl&gt; | member_casual &lt;chr&gt; | ride_length &lt;time&gt; | day_of_week &lt;dbl&gt; |\n",
       "|---|---|---|---|---|---|---|---|---|---|---|---|---|---|---|\n",
       "| AADD398D5EAE77E8 | docked_bike | 31-10-2021 10:31 | 03-11-2021 21:45 | Rush St &amp; Cedar St                | KA1504000133 | NA                     | NA           | 41.90231 | -87.62769 |       NA |        NA | casual | 11:14:33 | 1 |\n",
       "| CA4777787372DB2E | docked_bike | 31-10-2021 23:38 | 03-11-2021 15:53 | Damen Ave &amp; Cortland St           | 13133        | State St &amp; Randolph St | TA1305000029 | 41.91598 | -87.67733 | 41.88462 | -87.62783 | casual | 16:14:51 | 1 |\n",
       "| 7E94559D9805B990 | docked_bike | 30-10-2021 18:29 | 03-11-2021 11:18 | Wabash Ave &amp; Wacker Pl            | TA1307000131 | NA                     | NA           | 41.88688 | -87.62603 |       NA |        NA | casual | 16:48:44 | 7 |\n",
       "| C9A0E6F5DCBF7C86 | docked_bike | 18-10-2021 12:26 | 02-11-2021 19:31 | DuSable Lake Shore Dr &amp; Monroe St | 13300        | NA                     | NA           | 41.88096 | -87.61674 |       NA |        NA | casual | 07:05:13 | 2 |\n",
       "| 4928BA00AC98E9E4 | docked_bike | 30-10-2021 02:35 | 02-11-2021 14:18 | Sheffield Ave &amp; Waveland Ave      | TA1307000126 | Wood St &amp; Hubbard St   | 13432        | 41.94940 | -87.65453 | 41.88990 | -87.67147 | casual | 11:42:44 | 7 |\n",
       "| D7B764E78660A503 | docked_bike | 23-10-2021 10:16 | 02-11-2021 13:57 | Leavitt St &amp; Armitage Ave         | TA1309000029 | NA                     | NA           | 41.91781 | -87.68244 |       NA |        NA | casual | 03:40:51 | 7 |\n",
       "\n"
      ],
      "text/plain": [
       "  ride_id          rideable_type started_at       ended_at        \n",
       "1 AADD398D5EAE77E8 docked_bike   31-10-2021 10:31 03-11-2021 21:45\n",
       "2 CA4777787372DB2E docked_bike   31-10-2021 23:38 03-11-2021 15:53\n",
       "3 7E94559D9805B990 docked_bike   30-10-2021 18:29 03-11-2021 11:18\n",
       "4 C9A0E6F5DCBF7C86 docked_bike   18-10-2021 12:26 02-11-2021 19:31\n",
       "5 4928BA00AC98E9E4 docked_bike   30-10-2021 02:35 02-11-2021 14:18\n",
       "6 D7B764E78660A503 docked_bike   23-10-2021 10:16 02-11-2021 13:57\n",
       "  start_station_name                start_station_id end_station_name      \n",
       "1 Rush St & Cedar St                KA1504000133     NA                    \n",
       "2 Damen Ave & Cortland St           13133            State St & Randolph St\n",
       "3 Wabash Ave & Wacker Pl            TA1307000131     NA                    \n",
       "4 DuSable Lake Shore Dr & Monroe St 13300            NA                    \n",
       "5 Sheffield Ave & Waveland Ave      TA1307000126     Wood St & Hubbard St  \n",
       "6 Leavitt St & Armitage Ave         TA1309000029     NA                    \n",
       "  end_station_id start_lat start_lng end_lat  end_lng   member_casual\n",
       "1 NA             41.90231  -87.62769       NA        NA casual       \n",
       "2 TA1305000029   41.91598  -87.67733 41.88462 -87.62783 casual       \n",
       "3 NA             41.88688  -87.62603       NA        NA casual       \n",
       "4 NA             41.88096  -87.61674       NA        NA casual       \n",
       "5 13432          41.94940  -87.65453 41.88990 -87.67147 casual       \n",
       "6 NA             41.91781  -87.68244       NA        NA casual       \n",
       "  ride_length day_of_week\n",
       "1 11:14:33    1          \n",
       "2 16:14:51    1          \n",
       "3 16:48:44    7          \n",
       "4 07:05:13    2          \n",
       "5 11:42:44    7          \n",
       "6 03:40:51    7          "
      ]
     },
     "metadata": {},
     "output_type": "display_data"
    }
   ],
   "source": [
    "head(all_tripdata)"
   ]
  },
  {
   "cell_type": "markdown",
   "id": "8d0e3289",
   "metadata": {
    "papermill": {
     "duration": 0.016626,
     "end_time": "2022-11-02T11:37:08.509358",
     "exception": false,
     "start_time": "2022-11-02T11:37:08.492732",
     "status": "completed"
    },
    "tags": []
   },
   "source": [
    "<a id=\"process-code-data\"></a>\n",
    "### Data Cleaning"
   ]
  },
  {
   "cell_type": "code",
   "execution_count": 8,
   "id": "9e326e8a",
   "metadata": {
    "execution": {
     "iopub.execute_input": "2022-11-02T11:37:08.545084Z",
     "iopub.status.busy": "2022-11-02T11:37:08.543966Z",
     "iopub.status.idle": "2022-11-02T11:37:12.051778Z",
     "shell.execute_reply": "2022-11-02T11:37:12.049873Z"
    },
    "papermill": {
     "duration": 3.52836,
     "end_time": "2022-11-02T11:37:12.054214",
     "exception": false,
     "start_time": "2022-11-02T11:37:08.525854",
     "status": "completed"
    },
    "tags": []
   },
   "outputs": [
    {
     "name": "stdout",
     "output_type": "stream",
     "text": [
      "[1] \"Removed 2033 duplicated rows\"\n"
     ]
    }
   ],
   "source": [
    "# Removing Duplicates\n",
    "all_tripdata_no_dups <- all_tripdata[!duplicated(all_tripdata$ride_id), ]\n",
    "print(paste(\"Removed\", nrow(all_tripdata) - nrow(all_tripdata_no_dups), \"duplicated rows\"))"
   ]
  },
  {
   "cell_type": "code",
   "execution_count": 9,
   "id": "b6eb7a31",
   "metadata": {
    "execution": {
     "iopub.execute_input": "2022-11-02T11:37:12.103283Z",
     "iopub.status.busy": "2022-11-02T11:37:12.101666Z",
     "iopub.status.idle": "2022-11-02T11:37:12.129562Z",
     "shell.execute_reply": "2022-11-02T11:37:12.127896Z"
    },
    "papermill": {
     "duration": 0.058227,
     "end_time": "2022-11-02T11:37:12.132529",
     "exception": false,
     "start_time": "2022-11-02T11:37:12.074302",
     "status": "completed"
    },
    "tags": []
   },
   "outputs": [
    {
     "data": {
      "text/html": [
       "<style>\n",
       ".list-inline {list-style: none; margin:0; padding: 0}\n",
       ".list-inline>li {display: inline-block}\n",
       ".list-inline>li:not(:last-child)::after {content: \"\\00b7\"; padding: 0 .5ex}\n",
       "</style>\n",
       "<ol class=list-inline><li>'ride_id'</li><li>'rideable_type'</li><li>'started_at'</li><li>'ended_at'</li><li>'start_station_name'</li><li>'start_station_id'</li><li>'end_station_name'</li><li>'end_station_id'</li><li>'start_lat'</li><li>'start_lng'</li><li>'end_lat'</li><li>'end_lng'</li><li>'member_casual'</li><li>'ride_length'</li><li>'day_of_week'</li></ol>\n"
      ],
      "text/latex": [
       "\\begin{enumerate*}\n",
       "\\item 'ride\\_id'\n",
       "\\item 'rideable\\_type'\n",
       "\\item 'started\\_at'\n",
       "\\item 'ended\\_at'\n",
       "\\item 'start\\_station\\_name'\n",
       "\\item 'start\\_station\\_id'\n",
       "\\item 'end\\_station\\_name'\n",
       "\\item 'end\\_station\\_id'\n",
       "\\item 'start\\_lat'\n",
       "\\item 'start\\_lng'\n",
       "\\item 'end\\_lat'\n",
       "\\item 'end\\_lng'\n",
       "\\item 'member\\_casual'\n",
       "\\item 'ride\\_length'\n",
       "\\item 'day\\_of\\_week'\n",
       "\\end{enumerate*}\n"
      ],
      "text/markdown": [
       "1. 'ride_id'\n",
       "2. 'rideable_type'\n",
       "3. 'started_at'\n",
       "4. 'ended_at'\n",
       "5. 'start_station_name'\n",
       "6. 'start_station_id'\n",
       "7. 'end_station_name'\n",
       "8. 'end_station_id'\n",
       "9. 'start_lat'\n",
       "10. 'start_lng'\n",
       "11. 'end_lat'\n",
       "12. 'end_lng'\n",
       "13. 'member_casual'\n",
       "14. 'ride_length'\n",
       "15. 'day_of_week'\n",
       "\n",
       "\n"
      ],
      "text/plain": [
       " [1] \"ride_id\"            \"rideable_type\"      \"started_at\"        \n",
       " [4] \"ended_at\"           \"start_station_name\" \"start_station_id\"  \n",
       " [7] \"end_station_name\"   \"end_station_id\"     \"start_lat\"         \n",
       "[10] \"start_lng\"          \"end_lat\"            \"end_lng\"           \n",
       "[13] \"member_casual\"      \"ride_length\"        \"day_of_week\"       "
      ]
     },
     "metadata": {},
     "output_type": "display_data"
    },
    {
     "data": {
      "text/html": [
       "5826202"
      ],
      "text/latex": [
       "5826202"
      ],
      "text/markdown": [
       "5826202"
      ],
      "text/plain": [
       "[1] 5826202"
      ]
     },
     "metadata": {},
     "output_type": "display_data"
    },
    {
     "data": {
      "text/html": [
       "<style>\n",
       ".list-inline {list-style: none; margin:0; padding: 0}\n",
       ".list-inline>li {display: inline-block}\n",
       ".list-inline>li:not(:last-child)::after {content: \"\\00b7\"; padding: 0 .5ex}\n",
       "</style>\n",
       "<ol class=list-inline><li>5826202</li><li>15</li></ol>\n"
      ],
      "text/latex": [
       "\\begin{enumerate*}\n",
       "\\item 5826202\n",
       "\\item 15\n",
       "\\end{enumerate*}\n"
      ],
      "text/markdown": [
       "1. 5826202\n",
       "2. 15\n",
       "\n",
       "\n"
      ],
      "text/plain": [
       "[1] 5826202      15"
      ]
     },
     "metadata": {},
     "output_type": "display_data"
    }
   ],
   "source": [
    "colnames(all_tripdata_no_dups) #\"ride_id\" \"rideable_type\" \"started_at\" \"ended_at\"\"start_station_name\" \"start_station_id\" \"end_station_name\"  \"end_station_id\" \"member_casual\" \"ride_length\"  \"day_of_week\" \n",
    "nrow(all_tripdata_no_dups) # 5828235 rows\n",
    "dim(all_tripdata_no_dups) # 5828235     # 15"
   ]
  },
  {
   "cell_type": "code",
   "execution_count": 10,
   "id": "9ef56a51",
   "metadata": {
    "execution": {
     "iopub.execute_input": "2022-11-02T11:37:12.203138Z",
     "iopub.status.busy": "2022-11-02T11:37:12.201776Z",
     "iopub.status.idle": "2022-11-02T11:37:12.226743Z",
     "shell.execute_reply": "2022-11-02T11:37:12.225497Z"
    },
    "papermill": {
     "duration": 0.046653,
     "end_time": "2022-11-02T11:37:12.228489",
     "exception": false,
     "start_time": "2022-11-02T11:37:12.181836",
     "status": "completed"
    },
    "tags": []
   },
   "outputs": [
    {
     "data": {
      "text/html": [
       "<table class=\"dataframe\">\n",
       "<caption>A tibble: 6 × 15</caption>\n",
       "<thead>\n",
       "\t<tr><th scope=col>ride_id</th><th scope=col>rideable_type</th><th scope=col>started_at</th><th scope=col>ended_at</th><th scope=col>start_station_name</th><th scope=col>start_station_id</th><th scope=col>end_station_name</th><th scope=col>end_station_id</th><th scope=col>start_lat</th><th scope=col>start_lng</th><th scope=col>end_lat</th><th scope=col>end_lng</th><th scope=col>member_casual</th><th scope=col>ride_length</th><th scope=col>day_of_week</th></tr>\n",
       "\t<tr><th scope=col>&lt;chr&gt;</th><th scope=col>&lt;chr&gt;</th><th scope=col>&lt;chr&gt;</th><th scope=col>&lt;chr&gt;</th><th scope=col>&lt;chr&gt;</th><th scope=col>&lt;chr&gt;</th><th scope=col>&lt;chr&gt;</th><th scope=col>&lt;chr&gt;</th><th scope=col>&lt;dbl&gt;</th><th scope=col>&lt;dbl&gt;</th><th scope=col>&lt;dbl&gt;</th><th scope=col>&lt;dbl&gt;</th><th scope=col>&lt;chr&gt;</th><th scope=col>&lt;time&gt;</th><th scope=col>&lt;dbl&gt;</th></tr>\n",
       "</thead>\n",
       "<tbody>\n",
       "\t<tr><td>AADD398D5EAE77E8</td><td>docked_bike</td><td>31-10-2021 10:31</td><td>03-11-2021 21:45</td><td><span style=white-space:pre-wrap>Rush St &amp; Cedar St               </span></td><td>KA1504000133</td><td><span style=white-space:pre-wrap>NA                    </span></td><td><span style=white-space:pre-wrap>NA          </span></td><td>41.90231</td><td>-87.62769</td><td><span style=white-space:pre-wrap>      NA</span></td><td><span style=white-space:pre-wrap>       NA</span></td><td>casual</td><td>11:14:33</td><td>1</td></tr>\n",
       "\t<tr><td>CA4777787372DB2E</td><td>docked_bike</td><td>31-10-2021 23:38</td><td>03-11-2021 15:53</td><td><span style=white-space:pre-wrap>Damen Ave &amp; Cortland St          </span></td><td><span style=white-space:pre-wrap>13133       </span></td><td>State St &amp; Randolph St</td><td>TA1305000029</td><td>41.91598</td><td>-87.67733</td><td>41.88462</td><td>-87.62783</td><td>casual</td><td>16:14:51</td><td>1</td></tr>\n",
       "\t<tr><td>7E94559D9805B990</td><td>docked_bike</td><td>30-10-2021 18:29</td><td>03-11-2021 11:18</td><td><span style=white-space:pre-wrap>Wabash Ave &amp; Wacker Pl           </span></td><td>TA1307000131</td><td><span style=white-space:pre-wrap>NA                    </span></td><td><span style=white-space:pre-wrap>NA          </span></td><td>41.88688</td><td>-87.62603</td><td><span style=white-space:pre-wrap>      NA</span></td><td><span style=white-space:pre-wrap>       NA</span></td><td>casual</td><td>16:48:44</td><td>7</td></tr>\n",
       "\t<tr><td>C9A0E6F5DCBF7C86</td><td>docked_bike</td><td>18-10-2021 12:26</td><td>02-11-2021 19:31</td><td>DuSable Lake Shore Dr &amp; Monroe St</td><td><span style=white-space:pre-wrap>13300       </span></td><td><span style=white-space:pre-wrap>NA                    </span></td><td><span style=white-space:pre-wrap>NA          </span></td><td>41.88096</td><td>-87.61674</td><td><span style=white-space:pre-wrap>      NA</span></td><td><span style=white-space:pre-wrap>       NA</span></td><td>casual</td><td>07:05:13</td><td>2</td></tr>\n",
       "\t<tr><td>4928BA00AC98E9E4</td><td>docked_bike</td><td>30-10-2021 02:35</td><td>02-11-2021 14:18</td><td><span style=white-space:pre-wrap>Sheffield Ave &amp; Waveland Ave     </span></td><td>TA1307000126</td><td><span style=white-space:pre-wrap>Wood St &amp; Hubbard St  </span></td><td><span style=white-space:pre-wrap>13432       </span></td><td>41.94940</td><td>-87.65453</td><td>41.88990</td><td>-87.67147</td><td>casual</td><td>11:42:44</td><td>7</td></tr>\n",
       "\t<tr><td>D7B764E78660A503</td><td>docked_bike</td><td>23-10-2021 10:16</td><td>02-11-2021 13:57</td><td><span style=white-space:pre-wrap>Leavitt St &amp; Armitage Ave        </span></td><td>TA1309000029</td><td><span style=white-space:pre-wrap>NA                    </span></td><td><span style=white-space:pre-wrap>NA          </span></td><td>41.91781</td><td>-87.68244</td><td><span style=white-space:pre-wrap>      NA</span></td><td><span style=white-space:pre-wrap>       NA</span></td><td>casual</td><td>03:40:51</td><td>7</td></tr>\n",
       "</tbody>\n",
       "</table>\n"
      ],
      "text/latex": [
       "A tibble: 6 × 15\n",
       "\\begin{tabular}{lllllllllllllll}\n",
       " ride\\_id & rideable\\_type & started\\_at & ended\\_at & start\\_station\\_name & start\\_station\\_id & end\\_station\\_name & end\\_station\\_id & start\\_lat & start\\_lng & end\\_lat & end\\_lng & member\\_casual & ride\\_length & day\\_of\\_week\\\\\n",
       " <chr> & <chr> & <chr> & <chr> & <chr> & <chr> & <chr> & <chr> & <dbl> & <dbl> & <dbl> & <dbl> & <chr> & <time> & <dbl>\\\\\n",
       "\\hline\n",
       "\t AADD398D5EAE77E8 & docked\\_bike & 31-10-2021 10:31 & 03-11-2021 21:45 & Rush St \\& Cedar St                & KA1504000133 & NA                     & NA           & 41.90231 & -87.62769 &       NA &        NA & casual & 11:14:33 & 1\\\\\n",
       "\t CA4777787372DB2E & docked\\_bike & 31-10-2021 23:38 & 03-11-2021 15:53 & Damen Ave \\& Cortland St           & 13133        & State St \\& Randolph St & TA1305000029 & 41.91598 & -87.67733 & 41.88462 & -87.62783 & casual & 16:14:51 & 1\\\\\n",
       "\t 7E94559D9805B990 & docked\\_bike & 30-10-2021 18:29 & 03-11-2021 11:18 & Wabash Ave \\& Wacker Pl            & TA1307000131 & NA                     & NA           & 41.88688 & -87.62603 &       NA &        NA & casual & 16:48:44 & 7\\\\\n",
       "\t C9A0E6F5DCBF7C86 & docked\\_bike & 18-10-2021 12:26 & 02-11-2021 19:31 & DuSable Lake Shore Dr \\& Monroe St & 13300        & NA                     & NA           & 41.88096 & -87.61674 &       NA &        NA & casual & 07:05:13 & 2\\\\\n",
       "\t 4928BA00AC98E9E4 & docked\\_bike & 30-10-2021 02:35 & 02-11-2021 14:18 & Sheffield Ave \\& Waveland Ave      & TA1307000126 & Wood St \\& Hubbard St   & 13432        & 41.94940 & -87.65453 & 41.88990 & -87.67147 & casual & 11:42:44 & 7\\\\\n",
       "\t D7B764E78660A503 & docked\\_bike & 23-10-2021 10:16 & 02-11-2021 13:57 & Leavitt St \\& Armitage Ave         & TA1309000029 & NA                     & NA           & 41.91781 & -87.68244 &       NA &        NA & casual & 03:40:51 & 7\\\\\n",
       "\\end{tabular}\n"
      ],
      "text/markdown": [
       "\n",
       "A tibble: 6 × 15\n",
       "\n",
       "| ride_id &lt;chr&gt; | rideable_type &lt;chr&gt; | started_at &lt;chr&gt; | ended_at &lt;chr&gt; | start_station_name &lt;chr&gt; | start_station_id &lt;chr&gt; | end_station_name &lt;chr&gt; | end_station_id &lt;chr&gt; | start_lat &lt;dbl&gt; | start_lng &lt;dbl&gt; | end_lat &lt;dbl&gt; | end_lng &lt;dbl&gt; | member_casual &lt;chr&gt; | ride_length &lt;time&gt; | day_of_week &lt;dbl&gt; |\n",
       "|---|---|---|---|---|---|---|---|---|---|---|---|---|---|---|\n",
       "| AADD398D5EAE77E8 | docked_bike | 31-10-2021 10:31 | 03-11-2021 21:45 | Rush St &amp; Cedar St                | KA1504000133 | NA                     | NA           | 41.90231 | -87.62769 |       NA |        NA | casual | 11:14:33 | 1 |\n",
       "| CA4777787372DB2E | docked_bike | 31-10-2021 23:38 | 03-11-2021 15:53 | Damen Ave &amp; Cortland St           | 13133        | State St &amp; Randolph St | TA1305000029 | 41.91598 | -87.67733 | 41.88462 | -87.62783 | casual | 16:14:51 | 1 |\n",
       "| 7E94559D9805B990 | docked_bike | 30-10-2021 18:29 | 03-11-2021 11:18 | Wabash Ave &amp; Wacker Pl            | TA1307000131 | NA                     | NA           | 41.88688 | -87.62603 |       NA |        NA | casual | 16:48:44 | 7 |\n",
       "| C9A0E6F5DCBF7C86 | docked_bike | 18-10-2021 12:26 | 02-11-2021 19:31 | DuSable Lake Shore Dr &amp; Monroe St | 13300        | NA                     | NA           | 41.88096 | -87.61674 |       NA |        NA | casual | 07:05:13 | 2 |\n",
       "| 4928BA00AC98E9E4 | docked_bike | 30-10-2021 02:35 | 02-11-2021 14:18 | Sheffield Ave &amp; Waveland Ave      | TA1307000126 | Wood St &amp; Hubbard St   | 13432        | 41.94940 | -87.65453 | 41.88990 | -87.67147 | casual | 11:42:44 | 7 |\n",
       "| D7B764E78660A503 | docked_bike | 23-10-2021 10:16 | 02-11-2021 13:57 | Leavitt St &amp; Armitage Ave         | TA1309000029 | NA                     | NA           | 41.91781 | -87.68244 |       NA |        NA | casual | 03:40:51 | 7 |\n",
       "\n"
      ],
      "text/plain": [
       "  ride_id          rideable_type started_at       ended_at        \n",
       "1 AADD398D5EAE77E8 docked_bike   31-10-2021 10:31 03-11-2021 21:45\n",
       "2 CA4777787372DB2E docked_bike   31-10-2021 23:38 03-11-2021 15:53\n",
       "3 7E94559D9805B990 docked_bike   30-10-2021 18:29 03-11-2021 11:18\n",
       "4 C9A0E6F5DCBF7C86 docked_bike   18-10-2021 12:26 02-11-2021 19:31\n",
       "5 4928BA00AC98E9E4 docked_bike   30-10-2021 02:35 02-11-2021 14:18\n",
       "6 D7B764E78660A503 docked_bike   23-10-2021 10:16 02-11-2021 13:57\n",
       "  start_station_name                start_station_id end_station_name      \n",
       "1 Rush St & Cedar St                KA1504000133     NA                    \n",
       "2 Damen Ave & Cortland St           13133            State St & Randolph St\n",
       "3 Wabash Ave & Wacker Pl            TA1307000131     NA                    \n",
       "4 DuSable Lake Shore Dr & Monroe St 13300            NA                    \n",
       "5 Sheffield Ave & Waveland Ave      TA1307000126     Wood St & Hubbard St  \n",
       "6 Leavitt St & Armitage Ave         TA1309000029     NA                    \n",
       "  end_station_id start_lat start_lng end_lat  end_lng   member_casual\n",
       "1 NA             41.90231  -87.62769       NA        NA casual       \n",
       "2 TA1305000029   41.91598  -87.67733 41.88462 -87.62783 casual       \n",
       "3 NA             41.88688  -87.62603       NA        NA casual       \n",
       "4 NA             41.88096  -87.61674       NA        NA casual       \n",
       "5 13432          41.94940  -87.65453 41.88990 -87.67147 casual       \n",
       "6 NA             41.91781  -87.68244       NA        NA casual       \n",
       "  ride_length day_of_week\n",
       "1 11:14:33    1          \n",
       "2 16:14:51    1          \n",
       "3 16:48:44    7          \n",
       "4 07:05:13    2          \n",
       "5 11:42:44    7          \n",
       "6 03:40:51    7          "
      ]
     },
     "metadata": {},
     "output_type": "display_data"
    }
   ],
   "source": [
    "head(all_tripdata_no_dups) # seeing the first 6 rows of the data frame "
   ]
  },
  {
   "cell_type": "code",
   "execution_count": 11,
   "id": "b64f68db",
   "metadata": {
    "execution": {
     "iopub.execute_input": "2022-11-02T11:37:12.267266Z",
     "iopub.status.busy": "2022-11-02T11:37:12.265946Z",
     "iopub.status.idle": "2022-11-02T11:37:12.291413Z",
     "shell.execute_reply": "2022-11-02T11:37:12.290076Z"
    },
    "papermill": {
     "duration": 0.04701,
     "end_time": "2022-11-02T11:37:12.293196",
     "exception": false,
     "start_time": "2022-11-02T11:37:12.246186",
     "status": "completed"
    },
    "tags": []
   },
   "outputs": [
    {
     "data": {
      "text/html": [
       "<table class=\"dataframe\">\n",
       "<caption>A tibble: 6 × 15</caption>\n",
       "<thead>\n",
       "\t<tr><th scope=col>ride_id</th><th scope=col>rideable_type</th><th scope=col>started_at</th><th scope=col>ended_at</th><th scope=col>start_station_name</th><th scope=col>start_station_id</th><th scope=col>end_station_name</th><th scope=col>end_station_id</th><th scope=col>start_lat</th><th scope=col>start_lng</th><th scope=col>end_lat</th><th scope=col>end_lng</th><th scope=col>member_casual</th><th scope=col>ride_length</th><th scope=col>day_of_week</th></tr>\n",
       "\t<tr><th scope=col>&lt;chr&gt;</th><th scope=col>&lt;chr&gt;</th><th scope=col>&lt;chr&gt;</th><th scope=col>&lt;chr&gt;</th><th scope=col>&lt;chr&gt;</th><th scope=col>&lt;chr&gt;</th><th scope=col>&lt;chr&gt;</th><th scope=col>&lt;chr&gt;</th><th scope=col>&lt;dbl&gt;</th><th scope=col>&lt;dbl&gt;</th><th scope=col>&lt;dbl&gt;</th><th scope=col>&lt;dbl&gt;</th><th scope=col>&lt;chr&gt;</th><th scope=col>&lt;time&gt;</th><th scope=col>&lt;dbl&gt;</th></tr>\n",
       "</thead>\n",
       "<tbody>\n",
       "\t<tr><td>DC8318F0C749314B</td><td>classic_bike </td><td>21-09-2022 16:16</td><td>21-09-2022 16:25</td><td><span style=white-space:pre-wrap>Wells St &amp; Hubbard St  </span></td><td>TA1307000151</td><td><span style=white-space:pre-wrap>Wabash Ave &amp; Adams St                              </span></td><td>KA1503000015</td><td>41.88991</td><td>-87.63427</td><td>41.87947</td><td>-87.62569</td><td>member</td><td>00:09:26</td><td>4</td></tr>\n",
       "\t<tr><td>32ECA2B32C4B6F85</td><td>classic_bike </td><td>05-09-2022 17:59</td><td>05-09-2022 18:19</td><td>Lincoln Ave &amp; Winona St</td><td>KA1504000078</td><td>Broadway &amp; Wilson - Truman College Vaccination Site</td><td><span style=white-space:pre-wrap>13074       </span></td><td>41.97491</td><td>-87.69250</td><td>41.96522</td><td>-87.65814</td><td>member</td><td>00:19:46</td><td>2</td></tr>\n",
       "\t<tr><td>14801F713026AEAE</td><td>classic_bike </td><td>30-09-2022 17:20</td><td>30-09-2022 17:34</td><td><span style=white-space:pre-wrap>Broadway &amp; Ridge Ave   </span></td><td><span style=white-space:pre-wrap>15578       </span></td><td>Broadway &amp; Wilson - Truman College Vaccination Site</td><td><span style=white-space:pre-wrap>13074       </span></td><td>41.98404</td><td>-87.66027</td><td>41.96522</td><td>-87.65814</td><td>member</td><td>00:13:46</td><td>6</td></tr>\n",
       "\t<tr><td>7CCAF5D6E88E45C0</td><td>electric_bike</td><td>04-09-2022 11:39</td><td>04-09-2022 11:50</td><td><span style=white-space:pre-wrap>Broadway &amp; Ridge Ave   </span></td><td><span style=white-space:pre-wrap>15578       </span></td><td>Broadway &amp; Wilson - Truman College Vaccination Site</td><td><span style=white-space:pre-wrap>13074       </span></td><td>41.98411</td><td>-87.66027</td><td>41.96522</td><td>-87.65814</td><td>member</td><td>00:11:18</td><td>1</td></tr>\n",
       "\t<tr><td>AF9A129D9AFAA40B</td><td>electric_bike</td><td>28-09-2022 13:42</td><td>28-09-2022 13:52</td><td>Lincoln Ave &amp; Winona St</td><td>KA1504000078</td><td>Broadway &amp; Wilson - Truman College Vaccination Site</td><td><span style=white-space:pre-wrap>13074       </span></td><td>41.97492</td><td>-87.69273</td><td>41.96522</td><td>-87.65814</td><td>member</td><td>00:10:14</td><td>4</td></tr>\n",
       "\t<tr><td>60B56F4897429FCE</td><td>electric_bike</td><td>01-09-2022 20:07</td><td>01-09-2022 20:18</td><td>Lincoln Ave &amp; Winona St</td><td>KA1504000078</td><td>Broadway &amp; Wilson - Truman College Vaccination Site</td><td><span style=white-space:pre-wrap>13074       </span></td><td>41.97490</td><td>-87.69265</td><td>41.96522</td><td>-87.65814</td><td>member</td><td>00:10:57</td><td>5</td></tr>\n",
       "</tbody>\n",
       "</table>\n"
      ],
      "text/latex": [
       "A tibble: 6 × 15\n",
       "\\begin{tabular}{lllllllllllllll}\n",
       " ride\\_id & rideable\\_type & started\\_at & ended\\_at & start\\_station\\_name & start\\_station\\_id & end\\_station\\_name & end\\_station\\_id & start\\_lat & start\\_lng & end\\_lat & end\\_lng & member\\_casual & ride\\_length & day\\_of\\_week\\\\\n",
       " <chr> & <chr> & <chr> & <chr> & <chr> & <chr> & <chr> & <chr> & <dbl> & <dbl> & <dbl> & <dbl> & <chr> & <time> & <dbl>\\\\\n",
       "\\hline\n",
       "\t DC8318F0C749314B & classic\\_bike  & 21-09-2022 16:16 & 21-09-2022 16:25 & Wells St \\& Hubbard St   & TA1307000151 & Wabash Ave \\& Adams St                               & KA1503000015 & 41.88991 & -87.63427 & 41.87947 & -87.62569 & member & 00:09:26 & 4\\\\\n",
       "\t 32ECA2B32C4B6F85 & classic\\_bike  & 05-09-2022 17:59 & 05-09-2022 18:19 & Lincoln Ave \\& Winona St & KA1504000078 & Broadway \\& Wilson - Truman College Vaccination Site & 13074        & 41.97491 & -87.69250 & 41.96522 & -87.65814 & member & 00:19:46 & 2\\\\\n",
       "\t 14801F713026AEAE & classic\\_bike  & 30-09-2022 17:20 & 30-09-2022 17:34 & Broadway \\& Ridge Ave    & 15578        & Broadway \\& Wilson - Truman College Vaccination Site & 13074        & 41.98404 & -87.66027 & 41.96522 & -87.65814 & member & 00:13:46 & 6\\\\\n",
       "\t 7CCAF5D6E88E45C0 & electric\\_bike & 04-09-2022 11:39 & 04-09-2022 11:50 & Broadway \\& Ridge Ave    & 15578        & Broadway \\& Wilson - Truman College Vaccination Site & 13074        & 41.98411 & -87.66027 & 41.96522 & -87.65814 & member & 00:11:18 & 1\\\\\n",
       "\t AF9A129D9AFAA40B & electric\\_bike & 28-09-2022 13:42 & 28-09-2022 13:52 & Lincoln Ave \\& Winona St & KA1504000078 & Broadway \\& Wilson - Truman College Vaccination Site & 13074        & 41.97492 & -87.69273 & 41.96522 & -87.65814 & member & 00:10:14 & 4\\\\\n",
       "\t 60B56F4897429FCE & electric\\_bike & 01-09-2022 20:07 & 01-09-2022 20:18 & Lincoln Ave \\& Winona St & KA1504000078 & Broadway \\& Wilson - Truman College Vaccination Site & 13074        & 41.97490 & -87.69265 & 41.96522 & -87.65814 & member & 00:10:57 & 5\\\\\n",
       "\\end{tabular}\n"
      ],
      "text/markdown": [
       "\n",
       "A tibble: 6 × 15\n",
       "\n",
       "| ride_id &lt;chr&gt; | rideable_type &lt;chr&gt; | started_at &lt;chr&gt; | ended_at &lt;chr&gt; | start_station_name &lt;chr&gt; | start_station_id &lt;chr&gt; | end_station_name &lt;chr&gt; | end_station_id &lt;chr&gt; | start_lat &lt;dbl&gt; | start_lng &lt;dbl&gt; | end_lat &lt;dbl&gt; | end_lng &lt;dbl&gt; | member_casual &lt;chr&gt; | ride_length &lt;time&gt; | day_of_week &lt;dbl&gt; |\n",
       "|---|---|---|---|---|---|---|---|---|---|---|---|---|---|---|\n",
       "| DC8318F0C749314B | classic_bike  | 21-09-2022 16:16 | 21-09-2022 16:25 | Wells St &amp; Hubbard St   | TA1307000151 | Wabash Ave &amp; Adams St                               | KA1503000015 | 41.88991 | -87.63427 | 41.87947 | -87.62569 | member | 00:09:26 | 4 |\n",
       "| 32ECA2B32C4B6F85 | classic_bike  | 05-09-2022 17:59 | 05-09-2022 18:19 | Lincoln Ave &amp; Winona St | KA1504000078 | Broadway &amp; Wilson - Truman College Vaccination Site | 13074        | 41.97491 | -87.69250 | 41.96522 | -87.65814 | member | 00:19:46 | 2 |\n",
       "| 14801F713026AEAE | classic_bike  | 30-09-2022 17:20 | 30-09-2022 17:34 | Broadway &amp; Ridge Ave    | 15578        | Broadway &amp; Wilson - Truman College Vaccination Site | 13074        | 41.98404 | -87.66027 | 41.96522 | -87.65814 | member | 00:13:46 | 6 |\n",
       "| 7CCAF5D6E88E45C0 | electric_bike | 04-09-2022 11:39 | 04-09-2022 11:50 | Broadway &amp; Ridge Ave    | 15578        | Broadway &amp; Wilson - Truman College Vaccination Site | 13074        | 41.98411 | -87.66027 | 41.96522 | -87.65814 | member | 00:11:18 | 1 |\n",
       "| AF9A129D9AFAA40B | electric_bike | 28-09-2022 13:42 | 28-09-2022 13:52 | Lincoln Ave &amp; Winona St | KA1504000078 | Broadway &amp; Wilson - Truman College Vaccination Site | 13074        | 41.97492 | -87.69273 | 41.96522 | -87.65814 | member | 00:10:14 | 4 |\n",
       "| 60B56F4897429FCE | electric_bike | 01-09-2022 20:07 | 01-09-2022 20:18 | Lincoln Ave &amp; Winona St | KA1504000078 | Broadway &amp; Wilson - Truman College Vaccination Site | 13074        | 41.97490 | -87.69265 | 41.96522 | -87.65814 | member | 00:10:57 | 5 |\n",
       "\n"
      ],
      "text/plain": [
       "  ride_id          rideable_type started_at       ended_at        \n",
       "1 DC8318F0C749314B classic_bike  21-09-2022 16:16 21-09-2022 16:25\n",
       "2 32ECA2B32C4B6F85 classic_bike  05-09-2022 17:59 05-09-2022 18:19\n",
       "3 14801F713026AEAE classic_bike  30-09-2022 17:20 30-09-2022 17:34\n",
       "4 7CCAF5D6E88E45C0 electric_bike 04-09-2022 11:39 04-09-2022 11:50\n",
       "5 AF9A129D9AFAA40B electric_bike 28-09-2022 13:42 28-09-2022 13:52\n",
       "6 60B56F4897429FCE electric_bike 01-09-2022 20:07 01-09-2022 20:18\n",
       "  start_station_name      start_station_id\n",
       "1 Wells St & Hubbard St   TA1307000151    \n",
       "2 Lincoln Ave & Winona St KA1504000078    \n",
       "3 Broadway & Ridge Ave    15578           \n",
       "4 Broadway & Ridge Ave    15578           \n",
       "5 Lincoln Ave & Winona St KA1504000078    \n",
       "6 Lincoln Ave & Winona St KA1504000078    \n",
       "  end_station_name                                    end_station_id start_lat\n",
       "1 Wabash Ave & Adams St                               KA1503000015   41.88991 \n",
       "2 Broadway & Wilson - Truman College Vaccination Site 13074          41.97491 \n",
       "3 Broadway & Wilson - Truman College Vaccination Site 13074          41.98404 \n",
       "4 Broadway & Wilson - Truman College Vaccination Site 13074          41.98411 \n",
       "5 Broadway & Wilson - Truman College Vaccination Site 13074          41.97492 \n",
       "6 Broadway & Wilson - Truman College Vaccination Site 13074          41.97490 \n",
       "  start_lng end_lat  end_lng   member_casual ride_length day_of_week\n",
       "1 -87.63427 41.87947 -87.62569 member        00:09:26    4          \n",
       "2 -87.69250 41.96522 -87.65814 member        00:19:46    2          \n",
       "3 -87.66027 41.96522 -87.65814 member        00:13:46    6          \n",
       "4 -87.66027 41.96522 -87.65814 member        00:11:18    1          \n",
       "5 -87.69273 41.96522 -87.65814 member        00:10:14    4          \n",
       "6 -87.69265 41.96522 -87.65814 member        00:10:57    5          "
      ]
     },
     "metadata": {},
     "output_type": "display_data"
    }
   ],
   "source": [
    "tail(all_tripdata_no_dups) # seeing the last 6 rows of the data frame"
   ]
  },
  {
   "cell_type": "code",
   "execution_count": 12,
   "id": "f95b197a",
   "metadata": {
    "execution": {
     "iopub.execute_input": "2022-11-02T11:37:12.332786Z",
     "iopub.status.busy": "2022-11-02T11:37:12.331529Z",
     "iopub.status.idle": "2022-11-02T11:37:12.359498Z",
     "shell.execute_reply": "2022-11-02T11:37:12.357710Z"
    },
    "papermill": {
     "duration": 0.049813,
     "end_time": "2022-11-02T11:37:12.361820",
     "exception": false,
     "start_time": "2022-11-02T11:37:12.312007",
     "status": "completed"
    },
    "tags": []
   },
   "outputs": [
    {
     "name": "stdout",
     "output_type": "stream",
     "text": [
      "tibble [5,826,202 × 15] (S3: tbl_df/tbl/data.frame)\n",
      " $ ride_id           : chr [1:5826202] \"AADD398D5EAE77E8\" \"CA4777787372DB2E\" \"7E94559D9805B990\" \"C9A0E6F5DCBF7C86\" ...\n",
      " $ rideable_type     : chr [1:5826202] \"docked_bike\" \"docked_bike\" \"docked_bike\" \"docked_bike\" ...\n",
      " $ started_at        : chr [1:5826202] \"31-10-2021 10:31\" \"31-10-2021 23:38\" \"30-10-2021 18:29\" \"18-10-2021 12:26\" ...\n",
      " $ ended_at          : chr [1:5826202] \"03-11-2021 21:45\" \"03-11-2021 15:53\" \"03-11-2021 11:18\" \"02-11-2021 19:31\" ...\n",
      " $ start_station_name: chr [1:5826202] \"Rush St & Cedar St\" \"Damen Ave & Cortland St\" \"Wabash Ave & Wacker Pl\" \"DuSable Lake Shore Dr & Monroe St\" ...\n",
      " $ start_station_id  : chr [1:5826202] \"KA1504000133\" \"13133\" \"TA1307000131\" \"13300\" ...\n",
      " $ end_station_name  : chr [1:5826202] NA \"State St & Randolph St\" NA NA ...\n",
      " $ end_station_id    : chr [1:5826202] NA \"TA1305000029\" NA NA ...\n",
      " $ start_lat         : num [1:5826202] 41.9 41.9 41.9 41.9 41.9 ...\n",
      " $ start_lng         : num [1:5826202] -87.6 -87.7 -87.6 -87.6 -87.7 ...\n",
      " $ end_lat           : num [1:5826202] NA 41.9 NA NA 41.9 ...\n",
      " $ end_lng           : num [1:5826202] NA -87.6 NA NA -87.7 ...\n",
      " $ member_casual     : chr [1:5826202] \"casual\" \"casual\" \"casual\" \"casual\" ...\n",
      " $ ride_length       : 'hms' num [1:5826202] 11:14:33 16:14:51 16:48:44 07:05:13 ...\n",
      "  ..- attr(*, \"units\")= chr \"secs\"\n",
      " $ day_of_week       : num [1:5826202] 1 1 7 2 7 7 4 5 1 5 ...\n"
     ]
    }
   ],
   "source": [
    "str(all_tripdata_no_dups)  # Inspecting data"
   ]
  },
  {
   "cell_type": "code",
   "execution_count": 13,
   "id": "8f6b52b5",
   "metadata": {
    "execution": {
     "iopub.execute_input": "2022-11-02T11:37:12.402910Z",
     "iopub.status.busy": "2022-11-02T11:37:12.401542Z",
     "iopub.status.idle": "2022-11-02T11:37:16.168309Z",
     "shell.execute_reply": "2022-11-02T11:37:16.166967Z"
    },
    "papermill": {
     "duration": 3.789692,
     "end_time": "2022-11-02T11:37:16.170933",
     "exception": false,
     "start_time": "2022-11-02T11:37:12.381241",
     "status": "completed"
    },
    "tags": []
   },
   "outputs": [
    {
     "data": {
      "text/plain": [
       "   ride_id          rideable_type       started_at          ended_at        \n",
       " Length:5826202     Length:5826202     Length:5826202     Length:5826202    \n",
       " Class :character   Class :character   Class :character   Class :character  \n",
       " Mode  :character   Mode  :character   Mode  :character   Mode  :character  \n",
       "                                                                            \n",
       "                                                                            \n",
       "                                                                            \n",
       "                                                                            \n",
       " start_station_name start_station_id   end_station_name   end_station_id    \n",
       " Length:5826202     Length:5826202     Length:5826202     Length:5826202    \n",
       " Class :character   Class :character   Class :character   Class :character  \n",
       " Mode  :character   Mode  :character   Mode  :character   Mode  :character  \n",
       "                                                                            \n",
       "                                                                            \n",
       "                                                                            \n",
       "                                                                            \n",
       "   start_lat       start_lng         end_lat         end_lng      \n",
       " Min.   :41.64   Min.   :-87.84   Min.   :41.39   Min.   :-88.97  \n",
       " 1st Qu.:41.88   1st Qu.:-87.66   1st Qu.:41.88   1st Qu.:-87.66  \n",
       " Median :41.90   Median :-87.64   Median :41.90   Median :-87.64  \n",
       " Mean   :41.90   Mean   :-87.65   Mean   :41.90   Mean   :-87.65  \n",
       " 3rd Qu.:41.93   3rd Qu.:-87.63   3rd Qu.:41.93   3rd Qu.:-87.63  \n",
       " Max.   :45.64   Max.   :-73.80   Max.   :42.37   Max.   :-87.30  \n",
       "                                  NA's   :5842    NA's   :5842    \n",
       " member_casual      ride_length        day_of_week   \n",
       " Length:5826202     Length:5826202    Min.   :1.000  \n",
       " Class :character   Class1:hms        1st Qu.:2.000  \n",
       " Mode  :character   Class2:difftime   Median :4.000  \n",
       "                    Mode  :numeric    Mean   :4.117  \n",
       "                                      3rd Qu.:6.000  \n",
       "                                      Max.   :7.000  \n",
       "                                                     "
      ]
     },
     "metadata": {},
     "output_type": "display_data"
    }
   ],
   "source": [
    "summary(all_tripdata_no_dups) # checking summary of data"
   ]
  },
  {
   "cell_type": "code",
   "execution_count": 14,
   "id": "0537f4a6",
   "metadata": {
    "execution": {
     "iopub.execute_input": "2022-11-02T11:37:16.209873Z",
     "iopub.status.busy": "2022-11-02T11:37:16.208578Z",
     "iopub.status.idle": "2022-11-02T11:37:16.283517Z",
     "shell.execute_reply": "2022-11-02T11:37:16.282328Z"
    },
    "papermill": {
     "duration": 0.096132,
     "end_time": "2022-11-02T11:37:16.285189",
     "exception": false,
     "start_time": "2022-11-02T11:37:16.189057",
     "status": "completed"
    },
    "tags": []
   },
   "outputs": [
    {
     "data": {
      "text/html": [
       "<style>\n",
       ".list-inline {list-style: none; margin:0; padding: 0}\n",
       ".list-inline>li {display: inline-block}\n",
       ".list-inline>li:not(:last-child)::after {content: \"\\00b7\"; padding: 0 .5ex}\n",
       "</style>\n",
       "<ol class=list-inline><li>'casual'</li><li>'member'</li></ol>\n"
      ],
      "text/latex": [
       "\\begin{enumerate*}\n",
       "\\item 'casual'\n",
       "\\item 'member'\n",
       "\\end{enumerate*}\n"
      ],
      "text/markdown": [
       "1. 'casual'\n",
       "2. 'member'\n",
       "\n",
       "\n"
      ],
      "text/plain": [
       "[1] \"casual\" \"member\""
      ]
     },
     "metadata": {},
     "output_type": "display_data"
    }
   ],
   "source": [
    "unique(all_tripdata_no_dups$member_casual) # checking if there are any other values than member or casual."
   ]
  },
  {
   "cell_type": "code",
   "execution_count": 15,
   "id": "fc512c94",
   "metadata": {
    "execution": {
     "iopub.execute_input": "2022-11-02T11:37:16.325985Z",
     "iopub.status.busy": "2022-11-02T11:37:16.324716Z",
     "iopub.status.idle": "2022-11-02T11:37:26.658606Z",
     "shell.execute_reply": "2022-11-02T11:37:26.657039Z"
    },
    "papermill": {
     "duration": 10.356915,
     "end_time": "2022-11-02T11:37:26.660909",
     "exception": false,
     "start_time": "2022-11-02T11:37:16.303994",
     "status": "completed"
    },
    "tags": []
   },
   "outputs": [],
   "source": [
    "#Creating new columns to improve calculations\n",
    "all_tripdata_no_dups$month <- month(dmy_hm(all_tripdata_no_dups$started_at)) # Extracting Month \n",
    "all_tripdata_no_dups$date <- date(dmy_hm(all_tripdata_no_dups$started_at))   # Extracting date\n",
    "all_tripdata_no_dups$year <- year(dmy_hm(all_tripdata_no_dups$started_at))   # Extracting year\n",
    "all_tripdata_no_dups$day <- day(dmy_hm(all_tripdata_no_dups$started_at))     # Extracting day\n",
    "all_tripdata_no_dups$hour <- hour(dmy_hm(all_tripdata_no_dups$started_at))     # Extracting hour"
   ]
  },
  {
   "cell_type": "code",
   "execution_count": 16,
   "id": "4d7ce40a",
   "metadata": {
    "execution": {
     "iopub.execute_input": "2022-11-02T11:37:26.701973Z",
     "iopub.status.busy": "2022-11-02T11:37:26.700546Z",
     "iopub.status.idle": "2022-11-02T11:37:26.713715Z",
     "shell.execute_reply": "2022-11-02T11:37:26.712492Z"
    },
    "papermill": {
     "duration": 0.035361,
     "end_time": "2022-11-02T11:37:26.715574",
     "exception": false,
     "start_time": "2022-11-02T11:37:26.680213",
     "status": "completed"
    },
    "tags": []
   },
   "outputs": [
    {
     "data": {
      "text/html": [
       "<style>\n",
       ".list-inline {list-style: none; margin:0; padding: 0}\n",
       ".list-inline>li {display: inline-block}\n",
       ".list-inline>li:not(:last-child)::after {content: \"\\00b7\"; padding: 0 .5ex}\n",
       "</style>\n",
       "<ol class=list-inline><li>'hms'</li><li>'difftime'</li></ol>\n"
      ],
      "text/latex": [
       "\\begin{enumerate*}\n",
       "\\item 'hms'\n",
       "\\item 'difftime'\n",
       "\\end{enumerate*}\n"
      ],
      "text/markdown": [
       "1. 'hms'\n",
       "2. 'difftime'\n",
       "\n",
       "\n"
      ],
      "text/plain": [
       "[1] \"hms\"      \"difftime\""
      ]
     },
     "metadata": {},
     "output_type": "display_data"
    }
   ],
   "source": [
    "class(all_tripdata_no_dups$ride_length)"
   ]
  },
  {
   "cell_type": "markdown",
   "id": "251210d6",
   "metadata": {
    "papermill": {
     "duration": 0.019039,
     "end_time": "2022-11-02T11:37:26.753457",
     "exception": false,
     "start_time": "2022-11-02T11:37:26.734418",
     "status": "completed"
    },
    "tags": []
   },
   "source": [
    "<a id=\"process-code-manipulating\"></a>\n",
    "### Manipulating data"
   ]
  },
  {
   "cell_type": "code",
   "execution_count": 17,
   "id": "0a0d61ed",
   "metadata": {
    "execution": {
     "iopub.execute_input": "2022-11-02T11:37:26.793861Z",
     "iopub.status.busy": "2022-11-02T11:37:26.792568Z",
     "iopub.status.idle": "2022-11-02T11:37:27.913869Z",
     "shell.execute_reply": "2022-11-02T11:37:27.912631Z"
    },
    "papermill": {
     "duration": 1.143508,
     "end_time": "2022-11-02T11:37:27.915529",
     "exception": false,
     "start_time": "2022-11-02T11:37:26.772021",
     "status": "completed"
    },
    "tags": []
   },
   "outputs": [
    {
     "data": {
      "text/html": [
       "<table class=\"dataframe\">\n",
       "<caption>A tibble: 6 × 20</caption>\n",
       "<thead>\n",
       "\t<tr><th scope=col>ride_id</th><th scope=col>rideable_type</th><th scope=col>started_at</th><th scope=col>ended_at</th><th scope=col>start_station_name</th><th scope=col>start_station_id</th><th scope=col>end_station_name</th><th scope=col>end_station_id</th><th scope=col>start_lat</th><th scope=col>start_lng</th><th scope=col>end_lat</th><th scope=col>end_lng</th><th scope=col>member_casual</th><th scope=col>ride_length</th><th scope=col>day_of_week</th><th scope=col>month</th><th scope=col>date</th><th scope=col>year</th><th scope=col>day</th><th scope=col>hour</th></tr>\n",
       "\t<tr><th scope=col>&lt;chr&gt;</th><th scope=col>&lt;chr&gt;</th><th scope=col>&lt;chr&gt;</th><th scope=col>&lt;chr&gt;</th><th scope=col>&lt;chr&gt;</th><th scope=col>&lt;chr&gt;</th><th scope=col>&lt;chr&gt;</th><th scope=col>&lt;chr&gt;</th><th scope=col>&lt;dbl&gt;</th><th scope=col>&lt;dbl&gt;</th><th scope=col>&lt;dbl&gt;</th><th scope=col>&lt;dbl&gt;</th><th scope=col>&lt;chr&gt;</th><th scope=col>&lt;dbl&gt;</th><th scope=col>&lt;dbl&gt;</th><th scope=col>&lt;dbl&gt;</th><th scope=col>&lt;date&gt;</th><th scope=col>&lt;dbl&gt;</th><th scope=col>&lt;int&gt;</th><th scope=col>&lt;int&gt;</th></tr>\n",
       "</thead>\n",
       "<tbody>\n",
       "\t<tr><td>AADD398D5EAE77E8</td><td>docked_bike</td><td>31-10-2021 10:31</td><td>03-11-2021 21:45</td><td><span style=white-space:pre-wrap>Rush St &amp; Cedar St               </span></td><td>KA1504000133</td><td><span style=white-space:pre-wrap>NA                    </span></td><td><span style=white-space:pre-wrap>NA          </span></td><td>41.90231</td><td>-87.62769</td><td><span style=white-space:pre-wrap>      NA</span></td><td><span style=white-space:pre-wrap>       NA</span></td><td>casual</td><td>40440</td><td>1</td><td>10</td><td>2021-10-31</td><td>2021</td><td>31</td><td>10</td></tr>\n",
       "\t<tr><td>CA4777787372DB2E</td><td>docked_bike</td><td>31-10-2021 23:38</td><td>03-11-2021 15:53</td><td><span style=white-space:pre-wrap>Damen Ave &amp; Cortland St          </span></td><td><span style=white-space:pre-wrap>13133       </span></td><td>State St &amp; Randolph St</td><td>TA1305000029</td><td>41.91598</td><td>-87.67733</td><td>41.88462</td><td>-87.62783</td><td>casual</td><td>58440</td><td>1</td><td>10</td><td>2021-10-31</td><td>2021</td><td>31</td><td>23</td></tr>\n",
       "\t<tr><td>7E94559D9805B990</td><td>docked_bike</td><td>30-10-2021 18:29</td><td>03-11-2021 11:18</td><td><span style=white-space:pre-wrap>Wabash Ave &amp; Wacker Pl           </span></td><td>TA1307000131</td><td><span style=white-space:pre-wrap>NA                    </span></td><td><span style=white-space:pre-wrap>NA          </span></td><td>41.88688</td><td>-87.62603</td><td><span style=white-space:pre-wrap>      NA</span></td><td><span style=white-space:pre-wrap>       NA</span></td><td>casual</td><td>60480</td><td>7</td><td>10</td><td>2021-10-30</td><td>2021</td><td>30</td><td>18</td></tr>\n",
       "\t<tr><td>C9A0E6F5DCBF7C86</td><td>docked_bike</td><td>18-10-2021 12:26</td><td>02-11-2021 19:31</td><td>DuSable Lake Shore Dr &amp; Monroe St</td><td><span style=white-space:pre-wrap>13300       </span></td><td><span style=white-space:pre-wrap>NA                    </span></td><td><span style=white-space:pre-wrap>NA          </span></td><td>41.88096</td><td>-87.61674</td><td><span style=white-space:pre-wrap>      NA</span></td><td><span style=white-space:pre-wrap>       NA</span></td><td>casual</td><td>25500</td><td>2</td><td>10</td><td>2021-10-18</td><td>2021</td><td>18</td><td>12</td></tr>\n",
       "\t<tr><td>4928BA00AC98E9E4</td><td>docked_bike</td><td>30-10-2021 02:35</td><td>02-11-2021 14:18</td><td><span style=white-space:pre-wrap>Sheffield Ave &amp; Waveland Ave     </span></td><td>TA1307000126</td><td><span style=white-space:pre-wrap>Wood St &amp; Hubbard St  </span></td><td><span style=white-space:pre-wrap>13432       </span></td><td>41.94940</td><td>-87.65453</td><td>41.88990</td><td>-87.67147</td><td>casual</td><td>42120</td><td>7</td><td>10</td><td>2021-10-30</td><td>2021</td><td>30</td><td> 2</td></tr>\n",
       "\t<tr><td>D7B764E78660A503</td><td>docked_bike</td><td>23-10-2021 10:16</td><td>02-11-2021 13:57</td><td><span style=white-space:pre-wrap>Leavitt St &amp; Armitage Ave        </span></td><td>TA1309000029</td><td><span style=white-space:pre-wrap>NA                    </span></td><td><span style=white-space:pre-wrap>NA          </span></td><td>41.91781</td><td>-87.68244</td><td><span style=white-space:pre-wrap>      NA</span></td><td><span style=white-space:pre-wrap>       NA</span></td><td>casual</td><td>13200</td><td>7</td><td>10</td><td>2021-10-23</td><td>2021</td><td>23</td><td>10</td></tr>\n",
       "</tbody>\n",
       "</table>\n"
      ],
      "text/latex": [
       "A tibble: 6 × 20\n",
       "\\begin{tabular}{llllllllllllllllllll}\n",
       " ride\\_id & rideable\\_type & started\\_at & ended\\_at & start\\_station\\_name & start\\_station\\_id & end\\_station\\_name & end\\_station\\_id & start\\_lat & start\\_lng & end\\_lat & end\\_lng & member\\_casual & ride\\_length & day\\_of\\_week & month & date & year & day & hour\\\\\n",
       " <chr> & <chr> & <chr> & <chr> & <chr> & <chr> & <chr> & <chr> & <dbl> & <dbl> & <dbl> & <dbl> & <chr> & <dbl> & <dbl> & <dbl> & <date> & <dbl> & <int> & <int>\\\\\n",
       "\\hline\n",
       "\t AADD398D5EAE77E8 & docked\\_bike & 31-10-2021 10:31 & 03-11-2021 21:45 & Rush St \\& Cedar St                & KA1504000133 & NA                     & NA           & 41.90231 & -87.62769 &       NA &        NA & casual & 40440 & 1 & 10 & 2021-10-31 & 2021 & 31 & 10\\\\\n",
       "\t CA4777787372DB2E & docked\\_bike & 31-10-2021 23:38 & 03-11-2021 15:53 & Damen Ave \\& Cortland St           & 13133        & State St \\& Randolph St & TA1305000029 & 41.91598 & -87.67733 & 41.88462 & -87.62783 & casual & 58440 & 1 & 10 & 2021-10-31 & 2021 & 31 & 23\\\\\n",
       "\t 7E94559D9805B990 & docked\\_bike & 30-10-2021 18:29 & 03-11-2021 11:18 & Wabash Ave \\& Wacker Pl            & TA1307000131 & NA                     & NA           & 41.88688 & -87.62603 &       NA &        NA & casual & 60480 & 7 & 10 & 2021-10-30 & 2021 & 30 & 18\\\\\n",
       "\t C9A0E6F5DCBF7C86 & docked\\_bike & 18-10-2021 12:26 & 02-11-2021 19:31 & DuSable Lake Shore Dr \\& Monroe St & 13300        & NA                     & NA           & 41.88096 & -87.61674 &       NA &        NA & casual & 25500 & 2 & 10 & 2021-10-18 & 2021 & 18 & 12\\\\\n",
       "\t 4928BA00AC98E9E4 & docked\\_bike & 30-10-2021 02:35 & 02-11-2021 14:18 & Sheffield Ave \\& Waveland Ave      & TA1307000126 & Wood St \\& Hubbard St   & 13432        & 41.94940 & -87.65453 & 41.88990 & -87.67147 & casual & 42120 & 7 & 10 & 2021-10-30 & 2021 & 30 &  2\\\\\n",
       "\t D7B764E78660A503 & docked\\_bike & 23-10-2021 10:16 & 02-11-2021 13:57 & Leavitt St \\& Armitage Ave         & TA1309000029 & NA                     & NA           & 41.91781 & -87.68244 &       NA &        NA & casual & 13200 & 7 & 10 & 2021-10-23 & 2021 & 23 & 10\\\\\n",
       "\\end{tabular}\n"
      ],
      "text/markdown": [
       "\n",
       "A tibble: 6 × 20\n",
       "\n",
       "| ride_id &lt;chr&gt; | rideable_type &lt;chr&gt; | started_at &lt;chr&gt; | ended_at &lt;chr&gt; | start_station_name &lt;chr&gt; | start_station_id &lt;chr&gt; | end_station_name &lt;chr&gt; | end_station_id &lt;chr&gt; | start_lat &lt;dbl&gt; | start_lng &lt;dbl&gt; | end_lat &lt;dbl&gt; | end_lng &lt;dbl&gt; | member_casual &lt;chr&gt; | ride_length &lt;dbl&gt; | day_of_week &lt;dbl&gt; | month &lt;dbl&gt; | date &lt;date&gt; | year &lt;dbl&gt; | day &lt;int&gt; | hour &lt;int&gt; |\n",
       "|---|---|---|---|---|---|---|---|---|---|---|---|---|---|---|---|---|---|---|---|\n",
       "| AADD398D5EAE77E8 | docked_bike | 31-10-2021 10:31 | 03-11-2021 21:45 | Rush St &amp; Cedar St                | KA1504000133 | NA                     | NA           | 41.90231 | -87.62769 |       NA |        NA | casual | 40440 | 1 | 10 | 2021-10-31 | 2021 | 31 | 10 |\n",
       "| CA4777787372DB2E | docked_bike | 31-10-2021 23:38 | 03-11-2021 15:53 | Damen Ave &amp; Cortland St           | 13133        | State St &amp; Randolph St | TA1305000029 | 41.91598 | -87.67733 | 41.88462 | -87.62783 | casual | 58440 | 1 | 10 | 2021-10-31 | 2021 | 31 | 23 |\n",
       "| 7E94559D9805B990 | docked_bike | 30-10-2021 18:29 | 03-11-2021 11:18 | Wabash Ave &amp; Wacker Pl            | TA1307000131 | NA                     | NA           | 41.88688 | -87.62603 |       NA |        NA | casual | 60480 | 7 | 10 | 2021-10-30 | 2021 | 30 | 18 |\n",
       "| C9A0E6F5DCBF7C86 | docked_bike | 18-10-2021 12:26 | 02-11-2021 19:31 | DuSable Lake Shore Dr &amp; Monroe St | 13300        | NA                     | NA           | 41.88096 | -87.61674 |       NA |        NA | casual | 25500 | 2 | 10 | 2021-10-18 | 2021 | 18 | 12 |\n",
       "| 4928BA00AC98E9E4 | docked_bike | 30-10-2021 02:35 | 02-11-2021 14:18 | Sheffield Ave &amp; Waveland Ave      | TA1307000126 | Wood St &amp; Hubbard St   | 13432        | 41.94940 | -87.65453 | 41.88990 | -87.67147 | casual | 42120 | 7 | 10 | 2021-10-30 | 2021 | 30 |  2 |\n",
       "| D7B764E78660A503 | docked_bike | 23-10-2021 10:16 | 02-11-2021 13:57 | Leavitt St &amp; Armitage Ave         | TA1309000029 | NA                     | NA           | 41.91781 | -87.68244 |       NA |        NA | casual | 13200 | 7 | 10 | 2021-10-23 | 2021 | 23 | 10 |\n",
       "\n"
      ],
      "text/plain": [
       "  ride_id          rideable_type started_at       ended_at        \n",
       "1 AADD398D5EAE77E8 docked_bike   31-10-2021 10:31 03-11-2021 21:45\n",
       "2 CA4777787372DB2E docked_bike   31-10-2021 23:38 03-11-2021 15:53\n",
       "3 7E94559D9805B990 docked_bike   30-10-2021 18:29 03-11-2021 11:18\n",
       "4 C9A0E6F5DCBF7C86 docked_bike   18-10-2021 12:26 02-11-2021 19:31\n",
       "5 4928BA00AC98E9E4 docked_bike   30-10-2021 02:35 02-11-2021 14:18\n",
       "6 D7B764E78660A503 docked_bike   23-10-2021 10:16 02-11-2021 13:57\n",
       "  start_station_name                start_station_id end_station_name      \n",
       "1 Rush St & Cedar St                KA1504000133     NA                    \n",
       "2 Damen Ave & Cortland St           13133            State St & Randolph St\n",
       "3 Wabash Ave & Wacker Pl            TA1307000131     NA                    \n",
       "4 DuSable Lake Shore Dr & Monroe St 13300            NA                    \n",
       "5 Sheffield Ave & Waveland Ave      TA1307000126     Wood St & Hubbard St  \n",
       "6 Leavitt St & Armitage Ave         TA1309000029     NA                    \n",
       "  end_station_id start_lat start_lng end_lat  end_lng   member_casual\n",
       "1 NA             41.90231  -87.62769       NA        NA casual       \n",
       "2 TA1305000029   41.91598  -87.67733 41.88462 -87.62783 casual       \n",
       "3 NA             41.88688  -87.62603       NA        NA casual       \n",
       "4 NA             41.88096  -87.61674       NA        NA casual       \n",
       "5 13432          41.94940  -87.65453 41.88990 -87.67147 casual       \n",
       "6 NA             41.91781  -87.68244       NA        NA casual       \n",
       "  ride_length day_of_week month date       year day hour\n",
       "1 40440       1           10    2021-10-31 2021 31  10  \n",
       "2 58440       1           10    2021-10-31 2021 31  23  \n",
       "3 60480       7           10    2021-10-30 2021 30  18  \n",
       "4 25500       2           10    2021-10-18 2021 18  12  \n",
       "5 42120       7           10    2021-10-30 2021 30   2  \n",
       "6 13200       7           10    2021-10-23 2021 23  10  "
      ]
     },
     "metadata": {},
     "output_type": "display_data"
    }
   ],
   "source": [
    "all_tripdata_no_dups$ride_length <- (hour(all_tripdata_no_dups$ride_length)*60 + minute(all_tripdata_no_dups$ride_length))*60\n",
    "head(all_tripdata_no_dups)"
   ]
  },
  {
   "cell_type": "code",
   "execution_count": 18,
   "id": "3a1c90b6",
   "metadata": {
    "execution": {
     "iopub.execute_input": "2022-11-02T11:37:27.956318Z",
     "iopub.status.busy": "2022-11-02T11:37:27.955034Z",
     "iopub.status.idle": "2022-11-02T11:37:28.247460Z",
     "shell.execute_reply": "2022-11-02T11:37:28.245976Z"
    },
    "papermill": {
     "duration": 0.314683,
     "end_time": "2022-11-02T11:37:28.249208",
     "exception": false,
     "start_time": "2022-11-02T11:37:27.934525",
     "status": "completed"
    },
    "tags": []
   },
   "outputs": [
    {
     "data": {
      "text/plain": [
       "   Min. 1st Qu.  Median    Mean 3rd Qu.    Max.    NA's \n",
       "    0.0   300.0   600.0   977.4  1080.0 86340.0     108 "
      ]
     },
     "metadata": {},
     "output_type": "display_data"
    }
   ],
   "source": [
    "summary(all_tripdata_no_dups$ride_length)"
   ]
  },
  {
   "cell_type": "code",
   "execution_count": 19,
   "id": "43b196d0",
   "metadata": {
    "execution": {
     "iopub.execute_input": "2022-11-02T11:37:28.291013Z",
     "iopub.status.busy": "2022-11-02T11:37:28.289743Z",
     "iopub.status.idle": "2022-11-02T11:37:33.826530Z",
     "shell.execute_reply": "2022-11-02T11:37:33.824894Z"
    },
    "papermill": {
     "duration": 5.560613,
     "end_time": "2022-11-02T11:37:33.829049",
     "exception": false,
     "start_time": "2022-11-02T11:37:28.268436",
     "status": "completed"
    },
    "tags": []
   },
   "outputs": [
    {
     "data": {
      "text/plain": [
       "   Min. 1st Qu.  Median    Mean 3rd Qu.    Max. \n",
       "    0.0   300.0   600.0   977.4  1080.0 86340.0 "
      ]
     },
     "metadata": {},
     "output_type": "display_data"
    }
   ],
   "source": [
    "# Removing NA's\n",
    "all_tripdata_no_dups <- subset(all_tripdata_no_dups, all_tripdata_no_dups$ride_length != \" \")\n",
    "summary(all_tripdata_no_dups$ride_length)"
   ]
  },
  {
   "cell_type": "code",
   "execution_count": 20,
   "id": "6e4d0938",
   "metadata": {
    "execution": {
     "iopub.execute_input": "2022-11-02T11:37:33.869409Z",
     "iopub.status.busy": "2022-11-02T11:37:33.868279Z",
     "iopub.status.idle": "2022-11-02T11:37:34.159005Z",
     "shell.execute_reply": "2022-11-02T11:37:34.157078Z"
    },
    "papermill": {
     "duration": 0.313577,
     "end_time": "2022-11-02T11:37:34.161375",
     "exception": false,
     "start_time": "2022-11-02T11:37:33.847798",
     "status": "completed"
    },
    "tags": []
   },
   "outputs": [
    {
     "data": {
      "text/html": [
       "<style>\n",
       ".dl-inline {width: auto; margin:0; padding: 0}\n",
       ".dl-inline>dt, .dl-inline>dd {float: none; width: auto; display: inline-block}\n",
       ".dl-inline>dt::after {content: \":\\0020\"; padding-right: .5ex}\n",
       ".dl-inline>dt:not(:first-of-type) {padding-left: .5ex}\n",
       "</style><dl class=dl-inline><dt>0%</dt><dd>0</dd><dt>5%</dt><dd>120</dd><dt>10%</dt><dd>180</dd><dt>15%</dt><dd>240</dd><dt>20%</dt><dd>300</dd><dt>25%</dt><dd>300</dd><dt>30%</dt><dd>360</dd><dt>35%</dt><dd>420</dd><dt>40%</dt><dd>480</dd><dt>45%</dt><dd>540</dd><dt>50%</dt><dd>600</dd><dt>55%</dt><dd>660</dd><dt>60%</dt><dd>780</dd><dt>65%</dt><dd>840</dd><dt>70%</dt><dd>960</dd><dt>75%</dt><dd>1080</dd><dt>80%</dt><dd>1260</dd><dt>85%</dt><dd>1560</dd><dt>90%</dt><dd>1920</dd><dt>95%</dt><dd>2700</dd><dt>100%</dt><dd>86340</dd></dl>\n"
      ],
      "text/latex": [
       "\\begin{description*}\n",
       "\\item[0\\textbackslash{}\\%] 0\n",
       "\\item[5\\textbackslash{}\\%] 120\n",
       "\\item[10\\textbackslash{}\\%] 180\n",
       "\\item[15\\textbackslash{}\\%] 240\n",
       "\\item[20\\textbackslash{}\\%] 300\n",
       "\\item[25\\textbackslash{}\\%] 300\n",
       "\\item[30\\textbackslash{}\\%] 360\n",
       "\\item[35\\textbackslash{}\\%] 420\n",
       "\\item[40\\textbackslash{}\\%] 480\n",
       "\\item[45\\textbackslash{}\\%] 540\n",
       "\\item[50\\textbackslash{}\\%] 600\n",
       "\\item[55\\textbackslash{}\\%] 660\n",
       "\\item[60\\textbackslash{}\\%] 780\n",
       "\\item[65\\textbackslash{}\\%] 840\n",
       "\\item[70\\textbackslash{}\\%] 960\n",
       "\\item[75\\textbackslash{}\\%] 1080\n",
       "\\item[80\\textbackslash{}\\%] 1260\n",
       "\\item[85\\textbackslash{}\\%] 1560\n",
       "\\item[90\\textbackslash{}\\%] 1920\n",
       "\\item[95\\textbackslash{}\\%] 2700\n",
       "\\item[100\\textbackslash{}\\%] 86340\n",
       "\\end{description*}\n"
      ],
      "text/markdown": [
       "0%\n",
       ":   05%\n",
       ":   12010%\n",
       ":   18015%\n",
       ":   24020%\n",
       ":   30025%\n",
       ":   30030%\n",
       ":   36035%\n",
       ":   42040%\n",
       ":   48045%\n",
       ":   54050%\n",
       ":   60055%\n",
       ":   66060%\n",
       ":   78065%\n",
       ":   84070%\n",
       ":   96075%\n",
       ":   108080%\n",
       ":   126085%\n",
       ":   156090%\n",
       ":   192095%\n",
       ":   2700100%\n",
       ":   86340\n",
       "\n"
      ],
      "text/plain": [
       "   0%    5%   10%   15%   20%   25%   30%   35%   40%   45%   50%   55%   60% \n",
       "    0   120   180   240   300   300   360   420   480   540   600   660   780 \n",
       "  65%   70%   75%   80%   85%   90%   95%  100% \n",
       "  840   960  1080  1260  1560  1920  2700 86340 "
      ]
     },
     "metadata": {},
     "output_type": "display_data"
    }
   ],
   "source": [
    "quantiles <- quantile(all_tripdata_no_dups$ride_length, seq(0, 1, by = 0.05))\n",
    "quantiles"
   ]
  },
  {
   "cell_type": "markdown",
   "id": "53393479",
   "metadata": {
    "papermill": {
     "duration": 0.018924,
     "end_time": "2022-11-02T11:37:34.199282",
     "exception": false,
     "start_time": "2022-11-02T11:37:34.180358",
     "status": "completed"
    },
    "tags": []
   },
   "source": [
    "As we can see that the difference between 0% and 100% is 86340 seconds.\n",
    "\n",
    "and the difference between 0% and 95% is 2700 seconds.\n",
    "Because of that, it is necessary to remove the outliers."
   ]
  },
  {
   "cell_type": "code",
   "execution_count": 21,
   "id": "31acd4cd",
   "metadata": {
    "execution": {
     "iopub.execute_input": "2022-11-02T11:37:34.239890Z",
     "iopub.status.busy": "2022-11-02T11:37:34.238744Z",
     "iopub.status.idle": "2022-11-02T11:37:37.650022Z",
     "shell.execute_reply": "2022-11-02T11:37:37.648266Z"
    },
    "papermill": {
     "duration": 3.434164,
     "end_time": "2022-11-02T11:37:37.652314",
     "exception": false,
     "start_time": "2022-11-02T11:37:34.218150",
     "status": "completed"
    },
    "tags": []
   },
   "outputs": [
    {
     "name": "stdout",
     "output_type": "stream",
     "text": [
      "[1] \"Removed 732825 rows as outliners\"\n"
     ]
    }
   ],
   "source": [
    "all_tripdata_without_outliners <- all_tripdata_no_dups %>% \n",
    "    filter(ride_length > as.numeric(quantiles['5%'])) %>%\n",
    "    filter(ride_length < as.numeric(quantiles['95%']))\n",
    "\n",
    "print(paste(\"Removed\", nrow(all_tripdata_no_dups) - nrow(all_tripdata_without_outliners), \"rows as outliners\" ))"
   ]
  },
  {
   "cell_type": "markdown",
   "id": "b8bc2130",
   "metadata": {
    "papermill": {
     "duration": 0.019539,
     "end_time": "2022-11-02T11:37:37.691530",
     "exception": false,
     "start_time": "2022-11-02T11:37:37.671991",
     "status": "completed"
    },
    "tags": []
   },
   "source": [
    "Now the data is clean and relevent columns have been added"
   ]
  },
  {
   "cell_type": "code",
   "execution_count": 22,
   "id": "7b6501c8",
   "metadata": {
    "execution": {
     "iopub.execute_input": "2022-11-02T11:37:37.733166Z",
     "iopub.status.busy": "2022-11-02T11:37:37.731951Z",
     "iopub.status.idle": "2022-11-02T11:37:37.759899Z",
     "shell.execute_reply": "2022-11-02T11:37:37.757956Z"
    },
    "papermill": {
     "duration": 0.051194,
     "end_time": "2022-11-02T11:37:37.762184",
     "exception": false,
     "start_time": "2022-11-02T11:37:37.710990",
     "status": "completed"
    },
    "tags": []
   },
   "outputs": [
    {
     "data": {
      "text/html": [
       "<table class=\"dataframe\">\n",
       "<caption>A tibble: 6 × 20</caption>\n",
       "<thead>\n",
       "\t<tr><th scope=col>ride_id</th><th scope=col>rideable_type</th><th scope=col>started_at</th><th scope=col>ended_at</th><th scope=col>start_station_name</th><th scope=col>start_station_id</th><th scope=col>end_station_name</th><th scope=col>end_station_id</th><th scope=col>start_lat</th><th scope=col>start_lng</th><th scope=col>end_lat</th><th scope=col>end_lng</th><th scope=col>member_casual</th><th scope=col>ride_length</th><th scope=col>day_of_week</th><th scope=col>month</th><th scope=col>date</th><th scope=col>year</th><th scope=col>day</th><th scope=col>hour</th></tr>\n",
       "\t<tr><th scope=col>&lt;chr&gt;</th><th scope=col>&lt;chr&gt;</th><th scope=col>&lt;chr&gt;</th><th scope=col>&lt;chr&gt;</th><th scope=col>&lt;chr&gt;</th><th scope=col>&lt;chr&gt;</th><th scope=col>&lt;chr&gt;</th><th scope=col>&lt;chr&gt;</th><th scope=col>&lt;dbl&gt;</th><th scope=col>&lt;dbl&gt;</th><th scope=col>&lt;dbl&gt;</th><th scope=col>&lt;dbl&gt;</th><th scope=col>&lt;chr&gt;</th><th scope=col>&lt;dbl&gt;</th><th scope=col>&lt;dbl&gt;</th><th scope=col>&lt;dbl&gt;</th><th scope=col>&lt;date&gt;</th><th scope=col>&lt;dbl&gt;</th><th scope=col>&lt;int&gt;</th><th scope=col>&lt;int&gt;</th></tr>\n",
       "</thead>\n",
       "<tbody>\n",
       "\t<tr><td>8DB1E9F3D6F3AFF1</td><td>electric_bike</td><td>31-10-2021 23:48</td><td>01-11-2021 00:28</td><td><span style=white-space:pre-wrap>NA                        </span></td><td><span style=white-space:pre-wrap>NA          </span></td><td>Cityfront Plaza Dr &amp; Pioneer Ct</td><td><span style=white-space:pre-wrap>13427       </span></td><td>41.92000</td><td>-87.69000</td><td>41.89025</td><td>-87.62275</td><td>member</td><td>2340</td><td>1</td><td>10</td><td>2021-10-31</td><td>2021</td><td>31</td><td>23</td></tr>\n",
       "\t<tr><td>5B7DBA4602F2FAFE</td><td>classic_bike </td><td>31-10-2021 23:43</td><td>01-11-2021 00:25</td><td>Racine Ave &amp; Fullerton Ave</td><td>TA1306000026</td><td><span style=white-space:pre-wrap>Racine Ave &amp; Wrightwood Ave    </span></td><td>TA1309000059</td><td>41.92556</td><td>-87.65840</td><td>41.92889</td><td>-87.65897</td><td>member</td><td>2460</td><td>1</td><td>10</td><td>2021-10-31</td><td>2021</td><td>31</td><td>23</td></tr>\n",
       "\t<tr><td>7C3E8D8F91E8CA3E</td><td>electric_bike</td><td>31-10-2021 23:40</td><td>01-11-2021 00:22</td><td>NA                        </td><td>NA          </td><td>NA                             </td><td>NA          </td><td>41.75000</td><td>-87.55000</td><td>41.74000</td><td>-87.55000</td><td>member</td><td>2460</td><td>1</td><td>10</td><td>2021-10-31</td><td>2021</td><td>31</td><td>23</td></tr>\n",
       "\t<tr><td>8879093FD05F3103</td><td>electric_bike</td><td>31-10-2021 23:57</td><td>01-11-2021 00:16</td><td><span style=white-space:pre-wrap>Racine Ave &amp; 18th St      </span></td><td><span style=white-space:pre-wrap>13164       </span></td><td><span style=white-space:pre-wrap>Damen Ave &amp; Division St        </span></td><td><span style=white-space:pre-wrap>13136       </span></td><td>41.85824</td><td>-87.65643</td><td>41.90325</td><td>-87.67846</td><td>member</td><td>1080</td><td>1</td><td>10</td><td>2021-10-31</td><td>2021</td><td>31</td><td>23</td></tr>\n",
       "\t<tr><td>EA85F11B1ACC4F92</td><td><span style=white-space:pre-wrap>docked_bike  </span></td><td>31-10-2021 23:38</td><td>01-11-2021 00:14</td><td><span style=white-space:pre-wrap>Millennium Park           </span></td><td><span style=white-space:pre-wrap>13008       </span></td><td><span style=white-space:pre-wrap>Wabash Ave &amp; Wacker Pl         </span></td><td>TA1307000131</td><td>41.88103</td><td>-87.62408</td><td>41.88688</td><td>-87.62603</td><td>casual</td><td>2160</td><td>1</td><td>10</td><td>2021-10-31</td><td>2021</td><td>31</td><td>23</td></tr>\n",
       "\t<tr><td>28E47D4687F77390</td><td><span style=white-space:pre-wrap>docked_bike  </span></td><td>31-10-2021 23:41</td><td>01-11-2021 00:14</td><td><span style=white-space:pre-wrap>Millennium Park           </span></td><td><span style=white-space:pre-wrap>13008       </span></td><td><span style=white-space:pre-wrap>Wabash Ave &amp; Wacker Pl         </span></td><td>TA1307000131</td><td>41.88103</td><td>-87.62408</td><td>41.88688</td><td>-87.62603</td><td>casual</td><td>1980</td><td>1</td><td>10</td><td>2021-10-31</td><td>2021</td><td>31</td><td>23</td></tr>\n",
       "</tbody>\n",
       "</table>\n"
      ],
      "text/latex": [
       "A tibble: 6 × 20\n",
       "\\begin{tabular}{llllllllllllllllllll}\n",
       " ride\\_id & rideable\\_type & started\\_at & ended\\_at & start\\_station\\_name & start\\_station\\_id & end\\_station\\_name & end\\_station\\_id & start\\_lat & start\\_lng & end\\_lat & end\\_lng & member\\_casual & ride\\_length & day\\_of\\_week & month & date & year & day & hour\\\\\n",
       " <chr> & <chr> & <chr> & <chr> & <chr> & <chr> & <chr> & <chr> & <dbl> & <dbl> & <dbl> & <dbl> & <chr> & <dbl> & <dbl> & <dbl> & <date> & <dbl> & <int> & <int>\\\\\n",
       "\\hline\n",
       "\t 8DB1E9F3D6F3AFF1 & electric\\_bike & 31-10-2021 23:48 & 01-11-2021 00:28 & NA                         & NA           & Cityfront Plaza Dr \\& Pioneer Ct & 13427        & 41.92000 & -87.69000 & 41.89025 & -87.62275 & member & 2340 & 1 & 10 & 2021-10-31 & 2021 & 31 & 23\\\\\n",
       "\t 5B7DBA4602F2FAFE & classic\\_bike  & 31-10-2021 23:43 & 01-11-2021 00:25 & Racine Ave \\& Fullerton Ave & TA1306000026 & Racine Ave \\& Wrightwood Ave     & TA1309000059 & 41.92556 & -87.65840 & 41.92889 & -87.65897 & member & 2460 & 1 & 10 & 2021-10-31 & 2021 & 31 & 23\\\\\n",
       "\t 7C3E8D8F91E8CA3E & electric\\_bike & 31-10-2021 23:40 & 01-11-2021 00:22 & NA                         & NA           & NA                              & NA           & 41.75000 & -87.55000 & 41.74000 & -87.55000 & member & 2460 & 1 & 10 & 2021-10-31 & 2021 & 31 & 23\\\\\n",
       "\t 8879093FD05F3103 & electric\\_bike & 31-10-2021 23:57 & 01-11-2021 00:16 & Racine Ave \\& 18th St       & 13164        & Damen Ave \\& Division St         & 13136        & 41.85824 & -87.65643 & 41.90325 & -87.67846 & member & 1080 & 1 & 10 & 2021-10-31 & 2021 & 31 & 23\\\\\n",
       "\t EA85F11B1ACC4F92 & docked\\_bike   & 31-10-2021 23:38 & 01-11-2021 00:14 & Millennium Park            & 13008        & Wabash Ave \\& Wacker Pl          & TA1307000131 & 41.88103 & -87.62408 & 41.88688 & -87.62603 & casual & 2160 & 1 & 10 & 2021-10-31 & 2021 & 31 & 23\\\\\n",
       "\t 28E47D4687F77390 & docked\\_bike   & 31-10-2021 23:41 & 01-11-2021 00:14 & Millennium Park            & 13008        & Wabash Ave \\& Wacker Pl          & TA1307000131 & 41.88103 & -87.62408 & 41.88688 & -87.62603 & casual & 1980 & 1 & 10 & 2021-10-31 & 2021 & 31 & 23\\\\\n",
       "\\end{tabular}\n"
      ],
      "text/markdown": [
       "\n",
       "A tibble: 6 × 20\n",
       "\n",
       "| ride_id &lt;chr&gt; | rideable_type &lt;chr&gt; | started_at &lt;chr&gt; | ended_at &lt;chr&gt; | start_station_name &lt;chr&gt; | start_station_id &lt;chr&gt; | end_station_name &lt;chr&gt; | end_station_id &lt;chr&gt; | start_lat &lt;dbl&gt; | start_lng &lt;dbl&gt; | end_lat &lt;dbl&gt; | end_lng &lt;dbl&gt; | member_casual &lt;chr&gt; | ride_length &lt;dbl&gt; | day_of_week &lt;dbl&gt; | month &lt;dbl&gt; | date &lt;date&gt; | year &lt;dbl&gt; | day &lt;int&gt; | hour &lt;int&gt; |\n",
       "|---|---|---|---|---|---|---|---|---|---|---|---|---|---|---|---|---|---|---|---|\n",
       "| 8DB1E9F3D6F3AFF1 | electric_bike | 31-10-2021 23:48 | 01-11-2021 00:28 | NA                         | NA           | Cityfront Plaza Dr &amp; Pioneer Ct | 13427        | 41.92000 | -87.69000 | 41.89025 | -87.62275 | member | 2340 | 1 | 10 | 2021-10-31 | 2021 | 31 | 23 |\n",
       "| 5B7DBA4602F2FAFE | classic_bike  | 31-10-2021 23:43 | 01-11-2021 00:25 | Racine Ave &amp; Fullerton Ave | TA1306000026 | Racine Ave &amp; Wrightwood Ave     | TA1309000059 | 41.92556 | -87.65840 | 41.92889 | -87.65897 | member | 2460 | 1 | 10 | 2021-10-31 | 2021 | 31 | 23 |\n",
       "| 7C3E8D8F91E8CA3E | electric_bike | 31-10-2021 23:40 | 01-11-2021 00:22 | NA                         | NA           | NA                              | NA           | 41.75000 | -87.55000 | 41.74000 | -87.55000 | member | 2460 | 1 | 10 | 2021-10-31 | 2021 | 31 | 23 |\n",
       "| 8879093FD05F3103 | electric_bike | 31-10-2021 23:57 | 01-11-2021 00:16 | Racine Ave &amp; 18th St       | 13164        | Damen Ave &amp; Division St         | 13136        | 41.85824 | -87.65643 | 41.90325 | -87.67846 | member | 1080 | 1 | 10 | 2021-10-31 | 2021 | 31 | 23 |\n",
       "| EA85F11B1ACC4F92 | docked_bike   | 31-10-2021 23:38 | 01-11-2021 00:14 | Millennium Park            | 13008        | Wabash Ave &amp; Wacker Pl          | TA1307000131 | 41.88103 | -87.62408 | 41.88688 | -87.62603 | casual | 2160 | 1 | 10 | 2021-10-31 | 2021 | 31 | 23 |\n",
       "| 28E47D4687F77390 | docked_bike   | 31-10-2021 23:41 | 01-11-2021 00:14 | Millennium Park            | 13008        | Wabash Ave &amp; Wacker Pl          | TA1307000131 | 41.88103 | -87.62408 | 41.88688 | -87.62603 | casual | 1980 | 1 | 10 | 2021-10-31 | 2021 | 31 | 23 |\n",
       "\n"
      ],
      "text/plain": [
       "  ride_id          rideable_type started_at       ended_at        \n",
       "1 8DB1E9F3D6F3AFF1 electric_bike 31-10-2021 23:48 01-11-2021 00:28\n",
       "2 5B7DBA4602F2FAFE classic_bike  31-10-2021 23:43 01-11-2021 00:25\n",
       "3 7C3E8D8F91E8CA3E electric_bike 31-10-2021 23:40 01-11-2021 00:22\n",
       "4 8879093FD05F3103 electric_bike 31-10-2021 23:57 01-11-2021 00:16\n",
       "5 EA85F11B1ACC4F92 docked_bike   31-10-2021 23:38 01-11-2021 00:14\n",
       "6 28E47D4687F77390 docked_bike   31-10-2021 23:41 01-11-2021 00:14\n",
       "  start_station_name         start_station_id end_station_name               \n",
       "1 NA                         NA               Cityfront Plaza Dr & Pioneer Ct\n",
       "2 Racine Ave & Fullerton Ave TA1306000026     Racine Ave & Wrightwood Ave    \n",
       "3 NA                         NA               NA                             \n",
       "4 Racine Ave & 18th St       13164            Damen Ave & Division St        \n",
       "5 Millennium Park            13008            Wabash Ave & Wacker Pl         \n",
       "6 Millennium Park            13008            Wabash Ave & Wacker Pl         \n",
       "  end_station_id start_lat start_lng end_lat  end_lng   member_casual\n",
       "1 13427          41.92000  -87.69000 41.89025 -87.62275 member       \n",
       "2 TA1309000059   41.92556  -87.65840 41.92889 -87.65897 member       \n",
       "3 NA             41.75000  -87.55000 41.74000 -87.55000 member       \n",
       "4 13136          41.85824  -87.65643 41.90325 -87.67846 member       \n",
       "5 TA1307000131   41.88103  -87.62408 41.88688 -87.62603 casual       \n",
       "6 TA1307000131   41.88103  -87.62408 41.88688 -87.62603 casual       \n",
       "  ride_length day_of_week month date       year day hour\n",
       "1 2340        1           10    2021-10-31 2021 31  23  \n",
       "2 2460        1           10    2021-10-31 2021 31  23  \n",
       "3 2460        1           10    2021-10-31 2021 31  23  \n",
       "4 1080        1           10    2021-10-31 2021 31  23  \n",
       "5 2160        1           10    2021-10-31 2021 31  23  \n",
       "6 1980        1           10    2021-10-31 2021 31  23  "
      ]
     },
     "metadata": {},
     "output_type": "display_data"
    }
   ],
   "source": [
    "head(all_tripdata_without_outliners)"
   ]
  },
  {
   "cell_type": "markdown",
   "id": "c9884a2c",
   "metadata": {
    "papermill": {
     "duration": 0.019276,
     "end_time": "2022-11-02T11:37:37.800596",
     "exception": false,
     "start_time": "2022-11-02T11:37:37.781320",
     "status": "completed"
    },
    "tags": []
   },
   "source": [
    "<a id=\"process-guiding\"></a>\n",
    "### Guiding questions\n",
    "\n",
    "* **What tools are you choosing and why?**\n",
    "\n",
    "I'm using R for this project, for two main reasons: Because of the large dataset and to gather experience with the language.\n",
    "\n",
    "* **Have you ensured your data’s integrity?**\n",
    "\n",
    "Yes, the data is consistent throughout the columns.\n",
    "\n",
    "* **What steps have you taken to ensure that your data is clean?**\n",
    "\n",
    "First the duplicated values where removed, then the columns where formatted to their correct format.\n",
    "\n",
    "* **How can you verify that your data is clean and ready to analyze?**\n",
    "\n",
    "It can be verified by this notebook.\n",
    "\n",
    "* **Have you documented your cleaning process so you can review and share those results?**\n",
    "\n",
    "Yes, it's all documented in this R notebook."
   ]
  },
  {
   "cell_type": "markdown",
   "id": "364d8539",
   "metadata": {
    "papermill": {
     "duration": 0.020875,
     "end_time": "2022-11-02T11:37:37.841050",
     "exception": false,
     "start_time": "2022-11-02T11:37:37.820175",
     "status": "completed"
    },
    "tags": []
   },
   "source": [
    "<a id=\"process-key\"></a>\n",
    "### Key tasks\n",
    "\n",
    "* [x] Check the data for errors.\n",
    "* [x] Choose your tools.\n",
    "* [x] Transform the data so you can work with it eectively\n",
    "* [x] Document the cleaning process."
   ]
  },
  {
   "cell_type": "markdown",
   "id": "d4981cc2",
   "metadata": {
    "papermill": {
     "duration": 0.019793,
     "end_time": "2022-11-02T11:37:37.880407",
     "exception": false,
     "start_time": "2022-11-02T11:37:37.860614",
     "status": "completed"
    },
    "tags": []
   },
   "source": [
    "<a id=\"process-deliverable\"></a>\n",
    "### Deliverable\n",
    "\n",
    "* [x] Documentation of any cleaning or manipulation of data"
   ]
  },
  {
   "cell_type": "markdown",
   "id": "f4b3ad98",
   "metadata": {
    "papermill": {
     "duration": 0.019809,
     "end_time": "2022-11-02T11:37:37.919826",
     "exception": false,
     "start_time": "2022-11-02T11:37:37.900017",
     "status": "completed"
    },
    "tags": []
   },
   "source": []
  },
  {
   "cell_type": "markdown",
   "id": "7dc2008b",
   "metadata": {
    "papermill": {
     "duration": 0.028699,
     "end_time": "2022-11-02T11:37:37.968599",
     "exception": false,
     "start_time": "2022-11-02T11:37:37.939900",
     "status": "completed"
    },
    "tags": []
   },
   "source": [
    "<a id=\"analyze\"></a>\n",
    "# Analyze\n",
    "\n",
    "The data exploration will consist of building a profile for annual members and how they differ from casual riders.\n",
    "\n",
    "Putting in a new variable with a simpler name will help reduce some typing in the future."
   ]
  },
  {
   "cell_type": "code",
   "execution_count": 23,
   "id": "050c7ac6",
   "metadata": {
    "execution": {
     "iopub.execute_input": "2022-11-02T11:37:38.012659Z",
     "iopub.status.busy": "2022-11-02T11:37:38.011374Z",
     "iopub.status.idle": "2022-11-02T11:37:38.023133Z",
     "shell.execute_reply": "2022-11-02T11:37:38.021691Z"
    },
    "papermill": {
     "duration": 0.035168,
     "end_time": "2022-11-02T11:37:38.025037",
     "exception": false,
     "start_time": "2022-11-02T11:37:37.989869",
     "status": "completed"
    },
    "tags": []
   },
   "outputs": [],
   "source": [
    "# This function help to resize the plots\n",
    "fig <- function(width, heigth){options(repr.plot.width = width, repr.plot.height = heigth)}"
   ]
  },
  {
   "cell_type": "code",
   "execution_count": 24,
   "id": "f2e8852d",
   "metadata": {
    "execution": {
     "iopub.execute_input": "2022-11-02T11:37:38.067457Z",
     "iopub.status.busy": "2022-11-02T11:37:38.066122Z",
     "iopub.status.idle": "2022-11-02T11:37:38.091744Z",
     "shell.execute_reply": "2022-11-02T11:37:38.090470Z"
    },
    "papermill": {
     "duration": 0.04835,
     "end_time": "2022-11-02T11:37:38.093444",
     "exception": false,
     "start_time": "2022-11-02T11:37:38.045094",
     "status": "completed"
    },
    "tags": []
   },
   "outputs": [
    {
     "data": {
      "text/html": [
       "<table class=\"dataframe\">\n",
       "<caption>A tibble: 6 × 20</caption>\n",
       "<thead>\n",
       "\t<tr><th scope=col>ride_id</th><th scope=col>rideable_type</th><th scope=col>started_at</th><th scope=col>ended_at</th><th scope=col>start_station_name</th><th scope=col>start_station_id</th><th scope=col>end_station_name</th><th scope=col>end_station_id</th><th scope=col>start_lat</th><th scope=col>start_lng</th><th scope=col>end_lat</th><th scope=col>end_lng</th><th scope=col>member_casual</th><th scope=col>ride_length</th><th scope=col>day_of_week</th><th scope=col>month</th><th scope=col>date</th><th scope=col>year</th><th scope=col>day</th><th scope=col>hour</th></tr>\n",
       "\t<tr><th scope=col>&lt;chr&gt;</th><th scope=col>&lt;chr&gt;</th><th scope=col>&lt;chr&gt;</th><th scope=col>&lt;chr&gt;</th><th scope=col>&lt;chr&gt;</th><th scope=col>&lt;chr&gt;</th><th scope=col>&lt;chr&gt;</th><th scope=col>&lt;chr&gt;</th><th scope=col>&lt;dbl&gt;</th><th scope=col>&lt;dbl&gt;</th><th scope=col>&lt;dbl&gt;</th><th scope=col>&lt;dbl&gt;</th><th scope=col>&lt;chr&gt;</th><th scope=col>&lt;dbl&gt;</th><th scope=col>&lt;dbl&gt;</th><th scope=col>&lt;dbl&gt;</th><th scope=col>&lt;date&gt;</th><th scope=col>&lt;dbl&gt;</th><th scope=col>&lt;int&gt;</th><th scope=col>&lt;int&gt;</th></tr>\n",
       "</thead>\n",
       "<tbody>\n",
       "\t<tr><td>8DB1E9F3D6F3AFF1</td><td>electric_bike</td><td>31-10-2021 23:48</td><td>01-11-2021 00:28</td><td><span style=white-space:pre-wrap>NA                        </span></td><td><span style=white-space:pre-wrap>NA          </span></td><td>Cityfront Plaza Dr &amp; Pioneer Ct</td><td><span style=white-space:pre-wrap>13427       </span></td><td>41.92000</td><td>-87.69000</td><td>41.89025</td><td>-87.62275</td><td>member</td><td>2340</td><td>1</td><td>10</td><td>2021-10-31</td><td>2021</td><td>31</td><td>23</td></tr>\n",
       "\t<tr><td>5B7DBA4602F2FAFE</td><td>classic_bike </td><td>31-10-2021 23:43</td><td>01-11-2021 00:25</td><td>Racine Ave &amp; Fullerton Ave</td><td>TA1306000026</td><td><span style=white-space:pre-wrap>Racine Ave &amp; Wrightwood Ave    </span></td><td>TA1309000059</td><td>41.92556</td><td>-87.65840</td><td>41.92889</td><td>-87.65897</td><td>member</td><td>2460</td><td>1</td><td>10</td><td>2021-10-31</td><td>2021</td><td>31</td><td>23</td></tr>\n",
       "\t<tr><td>7C3E8D8F91E8CA3E</td><td>electric_bike</td><td>31-10-2021 23:40</td><td>01-11-2021 00:22</td><td>NA                        </td><td>NA          </td><td>NA                             </td><td>NA          </td><td>41.75000</td><td>-87.55000</td><td>41.74000</td><td>-87.55000</td><td>member</td><td>2460</td><td>1</td><td>10</td><td>2021-10-31</td><td>2021</td><td>31</td><td>23</td></tr>\n",
       "\t<tr><td>8879093FD05F3103</td><td>electric_bike</td><td>31-10-2021 23:57</td><td>01-11-2021 00:16</td><td><span style=white-space:pre-wrap>Racine Ave &amp; 18th St      </span></td><td><span style=white-space:pre-wrap>13164       </span></td><td><span style=white-space:pre-wrap>Damen Ave &amp; Division St        </span></td><td><span style=white-space:pre-wrap>13136       </span></td><td>41.85824</td><td>-87.65643</td><td>41.90325</td><td>-87.67846</td><td>member</td><td>1080</td><td>1</td><td>10</td><td>2021-10-31</td><td>2021</td><td>31</td><td>23</td></tr>\n",
       "\t<tr><td>EA85F11B1ACC4F92</td><td><span style=white-space:pre-wrap>docked_bike  </span></td><td>31-10-2021 23:38</td><td>01-11-2021 00:14</td><td><span style=white-space:pre-wrap>Millennium Park           </span></td><td><span style=white-space:pre-wrap>13008       </span></td><td><span style=white-space:pre-wrap>Wabash Ave &amp; Wacker Pl         </span></td><td>TA1307000131</td><td>41.88103</td><td>-87.62408</td><td>41.88688</td><td>-87.62603</td><td>casual</td><td>2160</td><td>1</td><td>10</td><td>2021-10-31</td><td>2021</td><td>31</td><td>23</td></tr>\n",
       "\t<tr><td>28E47D4687F77390</td><td><span style=white-space:pre-wrap>docked_bike  </span></td><td>31-10-2021 23:41</td><td>01-11-2021 00:14</td><td><span style=white-space:pre-wrap>Millennium Park           </span></td><td><span style=white-space:pre-wrap>13008       </span></td><td><span style=white-space:pre-wrap>Wabash Ave &amp; Wacker Pl         </span></td><td>TA1307000131</td><td>41.88103</td><td>-87.62408</td><td>41.88688</td><td>-87.62603</td><td>casual</td><td>1980</td><td>1</td><td>10</td><td>2021-10-31</td><td>2021</td><td>31</td><td>23</td></tr>\n",
       "</tbody>\n",
       "</table>\n"
      ],
      "text/latex": [
       "A tibble: 6 × 20\n",
       "\\begin{tabular}{llllllllllllllllllll}\n",
       " ride\\_id & rideable\\_type & started\\_at & ended\\_at & start\\_station\\_name & start\\_station\\_id & end\\_station\\_name & end\\_station\\_id & start\\_lat & start\\_lng & end\\_lat & end\\_lng & member\\_casual & ride\\_length & day\\_of\\_week & month & date & year & day & hour\\\\\n",
       " <chr> & <chr> & <chr> & <chr> & <chr> & <chr> & <chr> & <chr> & <dbl> & <dbl> & <dbl> & <dbl> & <chr> & <dbl> & <dbl> & <dbl> & <date> & <dbl> & <int> & <int>\\\\\n",
       "\\hline\n",
       "\t 8DB1E9F3D6F3AFF1 & electric\\_bike & 31-10-2021 23:48 & 01-11-2021 00:28 & NA                         & NA           & Cityfront Plaza Dr \\& Pioneer Ct & 13427        & 41.92000 & -87.69000 & 41.89025 & -87.62275 & member & 2340 & 1 & 10 & 2021-10-31 & 2021 & 31 & 23\\\\\n",
       "\t 5B7DBA4602F2FAFE & classic\\_bike  & 31-10-2021 23:43 & 01-11-2021 00:25 & Racine Ave \\& Fullerton Ave & TA1306000026 & Racine Ave \\& Wrightwood Ave     & TA1309000059 & 41.92556 & -87.65840 & 41.92889 & -87.65897 & member & 2460 & 1 & 10 & 2021-10-31 & 2021 & 31 & 23\\\\\n",
       "\t 7C3E8D8F91E8CA3E & electric\\_bike & 31-10-2021 23:40 & 01-11-2021 00:22 & NA                         & NA           & NA                              & NA           & 41.75000 & -87.55000 & 41.74000 & -87.55000 & member & 2460 & 1 & 10 & 2021-10-31 & 2021 & 31 & 23\\\\\n",
       "\t 8879093FD05F3103 & electric\\_bike & 31-10-2021 23:57 & 01-11-2021 00:16 & Racine Ave \\& 18th St       & 13164        & Damen Ave \\& Division St         & 13136        & 41.85824 & -87.65643 & 41.90325 & -87.67846 & member & 1080 & 1 & 10 & 2021-10-31 & 2021 & 31 & 23\\\\\n",
       "\t EA85F11B1ACC4F92 & docked\\_bike   & 31-10-2021 23:38 & 01-11-2021 00:14 & Millennium Park            & 13008        & Wabash Ave \\& Wacker Pl          & TA1307000131 & 41.88103 & -87.62408 & 41.88688 & -87.62603 & casual & 2160 & 1 & 10 & 2021-10-31 & 2021 & 31 & 23\\\\\n",
       "\t 28E47D4687F77390 & docked\\_bike   & 31-10-2021 23:41 & 01-11-2021 00:14 & Millennium Park            & 13008        & Wabash Ave \\& Wacker Pl          & TA1307000131 & 41.88103 & -87.62408 & 41.88688 & -87.62603 & casual & 1980 & 1 & 10 & 2021-10-31 & 2021 & 31 & 23\\\\\n",
       "\\end{tabular}\n"
      ],
      "text/markdown": [
       "\n",
       "A tibble: 6 × 20\n",
       "\n",
       "| ride_id &lt;chr&gt; | rideable_type &lt;chr&gt; | started_at &lt;chr&gt; | ended_at &lt;chr&gt; | start_station_name &lt;chr&gt; | start_station_id &lt;chr&gt; | end_station_name &lt;chr&gt; | end_station_id &lt;chr&gt; | start_lat &lt;dbl&gt; | start_lng &lt;dbl&gt; | end_lat &lt;dbl&gt; | end_lng &lt;dbl&gt; | member_casual &lt;chr&gt; | ride_length &lt;dbl&gt; | day_of_week &lt;dbl&gt; | month &lt;dbl&gt; | date &lt;date&gt; | year &lt;dbl&gt; | day &lt;int&gt; | hour &lt;int&gt; |\n",
       "|---|---|---|---|---|---|---|---|---|---|---|---|---|---|---|---|---|---|---|---|\n",
       "| 8DB1E9F3D6F3AFF1 | electric_bike | 31-10-2021 23:48 | 01-11-2021 00:28 | NA                         | NA           | Cityfront Plaza Dr &amp; Pioneer Ct | 13427        | 41.92000 | -87.69000 | 41.89025 | -87.62275 | member | 2340 | 1 | 10 | 2021-10-31 | 2021 | 31 | 23 |\n",
       "| 5B7DBA4602F2FAFE | classic_bike  | 31-10-2021 23:43 | 01-11-2021 00:25 | Racine Ave &amp; Fullerton Ave | TA1306000026 | Racine Ave &amp; Wrightwood Ave     | TA1309000059 | 41.92556 | -87.65840 | 41.92889 | -87.65897 | member | 2460 | 1 | 10 | 2021-10-31 | 2021 | 31 | 23 |\n",
       "| 7C3E8D8F91E8CA3E | electric_bike | 31-10-2021 23:40 | 01-11-2021 00:22 | NA                         | NA           | NA                              | NA           | 41.75000 | -87.55000 | 41.74000 | -87.55000 | member | 2460 | 1 | 10 | 2021-10-31 | 2021 | 31 | 23 |\n",
       "| 8879093FD05F3103 | electric_bike | 31-10-2021 23:57 | 01-11-2021 00:16 | Racine Ave &amp; 18th St       | 13164        | Damen Ave &amp; Division St         | 13136        | 41.85824 | -87.65643 | 41.90325 | -87.67846 | member | 1080 | 1 | 10 | 2021-10-31 | 2021 | 31 | 23 |\n",
       "| EA85F11B1ACC4F92 | docked_bike   | 31-10-2021 23:38 | 01-11-2021 00:14 | Millennium Park            | 13008        | Wabash Ave &amp; Wacker Pl          | TA1307000131 | 41.88103 | -87.62408 | 41.88688 | -87.62603 | casual | 2160 | 1 | 10 | 2021-10-31 | 2021 | 31 | 23 |\n",
       "| 28E47D4687F77390 | docked_bike   | 31-10-2021 23:41 | 01-11-2021 00:14 | Millennium Park            | 13008        | Wabash Ave &amp; Wacker Pl          | TA1307000131 | 41.88103 | -87.62408 | 41.88688 | -87.62603 | casual | 1980 | 1 | 10 | 2021-10-31 | 2021 | 31 | 23 |\n",
       "\n"
      ],
      "text/plain": [
       "  ride_id          rideable_type started_at       ended_at        \n",
       "1 8DB1E9F3D6F3AFF1 electric_bike 31-10-2021 23:48 01-11-2021 00:28\n",
       "2 5B7DBA4602F2FAFE classic_bike  31-10-2021 23:43 01-11-2021 00:25\n",
       "3 7C3E8D8F91E8CA3E electric_bike 31-10-2021 23:40 01-11-2021 00:22\n",
       "4 8879093FD05F3103 electric_bike 31-10-2021 23:57 01-11-2021 00:16\n",
       "5 EA85F11B1ACC4F92 docked_bike   31-10-2021 23:38 01-11-2021 00:14\n",
       "6 28E47D4687F77390 docked_bike   31-10-2021 23:41 01-11-2021 00:14\n",
       "  start_station_name         start_station_id end_station_name               \n",
       "1 NA                         NA               Cityfront Plaza Dr & Pioneer Ct\n",
       "2 Racine Ave & Fullerton Ave TA1306000026     Racine Ave & Wrightwood Ave    \n",
       "3 NA                         NA               NA                             \n",
       "4 Racine Ave & 18th St       13164            Damen Ave & Division St        \n",
       "5 Millennium Park            13008            Wabash Ave & Wacker Pl         \n",
       "6 Millennium Park            13008            Wabash Ave & Wacker Pl         \n",
       "  end_station_id start_lat start_lng end_lat  end_lng   member_casual\n",
       "1 13427          41.92000  -87.69000 41.89025 -87.62275 member       \n",
       "2 TA1309000059   41.92556  -87.65840 41.92889 -87.65897 member       \n",
       "3 NA             41.75000  -87.55000 41.74000 -87.55000 member       \n",
       "4 13136          41.85824  -87.65643 41.90325 -87.67846 member       \n",
       "5 TA1307000131   41.88103  -87.62408 41.88688 -87.62603 casual       \n",
       "6 TA1307000131   41.88103  -87.62408 41.88688 -87.62603 casual       \n",
       "  ride_length day_of_week month date       year day hour\n",
       "1 2340        1           10    2021-10-31 2021 31  23  \n",
       "2 2460        1           10    2021-10-31 2021 31  23  \n",
       "3 2460        1           10    2021-10-31 2021 31  23  \n",
       "4 1080        1           10    2021-10-31 2021 31  23  \n",
       "5 2160        1           10    2021-10-31 2021 31  23  \n",
       "6 1980        1           10    2021-10-31 2021 31  23  "
      ]
     },
     "metadata": {},
     "output_type": "display_data"
    }
   ],
   "source": [
    "all_tripdata <- all_tripdata_without_outliners\n",
    "head(all_tripdata)"
   ]
  },
  {
   "cell_type": "code",
   "execution_count": 25,
   "id": "785bc7c2",
   "metadata": {
    "execution": {
     "iopub.execute_input": "2022-11-02T11:37:38.136152Z",
     "iopub.status.busy": "2022-11-02T11:37:38.134758Z",
     "iopub.status.idle": "2022-11-02T11:37:42.809618Z",
     "shell.execute_reply": "2022-11-02T11:37:42.808359Z"
    },
    "papermill": {
     "duration": 4.698506,
     "end_time": "2022-11-02T11:37:42.811544",
     "exception": false,
     "start_time": "2022-11-02T11:37:38.113038",
     "status": "completed"
    },
    "tags": []
   },
   "outputs": [
    {
     "data": {
      "text/plain": [
       "   ride_id          rideable_type       started_at          ended_at        \n",
       " Length:5093269     Length:5093269     Length:5093269     Length:5093269    \n",
       " Class :character   Class :character   Class :character   Class :character  \n",
       " Mode  :character   Mode  :character   Mode  :character   Mode  :character  \n",
       "                                                                            \n",
       "                                                                            \n",
       "                                                                            \n",
       "                                                                            \n",
       " start_station_name start_station_id   end_station_name   end_station_id    \n",
       " Length:5093269     Length:5093269     Length:5093269     Length:5093269    \n",
       " Class :character   Class :character   Class :character   Class :character  \n",
       " Mode  :character   Mode  :character   Mode  :character   Mode  :character  \n",
       "                                                                            \n",
       "                                                                            \n",
       "                                                                            \n",
       "                                                                            \n",
       "   start_lat       start_lng         end_lat         end_lng      \n",
       " Min.   :41.64   Min.   :-87.84   Min.   :41.60   Min.   :-87.88  \n",
       " 1st Qu.:41.88   1st Qu.:-87.66   1st Qu.:41.88   1st Qu.:-87.66  \n",
       " Median :41.90   Median :-87.64   Median :41.90   Median :-87.64  \n",
       " Mean   :41.90   Mean   :-87.65   Mean   :41.90   Mean   :-87.65  \n",
       " 3rd Qu.:41.93   3rd Qu.:-87.63   3rd Qu.:41.93   3rd Qu.:-87.63  \n",
       " Max.   :42.07   Max.   :-87.52   Max.   :42.12   Max.   :-87.50  \n",
       "                                  NA's   :267     NA's   :267     \n",
       " member_casual       ride_length      day_of_week        month       \n",
       " Length:5093269     Min.   : 180.0   Min.   :1.000   Min.   : 1.000  \n",
       " Class :character   1st Qu.: 360.0   1st Qu.:2.000   1st Qu.: 5.000  \n",
       " Mode  :character   Median : 600.0   Median :4.000   Median : 7.000  \n",
       "                    Mean   : 780.6   Mean   :4.121   Mean   : 7.233  \n",
       "                    3rd Qu.:1020.0   3rd Qu.:6.000   3rd Qu.: 9.000  \n",
       "                    Max.   :2640.0   Max.   :7.000   Max.   :12.000  \n",
       "                                                                     \n",
       "      date                 year           day             hour      \n",
       " Min.   :2021-10-01   Min.   :2021   Min.   : 1.00   Min.   : 0.00  \n",
       " 1st Qu.:2022-02-26   1st Qu.:2022   1st Qu.: 9.00   1st Qu.:11.00  \n",
       " Median :2022-06-07   Median :2022   Median :16.00   Median :15.00  \n",
       " Mean   :2022-05-05   Mean   :2022   Mean   :15.71   Mean   :14.25  \n",
       " 3rd Qu.:2022-08-02   3rd Qu.:2022   3rd Qu.:23.00   3rd Qu.:18.00  \n",
       " Max.   :2022-09-30   Max.   :2022   Max.   :31.00   Max.   :23.00  \n",
       "                                                                    "
      ]
     },
     "metadata": {},
     "output_type": "display_data"
    }
   ],
   "source": [
    "#summary of the dataset\n",
    "summary(all_tripdata)"
   ]
  },
  {
   "cell_type": "markdown",
   "id": "f41e3f8d",
   "metadata": {
    "papermill": {
     "duration": 0.020175,
     "end_time": "2022-11-02T11:37:42.851679",
     "exception": false,
     "start_time": "2022-11-02T11:37:42.831504",
     "status": "completed"
    },
    "tags": []
   },
   "source": [
    "<a id=\"analyze-code-data\"></a>\n",
    "### Data distribution\n",
    "First we will see how the data is distributed."
   ]
  },
  {
   "cell_type": "markdown",
   "id": "06bdb2a1",
   "metadata": {
    "papermill": {
     "duration": 0.019768,
     "end_time": "2022-11-02T11:37:42.891951",
     "exception": false,
     "start_time": "2022-11-02T11:37:42.872183",
     "status": "completed"
    },
    "tags": []
   },
   "source": [
    "#### Casuals vs members\n",
    "How much of the data is about members and how much is about casuals?"
   ]
  },
  {
   "cell_type": "code",
   "execution_count": 26,
   "id": "ebd5a9ad",
   "metadata": {
    "execution": {
     "iopub.execute_input": "2022-11-02T11:37:42.935112Z",
     "iopub.status.busy": "2022-11-02T11:37:42.933794Z",
     "iopub.status.idle": "2022-11-02T11:37:43.171723Z",
     "shell.execute_reply": "2022-11-02T11:37:43.170503Z"
    },
    "papermill": {
     "duration": 0.262035,
     "end_time": "2022-11-02T11:37:43.173994",
     "exception": false,
     "start_time": "2022-11-02T11:37:42.911959",
     "status": "completed"
    },
    "tags": []
   },
   "outputs": [
    {
     "data": {
      "text/html": [
       "<table class=\"dataframe\">\n",
       "<caption>A tibble: 2 × 3</caption>\n",
       "<thead>\n",
       "\t<tr><th scope=col>member_casual</th><th scope=col>count</th><th scope=col>%</th></tr>\n",
       "\t<tr><th scope=col>&lt;chr&gt;</th><th scope=col>&lt;int&gt;</th><th scope=col>&lt;dbl&gt;</th></tr>\n",
       "</thead>\n",
       "<tbody>\n",
       "\t<tr><td>casual</td><td>2035878</td><td>39.97193</td></tr>\n",
       "\t<tr><td>member</td><td>3057391</td><td>60.02807</td></tr>\n",
       "</tbody>\n",
       "</table>\n"
      ],
      "text/latex": [
       "A tibble: 2 × 3\n",
       "\\begin{tabular}{lll}\n",
       " member\\_casual & count & \\%\\\\\n",
       " <chr> & <int> & <dbl>\\\\\n",
       "\\hline\n",
       "\t casual & 2035878 & 39.97193\\\\\n",
       "\t member & 3057391 & 60.02807\\\\\n",
       "\\end{tabular}\n"
      ],
      "text/markdown": [
       "\n",
       "A tibble: 2 × 3\n",
       "\n",
       "| member_casual &lt;chr&gt; | count &lt;int&gt; | % &lt;dbl&gt; |\n",
       "|---|---|---|\n",
       "| casual | 2035878 | 39.97193 |\n",
       "| member | 3057391 | 60.02807 |\n",
       "\n"
      ],
      "text/plain": [
       "  member_casual count   %       \n",
       "1 casual        2035878 39.97193\n",
       "2 member        3057391 60.02807"
      ]
     },
     "metadata": {},
     "output_type": "display_data"
    }
   ],
   "source": [
    "all_tripdata %>% \n",
    "    group_by(member_casual) %>% \n",
    "    summarise(count = length(ride_id),\n",
    "              '%' = (length(ride_id) / nrow(all_tripdata)) * 100)"
   ]
  },
  {
   "cell_type": "markdown",
   "id": "e5dde1eb",
   "metadata": {
    "papermill": {
     "duration": 0.020662,
     "end_time": "2022-11-02T11:37:43.215478",
     "exception": false,
     "start_time": "2022-11-02T11:37:43.194816",
     "status": "completed"
    },
    "tags": []
   },
   "source": [
    "we can see that the 60% of the data is distributed amoung member and the 40% amoung casual."
   ]
  },
  {
   "cell_type": "code",
   "execution_count": 27,
   "id": "f6a9d5c3",
   "metadata": {
    "execution": {
     "iopub.execute_input": "2022-11-02T11:37:43.259168Z",
     "iopub.status.busy": "2022-11-02T11:37:43.257874Z",
     "iopub.status.idle": "2022-11-02T11:37:46.369832Z",
     "shell.execute_reply": "2022-11-02T11:37:46.368519Z"
    },
    "papermill": {
     "duration": 3.136196,
     "end_time": "2022-11-02T11:37:46.372136",
     "exception": false,
     "start_time": "2022-11-02T11:37:43.235940",
     "status": "completed"
    },
    "tags": []
   },
   "outputs": [
    {
     "data": {
      "image/png": "[encoded data removed]"
     },
     "metadata": {
      "image/png": {
       "height": 480,
       "width": 960
      }
     },
     "output_type": "display_data"
    }
   ],
   "source": [
    "fig(16,8)\n",
    "ggplot(all_tripdata, aes(member_casual, fill=member_casual)) +\n",
    "    geom_bar() +\n",
    "    labs(x=\"Casuals x Members\", title=\"Chart 01 - Casuals x Members distribution\")"
   ]
  },
  {
   "cell_type": "markdown",
   "id": "971c17d9",
   "metadata": {
    "papermill": {
     "duration": 0.020835,
     "end_time": "2022-11-02T11:37:46.413850",
     "exception": false,
     "start_time": "2022-11-02T11:37:46.393015",
     "status": "completed"
    },
    "tags": []
   },
   "source": [
    "#### Month\n",
    "How much of the data is distributed by month?"
   ]
  },
  {
   "cell_type": "code",
   "execution_count": 28,
   "id": "c2453e75",
   "metadata": {
    "execution": {
     "iopub.execute_input": "2022-11-02T11:37:46.459397Z",
     "iopub.status.busy": "2022-11-02T11:37:46.458008Z",
     "iopub.status.idle": "2022-11-02T11:37:46.766692Z",
     "shell.execute_reply": "2022-11-02T11:37:46.764830Z"
    },
    "papermill": {
     "duration": 0.334205,
     "end_time": "2022-11-02T11:37:46.768780",
     "exception": false,
     "start_time": "2022-11-02T11:37:46.434575",
     "status": "completed"
    },
    "tags": []
   },
   "outputs": [
    {
     "data": {
      "text/html": [
       "<table class=\"dataframe\">\n",
       "<caption>A tibble: 12 × 6</caption>\n",
       "<thead>\n",
       "\t<tr><th scope=col>month</th><th scope=col>count</th><th scope=col>%</th><th scope=col>members_p</th><th scope=col>casual_p</th><th scope=col>Member x Casual Perc Difer</th></tr>\n",
       "\t<tr><th scope=col>&lt;dbl&gt;</th><th scope=col>&lt;int&gt;</th><th scope=col>&lt;dbl&gt;</th><th scope=col>&lt;dbl&gt;</th><th scope=col>&lt;dbl&gt;</th><th scope=col>&lt;dbl&gt;</th></tr>\n",
       "</thead>\n",
       "<tbody>\n",
       "\t<tr><td> 1</td><td> 92035</td><td> 1.806993</td><td>82.07421</td><td>17.92579</td><td>64.148422</td></tr>\n",
       "\t<tr><td> 2</td><td>101631</td><td> 1.995398</td><td>81.61880</td><td>18.38120</td><td>63.237595</td></tr>\n",
       "\t<tr><td> 3</td><td>246675</td><td> 4.843157</td><td>69.48090</td><td>30.51910</td><td>38.961792</td></tr>\n",
       "\t<tr><td> 4</td><td>320988</td><td> 6.302200</td><td>66.77103</td><td>33.22897</td><td>33.542064</td></tr>\n",
       "\t<tr><td> 5</td><td>546559</td><td>10.731006</td><td>57.76375</td><td>42.23625</td><td>15.527509</td></tr>\n",
       "\t<tr><td> 6</td><td>671942</td><td>13.192745</td><td>53.71922</td><td>46.28078</td><td> 7.438440</td></tr>\n",
       "\t<tr><td> 7</td><td>714262</td><td>14.023646</td><td>52.47290</td><td>47.52710</td><td> 4.945804</td></tr>\n",
       "\t<tr><td> 8</td><td>687948</td><td>13.507003</td><td>55.78707</td><td>44.21293</td><td>11.574131</td></tr>\n",
       "\t<tr><td> 9</td><td>616642</td><td>12.106998</td><td>58.72321</td><td>41.27679</td><td>17.446428</td></tr>\n",
       "\t<tr><td>10</td><td>557133</td><td>10.938613</td><td>60.17737</td><td>39.82263</td><td>20.354745</td></tr>\n",
       "\t<tr><td>11</td><td>318485</td><td> 6.253057</td><td>70.24507</td><td>29.75493</td><td>40.490133</td></tr>\n",
       "\t<tr><td>12</td><td>218969</td><td> 4.299184</td><td>71.62201</td><td>28.37799</td><td>43.244021</td></tr>\n",
       "</tbody>\n",
       "</table>\n"
      ],
      "text/latex": [
       "A tibble: 12 × 6\n",
       "\\begin{tabular}{llllll}\n",
       " month & count & \\% & members\\_p & casual\\_p & Member x Casual Perc Difer\\\\\n",
       " <dbl> & <int> & <dbl> & <dbl> & <dbl> & <dbl>\\\\\n",
       "\\hline\n",
       "\t  1 &  92035 &  1.806993 & 82.07421 & 17.92579 & 64.148422\\\\\n",
       "\t  2 & 101631 &  1.995398 & 81.61880 & 18.38120 & 63.237595\\\\\n",
       "\t  3 & 246675 &  4.843157 & 69.48090 & 30.51910 & 38.961792\\\\\n",
       "\t  4 & 320988 &  6.302200 & 66.77103 & 33.22897 & 33.542064\\\\\n",
       "\t  5 & 546559 & 10.731006 & 57.76375 & 42.23625 & 15.527509\\\\\n",
       "\t  6 & 671942 & 13.192745 & 53.71922 & 46.28078 &  7.438440\\\\\n",
       "\t  7 & 714262 & 14.023646 & 52.47290 & 47.52710 &  4.945804\\\\\n",
       "\t  8 & 687948 & 13.507003 & 55.78707 & 44.21293 & 11.574131\\\\\n",
       "\t  9 & 616642 & 12.106998 & 58.72321 & 41.27679 & 17.446428\\\\\n",
       "\t 10 & 557133 & 10.938613 & 60.17737 & 39.82263 & 20.354745\\\\\n",
       "\t 11 & 318485 &  6.253057 & 70.24507 & 29.75493 & 40.490133\\\\\n",
       "\t 12 & 218969 &  4.299184 & 71.62201 & 28.37799 & 43.244021\\\\\n",
       "\\end{tabular}\n"
      ],
      "text/markdown": [
       "\n",
       "A tibble: 12 × 6\n",
       "\n",
       "| month &lt;dbl&gt; | count &lt;int&gt; | % &lt;dbl&gt; | members_p &lt;dbl&gt; | casual_p &lt;dbl&gt; | Member x Casual Perc Difer &lt;dbl&gt; |\n",
       "|---|---|---|---|---|---|\n",
       "|  1 |  92035 |  1.806993 | 82.07421 | 17.92579 | 64.148422 |\n",
       "|  2 | 101631 |  1.995398 | 81.61880 | 18.38120 | 63.237595 |\n",
       "|  3 | 246675 |  4.843157 | 69.48090 | 30.51910 | 38.961792 |\n",
       "|  4 | 320988 |  6.302200 | 66.77103 | 33.22897 | 33.542064 |\n",
       "|  5 | 546559 | 10.731006 | 57.76375 | 42.23625 | 15.527509 |\n",
       "|  6 | 671942 | 13.192745 | 53.71922 | 46.28078 |  7.438440 |\n",
       "|  7 | 714262 | 14.023646 | 52.47290 | 47.52710 |  4.945804 |\n",
       "|  8 | 687948 | 13.507003 | 55.78707 | 44.21293 | 11.574131 |\n",
       "|  9 | 616642 | 12.106998 | 58.72321 | 41.27679 | 17.446428 |\n",
       "| 10 | 557133 | 10.938613 | 60.17737 | 39.82263 | 20.354745 |\n",
       "| 11 | 318485 |  6.253057 | 70.24507 | 29.75493 | 40.490133 |\n",
       "| 12 | 218969 |  4.299184 | 71.62201 | 28.37799 | 43.244021 |\n",
       "\n"
      ],
      "text/plain": [
       "   month count  %         members_p casual_p Member x Casual Perc Difer\n",
       "1   1     92035  1.806993 82.07421  17.92579 64.148422                 \n",
       "2   2    101631  1.995398 81.61880  18.38120 63.237595                 \n",
       "3   3    246675  4.843157 69.48090  30.51910 38.961792                 \n",
       "4   4    320988  6.302200 66.77103  33.22897 33.542064                 \n",
       "5   5    546559 10.731006 57.76375  42.23625 15.527509                 \n",
       "6   6    671942 13.192745 53.71922  46.28078  7.438440                 \n",
       "7   7    714262 14.023646 52.47290  47.52710  4.945804                 \n",
       "8   8    687948 13.507003 55.78707  44.21293 11.574131                 \n",
       "9   9    616642 12.106998 58.72321  41.27679 17.446428                 \n",
       "10 10    557133 10.938613 60.17737  39.82263 20.354745                 \n",
       "11 11    318485  6.253057 70.24507  29.75493 40.490133                 \n",
       "12 12    218969  4.299184 71.62201  28.37799 43.244021                 "
      ]
     },
     "metadata": {},
     "output_type": "display_data"
    }
   ],
   "source": [
    "all_tripdata %>%\n",
    "    group_by(month) %>%\n",
    "    summarise(count = length(ride_id),\n",
    "              '%' = (length(ride_id) / nrow(all_tripdata)) * 100,\n",
    "              'members_p' = (sum(member_casual == \"member\") / length(ride_id)) * 100,\n",
    "              'casual_p' = (sum(member_casual == \"casual\") / length(ride_id)) * 100,\n",
    "              'Member x Casual Perc Difer' = members_p - casual_p)"
   ]
  },
  {
   "cell_type": "code",
   "execution_count": 29,
   "id": "65238617",
   "metadata": {
    "execution": {
     "iopub.execute_input": "2022-11-02T11:37:46.812701Z",
     "iopub.status.busy": "2022-11-02T11:37:46.811508Z",
     "iopub.status.idle": "2022-11-02T11:37:52.760025Z",
     "shell.execute_reply": "2022-11-02T11:37:52.758265Z"
    },
    "papermill": {
     "duration": 5.973342,
     "end_time": "2022-11-02T11:37:52.762761",
     "exception": false,
     "start_time": "2022-11-02T11:37:46.789419",
     "status": "completed"
    },
    "tags": []
   },
   "outputs": [
    {
     "data": {
      "image/png": "[encoded data removed]"
     },
     "metadata": {
      "image/png": {
       "height": 480,
       "width": 960
      }
     },
     "output_type": "display_data"
    }
   ],
   "source": [
    "all_tripdata %>%\n",
    "  ggplot(aes(month, fill=member_casual)) +\n",
    "    geom_bar() +\n",
    "    labs(x=\"Month\", title=\"Chart 02 - Distribution by month\") +\n",
    "    coord_flip()"
   ]
  },
  {
   "cell_type": "markdown",
   "id": "5567c473",
   "metadata": {
    "papermill": {
     "duration": 0.020486,
     "end_time": "2022-11-02T11:37:52.803843",
     "exception": false,
     "start_time": "2022-11-02T11:37:52.783357",
     "status": "completed"
    },
    "tags": []
   },
   "source": [
    "From this chart we can see that\n",
    "\n",
    "* There are more data points in the month of june,july and august.\n",
    "* The month of july has the biggest count of data points with ~14% of the dataset.\n",
    "* In all months we have more members' rides than casual rides (Maybe because of returning members).\n",
    "* The difference of member x casual is smaller in the start semester of 2022."
   ]
  },
  {
   "cell_type": "markdown",
   "id": "3c7e5ae7",
   "metadata": {
    "papermill": {
     "duration": 0.020375,
     "end_time": "2022-11-02T11:37:52.844553",
     "exception": false,
     "start_time": "2022-11-02T11:37:52.824178",
     "status": "completed"
    },
    "tags": []
   },
   "source": [
    "#### Weekday\n",
    "How much of the data is distributed by weekday?\n",
    "\n",
    "Note : 1 - Sunday to 7 - Saturday"
   ]
  },
  {
   "cell_type": "code",
   "execution_count": 30,
   "id": "86a0f2bd",
   "metadata": {
    "execution": {
     "iopub.execute_input": "2022-11-02T11:37:52.891930Z",
     "iopub.status.busy": "2022-11-02T11:37:52.890491Z",
     "iopub.status.idle": "2022-11-02T11:37:53.292753Z",
     "shell.execute_reply": "2022-11-02T11:37:53.290952Z"
    },
    "papermill": {
     "duration": 0.428338,
     "end_time": "2022-11-02T11:37:53.294771",
     "exception": false,
     "start_time": "2022-11-02T11:37:52.866433",
     "status": "completed"
    },
    "tags": []
   },
   "outputs": [
    {
     "data": {
      "text/html": [
       "<table class=\"dataframe\">\n",
       "<caption>A tibble: 7 × 6</caption>\n",
       "<thead>\n",
       "\t<tr><th scope=col>day_of_week</th><th scope=col>count</th><th scope=col>%</th><th scope=col>members_p</th><th scope=col>casual_p</th><th scope=col>Member x Casual Perc Difer</th></tr>\n",
       "\t<tr><th scope=col>&lt;dbl&gt;</th><th scope=col>&lt;int&gt;</th><th scope=col>&lt;dbl&gt;</th><th scope=col>&lt;dbl&gt;</th><th scope=col>&lt;dbl&gt;</th><th scope=col>&lt;dbl&gt;</th></tr>\n",
       "</thead>\n",
       "<tbody>\n",
       "\t<tr><td>1</td><td>682131</td><td>13.39279</td><td>51.14326</td><td>48.85674</td><td> 2.2865109</td></tr>\n",
       "\t<tr><td>2</td><td>655618</td><td>12.87224</td><td>64.24137</td><td>35.75863</td><td>28.4827445</td></tr>\n",
       "\t<tr><td>3</td><td>722630</td><td>14.18794</td><td>67.02490</td><td>32.97510</td><td>34.0497903</td></tr>\n",
       "\t<tr><td>4</td><td>727153</td><td>14.27674</td><td>66.23654</td><td>33.76346</td><td>32.4730834</td></tr>\n",
       "\t<tr><td>5</td><td>740052</td><td>14.53000</td><td>64.02091</td><td>35.97909</td><td>28.0418133</td></tr>\n",
       "\t<tr><td>6</td><td>742271</td><td>14.57357</td><td>59.09459</td><td>40.90541</td><td>18.1891789</td></tr>\n",
       "\t<tr><td>7</td><td>823414</td><td>16.16671</td><td>49.66347</td><td>50.33653</td><td>-0.6730515</td></tr>\n",
       "</tbody>\n",
       "</table>\n"
      ],
      "text/latex": [
       "A tibble: 7 × 6\n",
       "\\begin{tabular}{llllll}\n",
       " day\\_of\\_week & count & \\% & members\\_p & casual\\_p & Member x Casual Perc Difer\\\\\n",
       " <dbl> & <int> & <dbl> & <dbl> & <dbl> & <dbl>\\\\\n",
       "\\hline\n",
       "\t 1 & 682131 & 13.39279 & 51.14326 & 48.85674 &  2.2865109\\\\\n",
       "\t 2 & 655618 & 12.87224 & 64.24137 & 35.75863 & 28.4827445\\\\\n",
       "\t 3 & 722630 & 14.18794 & 67.02490 & 32.97510 & 34.0497903\\\\\n",
       "\t 4 & 727153 & 14.27674 & 66.23654 & 33.76346 & 32.4730834\\\\\n",
       "\t 5 & 740052 & 14.53000 & 64.02091 & 35.97909 & 28.0418133\\\\\n",
       "\t 6 & 742271 & 14.57357 & 59.09459 & 40.90541 & 18.1891789\\\\\n",
       "\t 7 & 823414 & 16.16671 & 49.66347 & 50.33653 & -0.6730515\\\\\n",
       "\\end{tabular}\n"
      ],
      "text/markdown": [
       "\n",
       "A tibble: 7 × 6\n",
       "\n",
       "| day_of_week &lt;dbl&gt; | count &lt;int&gt; | % &lt;dbl&gt; | members_p &lt;dbl&gt; | casual_p &lt;dbl&gt; | Member x Casual Perc Difer &lt;dbl&gt; |\n",
       "|---|---|---|---|---|---|\n",
       "| 1 | 682131 | 13.39279 | 51.14326 | 48.85674 |  2.2865109 |\n",
       "| 2 | 655618 | 12.87224 | 64.24137 | 35.75863 | 28.4827445 |\n",
       "| 3 | 722630 | 14.18794 | 67.02490 | 32.97510 | 34.0497903 |\n",
       "| 4 | 727153 | 14.27674 | 66.23654 | 33.76346 | 32.4730834 |\n",
       "| 5 | 740052 | 14.53000 | 64.02091 | 35.97909 | 28.0418133 |\n",
       "| 6 | 742271 | 14.57357 | 59.09459 | 40.90541 | 18.1891789 |\n",
       "| 7 | 823414 | 16.16671 | 49.66347 | 50.33653 | -0.6730515 |\n",
       "\n"
      ],
      "text/plain": [
       "  day_of_week count  %        members_p casual_p Member x Casual Perc Difer\n",
       "1 1           682131 13.39279 51.14326  48.85674  2.2865109                \n",
       "2 2           655618 12.87224 64.24137  35.75863 28.4827445                \n",
       "3 3           722630 14.18794 67.02490  32.97510 34.0497903                \n",
       "4 4           727153 14.27674 66.23654  33.76346 32.4730834                \n",
       "5 5           740052 14.53000 64.02091  35.97909 28.0418133                \n",
       "6 6           742271 14.57357 59.09459  40.90541 18.1891789                \n",
       "7 7           823414 16.16671 49.66347  50.33653 -0.6730515                "
      ]
     },
     "metadata": {},
     "output_type": "display_data"
    }
   ],
   "source": [
    "all_tripdata %>%\n",
    "    group_by(day_of_week) %>% \n",
    "    summarise(count = length(ride_id),\n",
    "              '%' = (length(ride_id) / nrow(all_tripdata)) * 100,\n",
    "              'members_p' = (sum(member_casual == \"member\") / length(ride_id)) * 100,\n",
    "              'casual_p' = (sum(member_casual == \"casual\") / length(ride_id)) * 100,\n",
    "              'Member x Casual Perc Difer' = members_p - casual_p)"
   ]
  },
  {
   "cell_type": "code",
   "execution_count": 31,
   "id": "9f1e1749",
   "metadata": {
    "execution": {
     "iopub.execute_input": "2022-11-02T11:37:53.341415Z",
     "iopub.status.busy": "2022-11-02T11:37:53.339891Z",
     "iopub.status.idle": "2022-11-02T11:37:59.188655Z",
     "shell.execute_reply": "2022-11-02T11:37:59.186851Z"
    },
    "papermill": {
     "duration": 5.875188,
     "end_time": "2022-11-02T11:37:59.191139",
     "exception": false,
     "start_time": "2022-11-02T11:37:53.315951",
     "status": "completed"
    },
    "tags": []
   },
   "outputs": [
    {
     "data": {
      "image/png": "[encoded data removed]"
     },
     "metadata": {
      "image/png": {
       "height": 480,
       "width": 960
      }
     },
     "output_type": "display_data"
    }
   ],
   "source": [
    "ggplot(all_tripdata, aes(day_of_week, fill=member_casual)) +\n",
    "    geom_bar() +\n",
    "    labs(x=\"Weekday\", title=\"Chart 03 - Distribution by weekday\") +\n",
    "    coord_flip()"
   ]
  },
  {
   "cell_type": "markdown",
   "id": "fce2b8e6",
   "metadata": {
    "papermill": {
     "duration": 0.022119,
     "end_time": "2022-11-02T11:37:59.235183",
     "exception": false,
     "start_time": "2022-11-02T11:37:59.213064",
     "status": "completed"
    },
    "tags": []
   },
   "source": [
    "We can see that:\n",
    "\n",
    "* Saturday has the biggest data points.\n",
    "* Members may have the biggest volume of data, besides on saturday. On this weekday, casual take place as having most data points.\n",
    "* Weekends have the biggest volume of casual, starting on friday."
   ]
  },
  {
   "cell_type": "markdown",
   "id": "a32d8cc0",
   "metadata": {
    "papermill": {
     "duration": 0.021597,
     "end_time": "2022-11-02T11:37:59.278520",
     "exception": false,
     "start_time": "2022-11-02T11:37:59.256923",
     "status": "completed"
    },
    "tags": []
   },
   "source": [
    "#### Hour of the day"
   ]
  },
  {
   "cell_type": "code",
   "execution_count": 32,
   "id": "2869a7a1",
   "metadata": {
    "execution": {
     "iopub.execute_input": "2022-11-02T11:37:59.324959Z",
     "iopub.status.busy": "2022-11-02T11:37:59.323814Z",
     "iopub.status.idle": "2022-11-02T11:37:59.877844Z",
     "shell.execute_reply": "2022-11-02T11:37:59.876041Z"
    },
    "papermill": {
     "duration": 0.579838,
     "end_time": "2022-11-02T11:37:59.880007",
     "exception": false,
     "start_time": "2022-11-02T11:37:59.300169",
     "status": "completed"
    },
    "tags": []
   },
   "outputs": [
    {
     "data": {
      "text/html": [
       "<table class=\"dataframe\">\n",
       "<caption>A tibble: 24 × 6</caption>\n",
       "<thead>\n",
       "\t<tr><th scope=col>hour</th><th scope=col>count</th><th scope=col>%</th><th scope=col>members_p</th><th scope=col>casual_p</th><th scope=col>member_casual_perc_difer</th></tr>\n",
       "\t<tr><th scope=col>&lt;int&gt;</th><th scope=col>&lt;int&gt;</th><th scope=col>&lt;dbl&gt;</th><th scope=col>&lt;dbl&gt;</th><th scope=col>&lt;dbl&gt;</th><th scope=col>&lt;dbl&gt;</th></tr>\n",
       "</thead>\n",
       "<tbody>\n",
       "\t<tr><td> 0</td><td> 74346</td><td> 1.4596912</td><td>43.36212</td><td>56.63788</td><td>-13.2757647</td></tr>\n",
       "\t<tr><td> 1</td><td> 47719</td><td> 0.9369032</td><td>42.07548</td><td>57.92452</td><td>-15.8490329</td></tr>\n",
       "\t<tr><td> 2</td><td> 29047</td><td> 0.5703017</td><td>39.52904</td><td>60.47096</td><td>-20.9419217</td></tr>\n",
       "\t<tr><td> 3</td><td> 17194</td><td> 0.3375828</td><td>40.29894</td><td>59.70106</td><td>-19.4021170</td></tr>\n",
       "\t<tr><td> 4</td><td> 14922</td><td> 0.2929749</td><td>51.92333</td><td>48.07667</td><td>  3.8466693</td></tr>\n",
       "\t<tr><td> 5</td><td> 40967</td><td> 0.8043361</td><td>72.39974</td><td>27.60026</td><td> 44.7994727</td></tr>\n",
       "\t<tr><td> 6</td><td>107354</td><td> 2.1077622</td><td>75.90681</td><td>24.09319</td><td> 51.8136259</td></tr>\n",
       "\t<tr><td> 7</td><td>205878</td><td> 4.0421584</td><td>77.13889</td><td>22.86111</td><td> 54.2777762</td></tr>\n",
       "\t<tr><td> 8</td><td>249344</td><td> 4.8955592</td><td>75.18248</td><td>24.81752</td><td> 50.3649576</td></tr>\n",
       "\t<tr><td> 9</td><td>194094</td><td> 3.8107942</td><td>67.63836</td><td>32.36164</td><td> 35.2767216</td></tr>\n",
       "\t<tr><td>10</td><td>202786</td><td> 3.9814508</td><td>61.14229</td><td>38.85771</td><td> 22.2845759</td></tr>\n",
       "\t<tr><td>11</td><td>250261</td><td> 4.9135634</td><td>59.16903</td><td>40.83097</td><td> 18.3380551</td></tr>\n",
       "\t<tr><td>12</td><td>291834</td><td> 5.7297975</td><td>58.41711</td><td>41.58289</td><td> 16.8342277</td></tr>\n",
       "\t<tr><td>13</td><td>296591</td><td> 5.8231953</td><td>57.21515</td><td>42.78485</td><td> 14.4303098</td></tr>\n",
       "\t<tr><td>14</td><td>303423</td><td> 5.9573331</td><td>55.56599</td><td>44.43401</td><td> 11.1319841</td></tr>\n",
       "\t<tr><td>15</td><td>352037</td><td> 6.9118085</td><td>56.90851</td><td>43.09149</td><td> 13.8170136</td></tr>\n",
       "\t<tr><td>16</td><td>436807</td><td> 8.5761620</td><td>60.99628</td><td>39.00372</td><td> 21.9925505</td></tr>\n",
       "\t<tr><td>17</td><td>517377</td><td>10.1580537</td><td>62.27239</td><td>37.72761</td><td> 24.5447710</td></tr>\n",
       "\t<tr><td>18</td><td>441444</td><td> 8.6672037</td><td>59.73578</td><td>40.26422</td><td> 19.4715525</td></tr>\n",
       "\t<tr><td>19</td><td>325789</td><td> 6.3964617</td><td>58.09742</td><td>41.90258</td><td> 16.1948378</td></tr>\n",
       "\t<tr><td>20</td><td>233323</td><td> 4.5810068</td><td>56.91938</td><td>43.08062</td><td> 13.8387557</td></tr>\n",
       "\t<tr><td>21</td><td>190675</td><td> 3.7436664</td><td>54.18802</td><td>45.81198</td><td>  8.3760325</td></tr>\n",
       "\t<tr><td>22</td><td>158948</td><td> 3.1207462</td><td>49.93834</td><td>50.06166</td><td> -0.1233108</td></tr>\n",
       "\t<tr><td>23</td><td>111109</td><td> 2.1814870</td><td>46.73879</td><td>53.26121</td><td> -6.5224239</td></tr>\n",
       "</tbody>\n",
       "</table>\n"
      ],
      "text/latex": [
       "A tibble: 24 × 6\n",
       "\\begin{tabular}{llllll}\n",
       " hour & count & \\% & members\\_p & casual\\_p & member\\_casual\\_perc\\_difer\\\\\n",
       " <int> & <int> & <dbl> & <dbl> & <dbl> & <dbl>\\\\\n",
       "\\hline\n",
       "\t  0 &  74346 &  1.4596912 & 43.36212 & 56.63788 & -13.2757647\\\\\n",
       "\t  1 &  47719 &  0.9369032 & 42.07548 & 57.92452 & -15.8490329\\\\\n",
       "\t  2 &  29047 &  0.5703017 & 39.52904 & 60.47096 & -20.9419217\\\\\n",
       "\t  3 &  17194 &  0.3375828 & 40.29894 & 59.70106 & -19.4021170\\\\\n",
       "\t  4 &  14922 &  0.2929749 & 51.92333 & 48.07667 &   3.8466693\\\\\n",
       "\t  5 &  40967 &  0.8043361 & 72.39974 & 27.60026 &  44.7994727\\\\\n",
       "\t  6 & 107354 &  2.1077622 & 75.90681 & 24.09319 &  51.8136259\\\\\n",
       "\t  7 & 205878 &  4.0421584 & 77.13889 & 22.86111 &  54.2777762\\\\\n",
       "\t  8 & 249344 &  4.8955592 & 75.18248 & 24.81752 &  50.3649576\\\\\n",
       "\t  9 & 194094 &  3.8107942 & 67.63836 & 32.36164 &  35.2767216\\\\\n",
       "\t 10 & 202786 &  3.9814508 & 61.14229 & 38.85771 &  22.2845759\\\\\n",
       "\t 11 & 250261 &  4.9135634 & 59.16903 & 40.83097 &  18.3380551\\\\\n",
       "\t 12 & 291834 &  5.7297975 & 58.41711 & 41.58289 &  16.8342277\\\\\n",
       "\t 13 & 296591 &  5.8231953 & 57.21515 & 42.78485 &  14.4303098\\\\\n",
       "\t 14 & 303423 &  5.9573331 & 55.56599 & 44.43401 &  11.1319841\\\\\n",
       "\t 15 & 352037 &  6.9118085 & 56.90851 & 43.09149 &  13.8170136\\\\\n",
       "\t 16 & 436807 &  8.5761620 & 60.99628 & 39.00372 &  21.9925505\\\\\n",
       "\t 17 & 517377 & 10.1580537 & 62.27239 & 37.72761 &  24.5447710\\\\\n",
       "\t 18 & 441444 &  8.6672037 & 59.73578 & 40.26422 &  19.4715525\\\\\n",
       "\t 19 & 325789 &  6.3964617 & 58.09742 & 41.90258 &  16.1948378\\\\\n",
       "\t 20 & 233323 &  4.5810068 & 56.91938 & 43.08062 &  13.8387557\\\\\n",
       "\t 21 & 190675 &  3.7436664 & 54.18802 & 45.81198 &   8.3760325\\\\\n",
       "\t 22 & 158948 &  3.1207462 & 49.93834 & 50.06166 &  -0.1233108\\\\\n",
       "\t 23 & 111109 &  2.1814870 & 46.73879 & 53.26121 &  -6.5224239\\\\\n",
       "\\end{tabular}\n"
      ],
      "text/markdown": [
       "\n",
       "A tibble: 24 × 6\n",
       "\n",
       "| hour &lt;int&gt; | count &lt;int&gt; | % &lt;dbl&gt; | members_p &lt;dbl&gt; | casual_p &lt;dbl&gt; | member_casual_perc_difer &lt;dbl&gt; |\n",
       "|---|---|---|---|---|---|\n",
       "|  0 |  74346 |  1.4596912 | 43.36212 | 56.63788 | -13.2757647 |\n",
       "|  1 |  47719 |  0.9369032 | 42.07548 | 57.92452 | -15.8490329 |\n",
       "|  2 |  29047 |  0.5703017 | 39.52904 | 60.47096 | -20.9419217 |\n",
       "|  3 |  17194 |  0.3375828 | 40.29894 | 59.70106 | -19.4021170 |\n",
       "|  4 |  14922 |  0.2929749 | 51.92333 | 48.07667 |   3.8466693 |\n",
       "|  5 |  40967 |  0.8043361 | 72.39974 | 27.60026 |  44.7994727 |\n",
       "|  6 | 107354 |  2.1077622 | 75.90681 | 24.09319 |  51.8136259 |\n",
       "|  7 | 205878 |  4.0421584 | 77.13889 | 22.86111 |  54.2777762 |\n",
       "|  8 | 249344 |  4.8955592 | 75.18248 | 24.81752 |  50.3649576 |\n",
       "|  9 | 194094 |  3.8107942 | 67.63836 | 32.36164 |  35.2767216 |\n",
       "| 10 | 202786 |  3.9814508 | 61.14229 | 38.85771 |  22.2845759 |\n",
       "| 11 | 250261 |  4.9135634 | 59.16903 | 40.83097 |  18.3380551 |\n",
       "| 12 | 291834 |  5.7297975 | 58.41711 | 41.58289 |  16.8342277 |\n",
       "| 13 | 296591 |  5.8231953 | 57.21515 | 42.78485 |  14.4303098 |\n",
       "| 14 | 303423 |  5.9573331 | 55.56599 | 44.43401 |  11.1319841 |\n",
       "| 15 | 352037 |  6.9118085 | 56.90851 | 43.09149 |  13.8170136 |\n",
       "| 16 | 436807 |  8.5761620 | 60.99628 | 39.00372 |  21.9925505 |\n",
       "| 17 | 517377 | 10.1580537 | 62.27239 | 37.72761 |  24.5447710 |\n",
       "| 18 | 441444 |  8.6672037 | 59.73578 | 40.26422 |  19.4715525 |\n",
       "| 19 | 325789 |  6.3964617 | 58.09742 | 41.90258 |  16.1948378 |\n",
       "| 20 | 233323 |  4.5810068 | 56.91938 | 43.08062 |  13.8387557 |\n",
       "| 21 | 190675 |  3.7436664 | 54.18802 | 45.81198 |   8.3760325 |\n",
       "| 22 | 158948 |  3.1207462 | 49.93834 | 50.06166 |  -0.1233108 |\n",
       "| 23 | 111109 |  2.1814870 | 46.73879 | 53.26121 |  -6.5224239 |\n",
       "\n"
      ],
      "text/plain": [
       "   hour count  %          members_p casual_p member_casual_perc_difer\n",
       "1   0    74346  1.4596912 43.36212  56.63788 -13.2757647             \n",
       "2   1    47719  0.9369032 42.07548  57.92452 -15.8490329             \n",
       "3   2    29047  0.5703017 39.52904  60.47096 -20.9419217             \n",
       "4   3    17194  0.3375828 40.29894  59.70106 -19.4021170             \n",
       "5   4    14922  0.2929749 51.92333  48.07667   3.8466693             \n",
       "6   5    40967  0.8043361 72.39974  27.60026  44.7994727             \n",
       "7   6   107354  2.1077622 75.90681  24.09319  51.8136259             \n",
       "8   7   205878  4.0421584 77.13889  22.86111  54.2777762             \n",
       "9   8   249344  4.8955592 75.18248  24.81752  50.3649576             \n",
       "10  9   194094  3.8107942 67.63836  32.36164  35.2767216             \n",
       "11 10   202786  3.9814508 61.14229  38.85771  22.2845759             \n",
       "12 11   250261  4.9135634 59.16903  40.83097  18.3380551             \n",
       "13 12   291834  5.7297975 58.41711  41.58289  16.8342277             \n",
       "14 13   296591  5.8231953 57.21515  42.78485  14.4303098             \n",
       "15 14   303423  5.9573331 55.56599  44.43401  11.1319841             \n",
       "16 15   352037  6.9118085 56.90851  43.09149  13.8170136             \n",
       "17 16   436807  8.5761620 60.99628  39.00372  21.9925505             \n",
       "18 17   517377 10.1580537 62.27239  37.72761  24.5447710             \n",
       "19 18   441444  8.6672037 59.73578  40.26422  19.4715525             \n",
       "20 19   325789  6.3964617 58.09742  41.90258  16.1948378             \n",
       "21 20   233323  4.5810068 56.91938  43.08062  13.8387557             \n",
       "22 21   190675  3.7436664 54.18802  45.81198   8.3760325             \n",
       "23 22   158948  3.1207462 49.93834  50.06166  -0.1233108             \n",
       "24 23   111109  2.1814870 46.73879  53.26121  -6.5224239             "
      ]
     },
     "metadata": {},
     "output_type": "display_data"
    }
   ],
   "source": [
    "all_tripdata %>%\n",
    "    group_by(hour) %>% \n",
    "    summarise(count = length(ride_id),\n",
    "          '%' = (length(ride_id) / nrow(all_tripdata)) * 100,\n",
    "          'members_p' = (sum(member_casual == \"member\") / length(ride_id)) * 100,\n",
    "          'casual_p' = (sum(member_casual == \"casual\") / length(ride_id)) * 100,\n",
    "          'member_casual_perc_difer' = members_p - casual_p)"
   ]
  },
  {
   "cell_type": "code",
   "execution_count": 33,
   "id": "b4c298b3",
   "metadata": {
    "execution": {
     "iopub.execute_input": "2022-11-02T11:37:59.927293Z",
     "iopub.status.busy": "2022-11-02T11:37:59.926089Z",
     "iopub.status.idle": "2022-11-02T11:38:06.023813Z",
     "shell.execute_reply": "2022-11-02T11:38:06.022511Z"
    },
    "papermill": {
     "duration": 6.123777,
     "end_time": "2022-11-02T11:38:06.025890",
     "exception": false,
     "start_time": "2022-11-02T11:37:59.902113",
     "status": "completed"
    },
    "tags": []
   },
   "outputs": [
    {
     "data": {
      "image/png": "[encoded data removed]"
     },
     "metadata": {
      "image/png": {
       "height": 480,
       "width": 960
      }
     },
     "output_type": "display_data"
    }
   ],
   "source": [
    "all_tripdata %>%\n",
    "    ggplot(aes(hour, fill=member_casual)) +\n",
    "    labs(x=\"Hour of the day\", title=\"Chart 04 - Distribution by hour of the day\") +\n",
    "    geom_bar()"
   ]
  },
  {
   "cell_type": "markdown",
   "id": "03077e9c",
   "metadata": {
    "papermill": {
     "duration": 0.023023,
     "end_time": "2022-11-02T11:38:06.073183",
     "exception": false,
     "start_time": "2022-11-02T11:38:06.050160",
     "status": "completed"
    },
    "tags": []
   },
   "source": [
    "From this Chart we can see that:\n",
    "* 5PM has the biggest number of data points.\n",
    "* Most of the hours, we have more members data points except between 11PM to 3AM.\n",
    "\n",
    "This chart can be expanded by dividing it by weekday"
   ]
  },
  {
   "cell_type": "code",
   "execution_count": 34,
   "id": "eb0c6e05",
   "metadata": {
    "execution": {
     "iopub.execute_input": "2022-11-02T11:38:06.123058Z",
     "iopub.status.busy": "2022-11-02T11:38:06.121683Z",
     "iopub.status.idle": "2022-11-02T11:38:17.076709Z",
     "shell.execute_reply": "2022-11-02T11:38:17.075398Z"
    },
    "papermill": {
     "duration": 10.982624,
     "end_time": "2022-11-02T11:38:17.079706",
     "exception": false,
     "start_time": "2022-11-02T11:38:06.097082",
     "status": "completed"
    },
    "tags": []
   },
   "outputs": [
    {
     "data": {
      "image/png": "[encoded data removed]"
     },
     "metadata": {
      "image/png": {
       "height": 480,
       "width": 960
      }
     },
     "output_type": "display_data"
    }
   ],
   "source": [
    "all_tripdata %>%\n",
    "    ggplot(aes(hour, fill=member_casual),fig(10,10)) +\n",
    "    geom_bar() +\n",
    "    labs(x=\"Hour of the day\", title=\"Chart 05 - Distribution by hour of the day divided by weekday\") +\n",
    "    facet_wrap(~ day_of_week)"
   ]
  },
  {
   "cell_type": "markdown",
   "id": "0260a04c",
   "metadata": {
    "papermill": {
     "duration": 0.02477,
     "end_time": "2022-11-02T11:38:17.129940",
     "exception": false,
     "start_time": "2022-11-02T11:38:17.105170",
     "status": "completed"
    },
    "tags": []
   },
   "source": [
    "#### Rideable type"
   ]
  },
  {
   "cell_type": "code",
   "execution_count": 35,
   "id": "8f17d2e4",
   "metadata": {
    "execution": {
     "iopub.execute_input": "2022-11-02T11:38:17.180816Z",
     "iopub.status.busy": "2022-11-02T11:38:17.179497Z",
     "iopub.status.idle": "2022-11-02T11:38:17.536421Z",
     "shell.execute_reply": "2022-11-02T11:38:17.535115Z"
    },
    "papermill": {
     "duration": 0.384572,
     "end_time": "2022-11-02T11:38:17.538654",
     "exception": false,
     "start_time": "2022-11-02T11:38:17.154082",
     "status": "completed"
    },
    "tags": []
   },
   "outputs": [
    {
     "data": {
      "text/html": [
       "<table class=\"dataframe\">\n",
       "<caption>A tibble: 3 × 6</caption>\n",
       "<thead>\n",
       "\t<tr><th scope=col>rideable_type</th><th scope=col>count</th><th scope=col>%</th><th scope=col>members_p</th><th scope=col>casual_p</th><th scope=col>member_casual_perc_difer</th></tr>\n",
       "\t<tr><th scope=col>&lt;chr&gt;</th><th scope=col>&lt;int&gt;</th><th scope=col>&lt;dbl&gt;</th><th scope=col>&lt;dbl&gt;</th><th scope=col>&lt;dbl&gt;</th><th scope=col>&lt;dbl&gt;</th></tr>\n",
       "</thead>\n",
       "<tbody>\n",
       "\t<tr><td>classic_bike </td><td>2420182</td><td>47.517262</td><td>67.23775</td><td> 32.76225</td><td>  34.47551</td></tr>\n",
       "\t<tr><td>docked_bike  </td><td> 130414</td><td> 2.560517</td><td> 0.00000</td><td>100.00000</td><td>-100.00000</td></tr>\n",
       "\t<tr><td>electric_bike</td><td>2542673</td><td>49.922221</td><td>56.24455</td><td> 43.75545</td><td>  12.48910</td></tr>\n",
       "</tbody>\n",
       "</table>\n"
      ],
      "text/latex": [
       "A tibble: 3 × 6\n",
       "\\begin{tabular}{llllll}\n",
       " rideable\\_type & count & \\% & members\\_p & casual\\_p & member\\_casual\\_perc\\_difer\\\\\n",
       " <chr> & <int> & <dbl> & <dbl> & <dbl> & <dbl>\\\\\n",
       "\\hline\n",
       "\t classic\\_bike  & 2420182 & 47.517262 & 67.23775 &  32.76225 &   34.47551\\\\\n",
       "\t docked\\_bike   &  130414 &  2.560517 &  0.00000 & 100.00000 & -100.00000\\\\\n",
       "\t electric\\_bike & 2542673 & 49.922221 & 56.24455 &  43.75545 &   12.48910\\\\\n",
       "\\end{tabular}\n"
      ],
      "text/markdown": [
       "\n",
       "A tibble: 3 × 6\n",
       "\n",
       "| rideable_type &lt;chr&gt; | count &lt;int&gt; | % &lt;dbl&gt; | members_p &lt;dbl&gt; | casual_p &lt;dbl&gt; | member_casual_perc_difer &lt;dbl&gt; |\n",
       "|---|---|---|---|---|---|\n",
       "| classic_bike  | 2420182 | 47.517262 | 67.23775 |  32.76225 |   34.47551 |\n",
       "| docked_bike   |  130414 |  2.560517 |  0.00000 | 100.00000 | -100.00000 |\n",
       "| electric_bike | 2542673 | 49.922221 | 56.24455 |  43.75545 |   12.48910 |\n",
       "\n"
      ],
      "text/plain": [
       "  rideable_type count   %         members_p casual_p  member_casual_perc_difer\n",
       "1 classic_bike  2420182 47.517262 67.23775   32.76225   34.47551              \n",
       "2 docked_bike    130414  2.560517  0.00000  100.00000 -100.00000              \n",
       "3 electric_bike 2542673 49.922221 56.24455   43.75545   12.48910              "
      ]
     },
     "metadata": {},
     "output_type": "display_data"
    }
   ],
   "source": [
    "all_tripdata %>%\n",
    "    group_by(rideable_type) %>% \n",
    "    summarise(count = length(ride_id),\n",
    "          '%' = (length(ride_id) / nrow(all_tripdata)) * 100,\n",
    "          'members_p' = (sum(member_casual == \"member\") / length(ride_id)) * 100,\n",
    "          'casual_p' = (sum(member_casual == \"casual\") / length(ride_id)) * 100,\n",
    "          'member_casual_perc_difer' = members_p - casual_p)"
   ]
  },
  {
   "cell_type": "code",
   "execution_count": 36,
   "id": "7d439f19",
   "metadata": {
    "execution": {
     "iopub.execute_input": "2022-11-02T11:38:17.588664Z",
     "iopub.status.busy": "2022-11-02T11:38:17.587363Z",
     "iopub.status.idle": "2022-11-02T11:38:20.714043Z",
     "shell.execute_reply": "2022-11-02T11:38:20.712173Z"
    },
    "papermill": {
     "duration": 3.15497,
     "end_time": "2022-11-02T11:38:20.717024",
     "exception": false,
     "start_time": "2022-11-02T11:38:17.562054",
     "status": "completed"
    },
    "tags": []
   },
   "outputs": [
    {
     "data": {
      "image/png": "[encoded data removed]"
     },
     "metadata": {
      "image/png": {
       "height": 480,
       "width": 960
      }
     },
     "output_type": "display_data"
    }
   ],
   "source": [
    "ggplot(all_tripdata, aes(rideable_type, fill=member_casual)) +\n",
    "    labs(x=\"Rideable type\", title=\"Chart 07 - Distribution of types of bikes\") +\n",
    "    geom_bar() +\n",
    "    coord_flip()"
   ]
  },
  {
   "cell_type": "markdown",
   "id": "2a5c071d",
   "metadata": {
    "papermill": {
     "duration": 0.026009,
     "end_time": "2022-11-02T11:38:20.769077",
     "exception": false,
     "start_time": "2022-11-02T11:38:20.743068",
     "status": "completed"
    },
    "tags": []
   },
   "source": [
    "Its interesting to see that :\n",
    "* Docked bikes are only used by casual riders and even that only is <3% of the total. This could also mean that the number of docked bike are less.\n",
    "* Classic bikes are preferred by members more.(~35% more than casual)\n",
    "* Electric bikes are the most used bikes with ~50% of the total."
   ]
  },
  {
   "cell_type": "code",
   "execution_count": 37,
   "id": "2d50f26f",
   "metadata": {
    "execution": {
     "iopub.execute_input": "2022-11-02T11:38:20.823404Z",
     "iopub.status.busy": "2022-11-02T11:38:20.822089Z",
     "iopub.status.idle": "2022-11-02T11:38:21.277189Z",
     "shell.execute_reply": "2022-11-02T11:38:21.275961Z"
    },
    "papermill": {
     "duration": 0.4842,
     "end_time": "2022-11-02T11:38:21.278997",
     "exception": false,
     "start_time": "2022-11-02T11:38:20.794797",
     "status": "completed"
    },
    "tags": []
   },
   "outputs": [
    {
     "data": {
      "text/html": [
       "<table class=\"dataframe\">\n",
       "<caption>A tibble: 2 × 6</caption>\n",
       "<thead>\n",
       "\t<tr><th scope=col>member_casual</th><th scope=col>mean</th><th scope=col>first_quarter</th><th scope=col>median</th><th scope=col>third_quarter</th><th scope=col>IR</th></tr>\n",
       "\t<tr><th scope=col>&lt;chr&gt;</th><th scope=col>&lt;dbl&gt;</th><th scope=col>&lt;dbl&gt;</th><th scope=col>&lt;dbl&gt;</th><th scope=col>&lt;dbl&gt;</th><th scope=col>&lt;dbl&gt;</th></tr>\n",
       "</thead>\n",
       "<tbody>\n",
       "\t<tr><td>casual</td><td>893.8725</td><td>420</td><td>720</td><td>1200</td><td>780</td></tr>\n",
       "\t<tr><td>member</td><td>705.0943</td><td>360</td><td>540</td><td> 900</td><td>540</td></tr>\n",
       "</tbody>\n",
       "</table>\n"
      ],
      "text/latex": [
       "A tibble: 2 × 6\n",
       "\\begin{tabular}{llllll}\n",
       " member\\_casual & mean & first\\_quarter & median & third\\_quarter & IR\\\\\n",
       " <chr> & <dbl> & <dbl> & <dbl> & <dbl> & <dbl>\\\\\n",
       "\\hline\n",
       "\t casual & 893.8725 & 420 & 720 & 1200 & 780\\\\\n",
       "\t member & 705.0943 & 360 & 540 &  900 & 540\\\\\n",
       "\\end{tabular}\n"
      ],
      "text/markdown": [
       "\n",
       "A tibble: 2 × 6\n",
       "\n",
       "| member_casual &lt;chr&gt; | mean &lt;dbl&gt; | first_quarter &lt;dbl&gt; | median &lt;dbl&gt; | third_quarter &lt;dbl&gt; | IR &lt;dbl&gt; |\n",
       "|---|---|---|---|---|---|\n",
       "| casual | 893.8725 | 420 | 720 | 1200 | 780 |\n",
       "| member | 705.0943 | 360 | 540 |  900 | 540 |\n",
       "\n"
      ],
      "text/plain": [
       "  member_casual mean     first_quarter median third_quarter IR \n",
       "1 casual        893.8725 420           720    1200          780\n",
       "2 member        705.0943 360           540     900          540"
      ]
     },
     "metadata": {},
     "output_type": "display_data"
    }
   ],
   "source": [
    "all_tripdata %>% \n",
    "    group_by(member_casual) %>% \n",
    "    summarise(mean = mean(ride_length),\n",
    "              'first_quarter' = as.numeric(quantile(ride_length, .25)),\n",
    "              'median' = median(ride_length),\n",
    "              'third_quarter' = as.numeric(quantile(ride_length, .75)),\n",
    "              'IR' = third_quarter - first_quarter)"
   ]
  },
  {
   "cell_type": "code",
   "execution_count": 38,
   "id": "5065cbb5",
   "metadata": {
    "execution": {
     "iopub.execute_input": "2022-11-02T11:38:21.332279Z",
     "iopub.status.busy": "2022-11-02T11:38:21.330965Z",
     "iopub.status.idle": "2022-11-02T11:38:32.160774Z",
     "shell.execute_reply": "2022-11-02T11:38:32.159581Z"
    },
    "papermill": {
     "duration": 10.859282,
     "end_time": "2022-11-02T11:38:32.163559",
     "exception": false,
     "start_time": "2022-11-02T11:38:21.304277",
     "status": "completed"
    },
    "tags": []
   },
   "outputs": [
    {
     "data": {
      "image/png": "[encoded data removed]"
     },
     "metadata": {
      "image/png": {
       "height": 480,
       "width": 960
      }
     },
     "output_type": "display_data"
    }
   ],
   "source": [
    "ggplot(all_tripdata, aes(x=member_casual, y=ride_length, fill=member_casual)) +\n",
    "    labs(x=\"Member x Casual\", y=\"Riding time\", title=\"Chart 08 - Distribution of Riding time for Casual x Member\") +\n",
    "    geom_boxplot()"
   ]
  },
  {
   "cell_type": "markdown",
   "id": "da6fde53",
   "metadata": {
    "papermill": {
     "duration": 0.025891,
     "end_time": "2022-11-02T11:38:32.215347",
     "exception": false,
     "start_time": "2022-11-02T11:38:32.189456",
     "status": "completed"
    },
    "tags": []
   },
   "source": [
    "It's important to note that:\n",
    "\n",
    "* Casual have more riding time thant members.\n",
    "* Mean and IQR is also bigger for casual.\n",
    "\n",
    "Let's see if we can extract more informations when ploting with weekday."
   ]
  },
  {
   "cell_type": "code",
   "execution_count": 39,
   "id": "99c39895",
   "metadata": {
    "execution": {
     "iopub.execute_input": "2022-11-02T11:38:32.268139Z",
     "iopub.status.busy": "2022-11-02T11:38:32.266777Z",
     "iopub.status.idle": "2022-11-02T11:38:46.413496Z",
     "shell.execute_reply": "2022-11-02T11:38:46.412192Z"
    },
    "papermill": {
     "duration": 14.175971,
     "end_time": "2022-11-02T11:38:46.415968",
     "exception": false,
     "start_time": "2022-11-02T11:38:32.239997",
     "status": "completed"
    },
    "tags": []
   },
   "outputs": [
    {
     "data": {
      "image/png": "[encoded data removed]"
     },
     "metadata": {
      "image/png": {
       "height": 480,
       "width": 960
      }
     },
     "output_type": "display_data"
    }
   ],
   "source": [
    "ggplot(all_tripdata, aes(x=member_casual, y=ride_length, fill=member_casual)) +\n",
    "    geom_boxplot() +\n",
    "    facet_wrap(~ day_of_week) +\n",
    "    labs(x=\"Weekday\", y=\"Riding time\", title=\"Chart 09 - Distribution of Riding time for day of the week\") +\n",
    "    coord_flip()"
   ]
  },
  {
   "cell_type": "markdown",
   "id": "9223b12a",
   "metadata": {
    "papermill": {
     "duration": 0.025663,
     "end_time": "2022-11-02T11:38:46.468073",
     "exception": false,
     "start_time": "2022-11-02T11:38:46.442410",
     "status": "completed"
    },
    "tags": []
   },
   "source": [
    "* Through out the week Casual have more riding time than members\n",
    "* Both Casual and Members have more riding time during the weekend."
   ]
  },
  {
   "cell_type": "code",
   "execution_count": 40,
   "id": "c4bd82c5",
   "metadata": {
    "execution": {
     "iopub.execute_input": "2022-11-02T11:38:46.522493Z",
     "iopub.status.busy": "2022-11-02T11:38:46.521155Z",
     "iopub.status.idle": "2022-11-02T11:38:59.638662Z",
     "shell.execute_reply": "2022-11-02T11:38:59.637408Z"
    },
    "papermill": {
     "duration": 13.147362,
     "end_time": "2022-11-02T11:38:59.641070",
     "exception": false,
     "start_time": "2022-11-02T11:38:46.493708",
     "status": "completed"
    },
    "tags": []
   },
   "outputs": [
    {
     "data": {
      "image/png": "[encoded data removed]"
     },
     "metadata": {
      "image/png": {
       "height": 480,
       "width": 960
      }
     },
     "output_type": "display_data"
    }
   ],
   "source": [
    "ggplot(all_tripdata, aes(x=rideable_type, y=ride_length, fill=member_casual)) +\n",
    "    geom_boxplot() +\n",
    "    facet_wrap(~ member_casual) +\n",
    "    labs(x=\"Rideable type\", y=\"Riding time\", title=\"Chart 10 - Distribution of Riding time for rideeable type\") +\n",
    "    coord_flip()"
   ]
  },
  {
   "cell_type": "markdown",
   "id": "48edfcc9",
   "metadata": {
    "papermill": {
     "duration": 0.026649,
     "end_time": "2022-11-02T11:38:59.694783",
     "exception": false,
     "start_time": "2022-11-02T11:38:59.668134",
     "status": "completed"
    },
    "tags": []
   },
   "source": [
    "<a id=\"analyze-guiding\"></a>\n",
    "## Guiding questions\n",
    "\n",
    "* **How should you organize your data to perform analysis on it?**\n",
    "\n",
    "The data has been organized into a single CSV concatenating all the files from the dataset.\n",
    "\n",
    "* **Has your data been properly formatted?**\n",
    "\n",
    "Yes, all the columns have their correct data type.\n",
    "\n",
    "* **What surprises did you discover in the data?**\n",
    "\n",
    "One of the main surprises is how members differ from casuals when analysed from weekdays. Also that members have less riding time than casual.\n",
    "\n",
    "* **What trends or relationships did you find in the data?**\n",
    "    * There are more members than casuals in the dataset.\n",
    "    * There are more data points in the last semester of 2020.\n",
    "    * There are more of a difference between the flow of members/casual from midweek to weekends.\n",
    "    * Members use bikes on schedules that differs from casual.\n",
    "    * Members have less riding time.\n",
    "    * Members tend to prefer docked bikes.\n",
    "\n",
    "\n",
    "* **How will these insights help answer your business questions?**\n",
    "\n",
    "This insights helps to build a profile for members."
   ]
  },
  {
   "cell_type": "markdown",
   "id": "80e46479",
   "metadata": {
    "papermill": {
     "duration": 0.0265,
     "end_time": "2022-11-02T11:38:59.747444",
     "exception": false,
     "start_time": "2022-11-02T11:38:59.720944",
     "status": "completed"
    },
    "tags": []
   },
   "source": [
    "<a id=\"analyze-key\"></a>\n",
    "## Key tasks\n",
    "\n",
    "- [x] Aggregate your data so it’s useful and accessible.\n",
    "- [x] Organize and format your data.\n",
    "- [x] Perform calculations.\n",
    "- [x] Identify trends and relationships."
   ]
  },
  {
   "cell_type": "markdown",
   "id": "5226fec5",
   "metadata": {
    "papermill": {
     "duration": 0.027411,
     "end_time": "2022-11-02T11:38:59.802214",
     "exception": false,
     "start_time": "2022-11-02T11:38:59.774803",
     "status": "completed"
    },
    "tags": []
   },
   "source": [
    "<a id=\"analyze-deliverable\"></a>\n",
    "## Deliverable\n",
    "\n",
    "- [x] A summary of your analysis"
   ]
  },
  {
   "cell_type": "markdown",
   "id": "1dcd5c3c",
   "metadata": {
    "papermill": {
     "duration": 0.026772,
     "end_time": "2022-11-02T11:38:59.855934",
     "exception": false,
     "start_time": "2022-11-02T11:38:59.829162",
     "status": "completed"
    },
    "tags": []
   },
   "source": [
    "<a id=\"share\"></a>\n",
    "# Share "
   ]
  },
  {
   "cell_type": "markdown",
   "id": "a05f8212",
   "metadata": {
    "papermill": {
     "duration": 0.027348,
     "end_time": "2022-11-02T11:38:59.910008",
     "exception": false,
     "start_time": "2022-11-02T11:38:59.882660",
     "status": "completed"
    },
    "tags": []
   },
   "source": [
    "The share phase is used to show the stakeholders our findings by preparing the summary and building aesthetic data visualization. But here at kaggle the best representation is its Notebook.\n",
    "\n",
    "Let's go through the main finds and try to arrive at a conclusion.\n",
    "\n",
    "What we know about the dataset:\n",
    "\n",
    "* Members have the biggest proportion of the dataset, ~20% bigger thand casuals.\n",
    "* There's more data points in the month of June, July and August of 2022.\n",
    "* The month with the biggest count of data points was July with ~14% of the dataset.\n",
    "* In all months we have more members' rides than casual rides.\n",
    "* The difference of proporcion of member x casual is smaller in the month of June and July of 2022.\n",
    "* The biggest volume of data is on the the weekend.\n",
    "* There's a bigger volume of bikers between 3PM and 6PM.\n",
    "* Docked bikes have the least number of data points and its only used by casual bikers. This could also mean that the company has limited number of docked bikes.\n",
    "\n",
    "It's possible to notice that the distribution of rides by month is cyclical through years. The remaining question is: Why are there more members than casual? One plausible answer is that members have a bigger need for the bikes than casuals, as can be seen on how there are more members than casuals in the months of June, July and August.\n",
    "\n",
    "Besides that, we have more bike rides on the weekends. Maybe because on those days the bikes were utilized for more recreational ways. This even more plausible when knowing that There's a bigger volume of bikers between 3PM and 6PM.\n",
    "\n",
    "Now for how members differs from casuals:\n",
    "\n",
    "* Members may have the biggest volume of data, besides on saturday. On this weekday, casuals take place as having the most data points.\n",
    "* Weekends have the biggest volume of casuals, starting on friday, a ~20% increase.\n",
    "* We have more members during the morning, mainly between 5am and 11am. And more casuals between 11pm and 4am.\n",
    "* There's a big increase of data points in the midweek between 6am to 8am for members. Then it fell a bit. Another big increase is from 5pm to 6pm.\n",
    "* During the weekend we have a bigger flow of casuals between 11am to 6pm.\n",
    "* Members have a bigger preference for classic bikes, 56% more.\n",
    "* Casuals have more riding time than members.\n",
    "* Riding time for members keeps unchanged during the midweek, increasing during weekends.\n",
    "* Casuals follow a more curve distribution, peaking on sundays and valleying on wednesday/thursday.\n",
    "* Docked bikes are only used by casual bikers.\n",
    "\n",
    "What we can take from this information is that members have a more fixed use for bikes besides casuals. Their uses is for more routine activities, like:\n",
    "\n",
    "* Go to work.\n",
    "* Use it as an exercise.\n",
    "\n",
    "This can be proven we state that we have more members in between 5am to 8am. Also, members may have set routes when using the bikes, as proven by riding time for members keeps unchanged during the midweek, increasing during weekends. The bikes is also heavily used for recreation on the weekends, when riding time increases and casuals take place.\n",
    "\n",
    "Members also have a bigger preference for electric bikes, so they can exercise when going to work.\n",
    "\n",
    "Concluding:\n",
    "\n",
    "* Members use the bikes for fixed activities, one of those is going to work.\n",
    "* Bikes are used for recreation on the weekends.\n",
    "* Casual bikers ride_time is more than that of member bikers.\n",
    "\n"
   ]
  },
  {
   "cell_type": "markdown",
   "id": "b984f909",
   "metadata": {
    "papermill": {
     "duration": 0.026449,
     "end_time": "2022-11-02T11:38:59.962737",
     "exception": false,
     "start_time": "2022-11-02T11:38:59.936288",
     "status": "completed"
    },
    "tags": []
   },
   "source": [
    "<a id=\"share-guiding\"></a>\n",
    "### Guiding questions\n",
    "\n",
    "* **Were you able to answer the question of how annual members and casual riders use Cyclistic bikes differently?**\n",
    "\n",
    "Yes. The data points shows several differences between casuals and members.\n",
    "\n",
    "* **What story does your data tell?**\n",
    "\n",
    "The main story the data tells is that members have set schedules, as seen on chart 06 on key timestamps. Those timestamps point out that members use the bikes for routine activities, like going to work. Charts like 08 also point out that they have less riding time, because they have a set route to take.\n",
    "\n",
    "* **How do your findings relate to your original question?**\n",
    "\n",
    "The findings build a profile for members, relating to \"Find the keys differences between casuals and annual riders\", also knowing when they use the bikes helps to find \"How digital media could influence them\".\n",
    "\n",
    "* **Who is your audience? What is the best way to communicate with them?**\n",
    "\n",
    "The main target audience is my cyclistic marketing analytics team and Lily Moreno. The best way to communicate is through a slide presentation of the findings.\n",
    "\n",
    "* **Can data visualization help you share your findings?**\n",
    "\n",
    "Yes, the main core of the finds is through data visualization.\n",
    "\n",
    "* **Is your presentation accessible to your audience?**\n",
    "\n",
    "Yes, the plots were made using vibrant colors, and corresponding labels."
   ]
  },
  {
   "cell_type": "markdown",
   "id": "5712bf9c",
   "metadata": {
    "papermill": {
     "duration": 0.027009,
     "end_time": "2022-11-02T11:39:00.015858",
     "exception": false,
     "start_time": "2022-11-02T11:38:59.988849",
     "status": "completed"
    },
    "tags": []
   },
   "source": [
    "<a id=\"share-key\"></a>\n",
    "### Key tasks\n",
    "\n",
    "* [x] Determine the best way to share your findings.\n",
    "* [x] Create effective data visualizations.\n",
    "* [x] Present your findings.\n",
    "* [x] Ensure your work is accessible."
   ]
  },
  {
   "cell_type": "markdown",
   "id": "d2085ccf",
   "metadata": {
    "papermill": {
     "duration": 0.027031,
     "end_time": "2022-11-02T11:39:00.069805",
     "exception": false,
     "start_time": "2022-11-02T11:39:00.042774",
     "status": "completed"
    },
    "tags": []
   },
   "source": [
    "<a id=\"share-deliverable\"></a>\n",
    "### Deliverable\n",
    "\n",
    "* [x] Supporting visualizations and key findings"
   ]
  },
  {
   "cell_type": "markdown",
   "id": "5c020530",
   "metadata": {
    "papermill": {
     "duration": 0.027302,
     "end_time": "2022-11-02T11:39:00.124125",
     "exception": false,
     "start_time": "2022-11-02T11:39:00.096823",
     "status": "completed"
    },
    "tags": []
   },
   "source": [
    "<a id=\"act\"></a>\n",
    "# Act\n",
    "The act phase would be done by the marketing team of the company. The main takeaway will be the top three recommendations for the marketing."
   ]
  },
  {
   "cell_type": "markdown",
   "id": "e5f1a06d",
   "metadata": {
    "papermill": {
     "duration": 0.025765,
     "end_time": "2022-11-02T11:39:00.175422",
     "exception": false,
     "start_time": "2022-11-02T11:39:00.149657",
     "status": "completed"
    },
    "tags": []
   },
   "source": [
    "<a id=\"act-guiding\"></a>\n",
    "### Guiding questions\n",
    "* **What is your final conclusion based on your analysis?**\n",
    "\n",
    "Members and casual have different habits when using the bikes. The conclusion is further stated on the share phase.\n",
    "\n",
    "* **How could your team and business apply your insights?**\n",
    "\n",
    "The insights could be implemented when preparing a marketing campaign for turning casual into members. The marketing can have a focus on workers as a green way to get to work.\n",
    "\n",
    "* **What next steps would you or your stakeholders take based on your findings?**\n",
    "\n",
    "Further analysis could be done to improve the findings, besides that, the marketing team can take the main information to build a marketing campaign.\n",
    "\n",
    "* **Is there additional data you could use to expand on your findings?**\n",
    "\n",
    "Mobility data.\n",
    "climate data.\n",
    "More information members."
   ]
  },
  {
   "cell_type": "markdown",
   "id": "fc7f80ee",
   "metadata": {
    "papermill": {
     "duration": 0.026238,
     "end_time": "2022-11-02T11:39:00.227565",
     "exception": false,
     "start_time": "2022-11-02T11:39:00.201327",
     "status": "completed"
    },
    "tags": []
   },
   "source": [
    "<a id=\"act-key\"></a>\n",
    "### Key tasks\n",
    "\n",
    "* [x] Create your portfolio.\n",
    "* [x] Add your case study.\n",
    "* [x] Practice presenting your case study to a friend or family member."
   ]
  },
  {
   "cell_type": "markdown",
   "id": "0a0e0e77",
   "metadata": {
    "papermill": {
     "duration": 0.025263,
     "end_time": "2022-11-02T11:39:00.278626",
     "exception": false,
     "start_time": "2022-11-02T11:39:00.253363",
     "status": "completed"
    },
    "tags": []
   },
   "source": [
    "<a id=\"act-deliverable\"></a>\n",
    "### Deliverable\n",
    "\n",
    "* Your top three recommendations based on your analysis\n",
    "\n",
    "1. Build a marketing campaign focusing on show how bikes help people to get to work, while maintaining the planet green and avoid traffic. The ads could be show on professional social networks.\n",
    "2. Increase benefits for riding during cold months. Coupons and discounts could be handed out.\n",
    "3. As the bikes are also used for recreations on the weekends, ads campaigns could also be made showing people using the bikes for exercise during the weeks. The ads could focus on how practical and consistent the bikes can be."
   ]
  },
  {
   "cell_type": "markdown",
   "id": "621c2525",
   "metadata": {
    "papermill": {
     "duration": 0.027165,
     "end_time": "2022-11-02T11:39:00.330881",
     "exception": false,
     "start_time": "2022-11-02T11:39:00.303716",
     "status": "completed"
    },
    "tags": []
   },
   "source": [
    "<a id=\"conclusion\"></a>\n",
    "# Conclusion\n",
    "The Google Analytics Professional Certificate teached me a lot and the R language is really useful for analysing data (although I prefer preffer pandas). This took me more time than I expected, but it was fun."
   ]
  }
 ],
 "metadata": {
  "kernelspec": {
   "display_name": "R",
   "language": "R",
   "name": "ir"
  },
  "language_info": {
   "codemirror_mode": "r",
   "file_extension": ".r",
   "mimetype": "text/x-r-source",
   "name": "R",
   "pygments_lexer": "r",
   "version": "4.0.5"
  },
  "papermill": {
   "default_parameters": {},
   "duration": 153.672722,
   "end_time": "2022-11-02T11:39:00.678134",
   "environment_variables": {},
   "exception": null,
   "input_path": "__notebook__.ipynb",
   "output_path": "__notebook__.ipynb",
   "parameters": {},
   "start_time": "2022-11-02T11:36:27.005412",
   "version": "2.4.0"
  }
 },
 "nbformat": 4,
 "nbformat_minor": 5
}
